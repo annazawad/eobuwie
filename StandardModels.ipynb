{
 "cells": [
  {
   "cell_type": "markdown",
   "id": "865cdb3e",
   "metadata": {},
   "source": [
    "# PCA"
   ]
  },
  {
   "cell_type": "code",
   "execution_count": 1,
   "id": "c0fee20d",
   "metadata": {},
   "outputs": [],
   "source": [
    "import pandas as pd\n",
    "import numpy as np\n",
    "import pickle\n",
    "\n",
    "#data for standars ML models\n",
    "data = pickle.load(open('data_img_200_200.pickle',mode='rb'))"
   ]
  },
  {
   "cell_type": "code",
   "execution_count": 2,
   "id": "080454d0",
   "metadata": {},
   "outputs": [],
   "source": [
    "data.dropna(how = 'any', inplace = True)"
   ]
  },
  {
   "cell_type": "code",
   "execution_count": 3,
   "id": "b8a68a42",
   "metadata": {},
   "outputs": [],
   "source": [
    "y = data['category']\n",
    "X = data.drop(columns='category')"
   ]
  },
  {
   "cell_type": "code",
   "execution_count": 4,
   "id": "36e14448",
   "metadata": {},
   "outputs": [
    {
     "data": {
      "text/html": [
       "<style>#sk-container-id-1 {color: black;background-color: white;}#sk-container-id-1 pre{padding: 0;}#sk-container-id-1 div.sk-toggleable {background-color: white;}#sk-container-id-1 label.sk-toggleable__label {cursor: pointer;display: block;width: 100%;margin-bottom: 0;padding: 0.3em;box-sizing: border-box;text-align: center;}#sk-container-id-1 label.sk-toggleable__label-arrow:before {content: \"▸\";float: left;margin-right: 0.25em;color: #696969;}#sk-container-id-1 label.sk-toggleable__label-arrow:hover:before {color: black;}#sk-container-id-1 div.sk-estimator:hover label.sk-toggleable__label-arrow:before {color: black;}#sk-container-id-1 div.sk-toggleable__content {max-height: 0;max-width: 0;overflow: hidden;text-align: left;background-color: #f0f8ff;}#sk-container-id-1 div.sk-toggleable__content pre {margin: 0.2em;color: black;border-radius: 0.25em;background-color: #f0f8ff;}#sk-container-id-1 input.sk-toggleable__control:checked~div.sk-toggleable__content {max-height: 200px;max-width: 100%;overflow: auto;}#sk-container-id-1 input.sk-toggleable__control:checked~label.sk-toggleable__label-arrow:before {content: \"▾\";}#sk-container-id-1 div.sk-estimator input.sk-toggleable__control:checked~label.sk-toggleable__label {background-color: #d4ebff;}#sk-container-id-1 div.sk-label input.sk-toggleable__control:checked~label.sk-toggleable__label {background-color: #d4ebff;}#sk-container-id-1 input.sk-hidden--visually {border: 0;clip: rect(1px 1px 1px 1px);clip: rect(1px, 1px, 1px, 1px);height: 1px;margin: -1px;overflow: hidden;padding: 0;position: absolute;width: 1px;}#sk-container-id-1 div.sk-estimator {font-family: monospace;background-color: #f0f8ff;border: 1px dotted black;border-radius: 0.25em;box-sizing: border-box;margin-bottom: 0.5em;}#sk-container-id-1 div.sk-estimator:hover {background-color: #d4ebff;}#sk-container-id-1 div.sk-parallel-item::after {content: \"\";width: 100%;border-bottom: 1px solid gray;flex-grow: 1;}#sk-container-id-1 div.sk-label:hover label.sk-toggleable__label {background-color: #d4ebff;}#sk-container-id-1 div.sk-serial::before {content: \"\";position: absolute;border-left: 1px solid gray;box-sizing: border-box;top: 0;bottom: 0;left: 50%;z-index: 0;}#sk-container-id-1 div.sk-serial {display: flex;flex-direction: column;align-items: center;background-color: white;padding-right: 0.2em;padding-left: 0.2em;position: relative;}#sk-container-id-1 div.sk-item {position: relative;z-index: 1;}#sk-container-id-1 div.sk-parallel {display: flex;align-items: stretch;justify-content: center;background-color: white;position: relative;}#sk-container-id-1 div.sk-item::before, #sk-container-id-1 div.sk-parallel-item::before {content: \"\";position: absolute;border-left: 1px solid gray;box-sizing: border-box;top: 0;bottom: 0;left: 50%;z-index: -1;}#sk-container-id-1 div.sk-parallel-item {display: flex;flex-direction: column;z-index: 1;position: relative;background-color: white;}#sk-container-id-1 div.sk-parallel-item:first-child::after {align-self: flex-end;width: 50%;}#sk-container-id-1 div.sk-parallel-item:last-child::after {align-self: flex-start;width: 50%;}#sk-container-id-1 div.sk-parallel-item:only-child::after {width: 0;}#sk-container-id-1 div.sk-dashed-wrapped {border: 1px dashed gray;margin: 0 0.4em 0.5em 0.4em;box-sizing: border-box;padding-bottom: 0.4em;background-color: white;}#sk-container-id-1 div.sk-label label {font-family: monospace;font-weight: bold;display: inline-block;line-height: 1.2em;}#sk-container-id-1 div.sk-label-container {text-align: center;}#sk-container-id-1 div.sk-container {/* jupyter's `normalize.less` sets `[hidden] { display: none; }` but bootstrap.min.css set `[hidden] { display: none !important; }` so we also need the `!important` here to be able to override the default hidden behavior on the sphinx rendered scikit-learn.org. See: https://github.com/scikit-learn/scikit-learn/issues/21755 */display: inline-block !important;position: relative;}#sk-container-id-1 div.sk-text-repr-fallback {display: none;}</style><div id=\"sk-container-id-1\" class=\"sk-top-container\"><div class=\"sk-text-repr-fallback\"><pre>PCA(whiten=True)</pre><b>In a Jupyter environment, please rerun this cell to show the HTML representation or trust the notebook. <br />On GitHub, the HTML representation is unable to render, please try loading this page with nbviewer.org.</b></div><div class=\"sk-container\" hidden><div class=\"sk-item\"><div class=\"sk-estimator sk-toggleable\"><input class=\"sk-toggleable__control sk-hidden--visually\" id=\"sk-estimator-id-1\" type=\"checkbox\" checked><label for=\"sk-estimator-id-1\" class=\"sk-toggleable__label sk-toggleable__label-arrow\">PCA</label><div class=\"sk-toggleable__content\"><pre>PCA(whiten=True)</pre></div></div></div></div></div>"
      ],
      "text/plain": [
       "PCA(whiten=True)"
      ]
     },
     "execution_count": 4,
     "metadata": {},
     "output_type": "execute_result"
    }
   ],
   "source": [
    "from sklearn.decomposition import PCA\n",
    "\n",
    "#performing PCA to shink the dimension of columns (pixels)\n",
    "pca = PCA(n_components=None,whiten=True,svd_solver = 'auto')\n",
    "pca.fit(X)"
   ]
  },
  {
   "cell_type": "code",
   "execution_count": 5,
   "id": "2f8937f4",
   "metadata": {},
   "outputs": [
    {
     "data": {
      "text/html": [
       "<div>\n",
       "<style scoped>\n",
       "    .dataframe tbody tr th:only-of-type {\n",
       "        vertical-align: middle;\n",
       "    }\n",
       "\n",
       "    .dataframe tbody tr th {\n",
       "        vertical-align: top;\n",
       "    }\n",
       "\n",
       "    .dataframe thead th {\n",
       "        text-align: right;\n",
       "    }\n",
       "</style>\n",
       "<table border=\"1\" class=\"dataframe\">\n",
       "  <thead>\n",
       "    <tr style=\"text-align: right;\">\n",
       "      <th></th>\n",
       "      <th>explained_var</th>\n",
       "      <th>cum_explained_var</th>\n",
       "      <th>principal_com</th>\n",
       "    </tr>\n",
       "  </thead>\n",
       "  <tbody>\n",
       "    <tr>\n",
       "      <th>0</th>\n",
       "      <td>0.326377</td>\n",
       "      <td>0.326377</td>\n",
       "      <td>1</td>\n",
       "    </tr>\n",
       "    <tr>\n",
       "      <th>1</th>\n",
       "      <td>0.127245</td>\n",
       "      <td>0.453622</td>\n",
       "      <td>2</td>\n",
       "    </tr>\n",
       "    <tr>\n",
       "      <th>2</th>\n",
       "      <td>0.087147</td>\n",
       "      <td>0.540769</td>\n",
       "      <td>3</td>\n",
       "    </tr>\n",
       "    <tr>\n",
       "      <th>3</th>\n",
       "      <td>0.044251</td>\n",
       "      <td>0.585020</td>\n",
       "      <td>4</td>\n",
       "    </tr>\n",
       "    <tr>\n",
       "      <th>4</th>\n",
       "      <td>0.026229</td>\n",
       "      <td>0.611249</td>\n",
       "      <td>5</td>\n",
       "    </tr>\n",
       "    <tr>\n",
       "      <th>5</th>\n",
       "      <td>0.023359</td>\n",
       "      <td>0.634607</td>\n",
       "      <td>6</td>\n",
       "    </tr>\n",
       "    <tr>\n",
       "      <th>6</th>\n",
       "      <td>0.018181</td>\n",
       "      <td>0.652788</td>\n",
       "      <td>7</td>\n",
       "    </tr>\n",
       "    <tr>\n",
       "      <th>7</th>\n",
       "      <td>0.013584</td>\n",
       "      <td>0.666372</td>\n",
       "      <td>8</td>\n",
       "    </tr>\n",
       "    <tr>\n",
       "      <th>8</th>\n",
       "      <td>0.012613</td>\n",
       "      <td>0.678985</td>\n",
       "      <td>9</td>\n",
       "    </tr>\n",
       "    <tr>\n",
       "      <th>9</th>\n",
       "      <td>0.010761</td>\n",
       "      <td>0.689746</td>\n",
       "      <td>10</td>\n",
       "    </tr>\n",
       "  </tbody>\n",
       "</table>\n",
       "</div>"
      ],
      "text/plain": [
       "   explained_var  cum_explained_var  principal_com\n",
       "0       0.326377           0.326377              1\n",
       "1       0.127245           0.453622              2\n",
       "2       0.087147           0.540769              3\n",
       "3       0.044251           0.585020              4\n",
       "4       0.026229           0.611249              5\n",
       "5       0.023359           0.634607              6\n",
       "6       0.018181           0.652788              7\n",
       "7       0.013584           0.666372              8\n",
       "8       0.012613           0.678985              9\n",
       "9       0.010761           0.689746             10"
      ]
     },
     "execution_count": 5,
     "metadata": {},
     "output_type": "execute_result"
    }
   ],
   "source": [
    "expl_var_df = pd.DataFrame()\n",
    "expl_var_df['explained_var']=pca.explained_variance_ratio_\n",
    "expl_var_df['cum_explained_var']=expl_var_df['explained_var'].cumsum()\n",
    "expl_var_df['principal_com'] = np.arange(1,len(expl_var_df)+1)\n",
    "expl_var_df.head(10)"
   ]
  },
  {
   "cell_type": "code",
   "execution_count": 6,
   "id": "f86f991d",
   "metadata": {},
   "outputs": [],
   "source": [
    "expl_var_df.set_index('principal_com',inplace=True)"
   ]
  },
  {
   "cell_type": "code",
   "execution_count": 8,
   "id": "a5436ee0",
   "metadata": {},
   "outputs": [
    {
     "data": {
      "text/plain": [
       "<AxesSubplot:xlabel='principal_com'>"
      ]
     },
     "execution_count": 8,
     "metadata": {},
     "output_type": "execute_result"
    },
    {
     "data": {
      "image/png": "[encoded data removed]",
      "text/plain": [
       "<Figure size 1080x1440 with 2 Axes>"
      ]
     },
     "metadata": {
      "needs_background": "light"
     },
     "output_type": "display_data"
    }
   ],
   "source": [
    "import matplotlib.pyplot as plt\n",
    "fig,ax = plt.subplots(nrows = 2, figsize=(15,20))\n",
    "expl_var_df['explained_var'].head(80).plot(kind='line',marker = 'o', ax=ax[0])\n",
    "expl_var_df['cum_explained_var'].head(80).plot(kind='line',marker = 'o', ax=ax[1])"
   ]
  },
  {
   "cell_type": "code",
   "execution_count": 9,
   "id": "299d3a1f",
   "metadata": {},
   "outputs": [],
   "source": [
    "#we have to set the number of components to explain at least 80% of variance so 50 components will be totally enough\n",
    "\n",
    "from sklearn.decomposition import PCA\n",
    "pca_70 = PCA(n_components=70,whiten=True,svd_solver = 'auto')\n",
    "pca_data = pca_70.fit_transform(X)"
   ]
  },
  {
   "cell_type": "markdown",
   "id": "33da2991",
   "metadata": {},
   "source": [
    "# Data preparation"
   ]
  },
  {
   "cell_type": "code",
   "execution_count": 10,
   "id": "451c5506",
   "metadata": {},
   "outputs": [],
   "source": [
    "from sklearn.model_selection import train_test_split"
   ]
  },
  {
   "cell_type": "code",
   "execution_count": 14,
   "id": "c58967d8",
   "metadata": {},
   "outputs": [],
   "source": [
    "dict_names = {'klapki-i-sandaly':1, 'polbuty':2, 'sportowe':3, 'kozaki-i-inne':4}"
   ]
  },
  {
   "cell_type": "code",
   "execution_count": 15,
   "id": "a832fd7c",
   "metadata": {},
   "outputs": [],
   "source": [
    "y = y.apply(lambda row: dict_names[row])"
   ]
  },
  {
   "cell_type": "code",
   "execution_count": 16,
   "id": "70b3cd23",
   "metadata": {},
   "outputs": [
    {
     "name": "stdout",
     "output_type": "stream",
     "text": [
      "(7999, 70) (2000, 70) (7999,) (2000,)\n"
     ]
    }
   ],
   "source": [
    "X = pca_data #we feed the model with dataset after PCA\n",
    "\n",
    "#split the data\n",
    "X_train, X_test, y_train, y_test = train_test_split(X,y,test_size=0.2,stratify=y)\n",
    "print(X_train.shape, X_test.shape, y_train.shape, y_test.shape)"
   ]
  },
  {
   "cell_type": "markdown",
   "id": "4ffc823d",
   "metadata": {},
   "source": [
    "## SVC "
   ]
  },
  {
   "cell_type": "code",
   "execution_count": 17,
   "id": "8f052902",
   "metadata": {},
   "outputs": [],
   "source": [
    "from sklearn.svm import SVC\n",
    "from sklearn.model_selection import GridSearchCV\n",
    "from sklearn import metrics"
   ]
  },
  {
   "cell_type": "code",
   "execution_count": 18,
   "id": "819a7214",
   "metadata": {},
   "outputs": [],
   "source": [
    "model_svc = SVC(probability=True)\n",
    "\n",
    "param_grid = {'C':[0.1,0.5,1,10,50,100],\n",
    "             'kernel':['rbf','poly'],\n",
    "             'gamma':[0.1,0.05,0.01,0.001]}"
   ]
  },
  {
   "cell_type": "code",
   "execution_count": 19,
   "id": "4ee2ad78",
   "metadata": {},
   "outputs": [
    {
     "name": "stdout",
     "output_type": "stream",
     "text": [
      "Fitting 3 folds for each of 48 candidates, totalling 144 fits\n",
      "[CV] END .......................C=0.1, gamma=0.1, kernel=rbf; total time=  17.2s\n",
      "[CV] END .......................C=0.1, gamma=0.1, kernel=rbf; total time=  15.3s\n",
      "[CV] END .......................C=0.1, gamma=0.1, kernel=rbf; total time=  15.9s\n",
      "[CV] END ......................C=0.1, gamma=0.1, kernel=poly; total time=   6.0s\n",
      "[CV] END ......................C=0.1, gamma=0.1, kernel=poly; total time=   5.8s\n",
      "[CV] END ......................C=0.1, gamma=0.1, kernel=poly; total time=   5.6s\n",
      "[CV] END ......................C=0.1, gamma=0.05, kernel=rbf; total time=  20.1s\n",
      "[CV] END ......................C=0.1, gamma=0.05, kernel=rbf; total time=  19.0s\n",
      "[CV] END ......................C=0.1, gamma=0.05, kernel=rbf; total time=  17.6s\n",
      "[CV] END .....................C=0.1, gamma=0.05, kernel=poly; total time=   6.7s\n",
      "[CV] END .....................C=0.1, gamma=0.05, kernel=poly; total time=   6.6s\n",
      "[CV] END .....................C=0.1, gamma=0.05, kernel=poly; total time=   7.1s\n",
      "[CV] END ......................C=0.1, gamma=0.01, kernel=rbf; total time=  12.7s\n",
      "[CV] END ......................C=0.1, gamma=0.01, kernel=rbf; total time=  13.9s\n",
      "[CV] END ......................C=0.1, gamma=0.01, kernel=rbf; total time=  13.0s\n",
      "[CV] END .....................C=0.1, gamma=0.01, kernel=poly; total time=   9.6s\n",
      "[CV] END .....................C=0.1, gamma=0.01, kernel=poly; total time=  10.6s\n",
      "[CV] END .....................C=0.1, gamma=0.01, kernel=poly; total time=  12.8s\n",
      "[CV] END .....................C=0.1, gamma=0.001, kernel=rbf; total time=  18.9s\n",
      "[CV] END .....................C=0.1, gamma=0.001, kernel=rbf; total time=  15.6s\n",
      "[CV] END .....................C=0.1, gamma=0.001, kernel=rbf; total time=  15.4s\n",
      "[CV] END ....................C=0.1, gamma=0.001, kernel=poly; total time=  10.3s\n",
      "[CV] END ....................C=0.1, gamma=0.001, kernel=poly; total time=  11.6s\n",
      "[CV] END ....................C=0.1, gamma=0.001, kernel=poly; total time=  11.1s\n",
      "[CV] END .......................C=0.5, gamma=0.1, kernel=rbf; total time=  14.8s\n",
      "[CV] END .......................C=0.5, gamma=0.1, kernel=rbf; total time=  18.6s\n",
      "[CV] END .......................C=0.5, gamma=0.1, kernel=rbf; total time=  17.7s\n",
      "[CV] END ......................C=0.5, gamma=0.1, kernel=poly; total time=   5.3s\n",
      "[CV] END ......................C=0.5, gamma=0.1, kernel=poly; total time=   5.2s\n",
      "[CV] END ......................C=0.5, gamma=0.1, kernel=poly; total time=   5.0s\n",
      "[CV] END ......................C=0.5, gamma=0.05, kernel=rbf; total time=  13.2s\n",
      "[CV] END ......................C=0.5, gamma=0.05, kernel=rbf; total time=  14.3s\n",
      "[CV] END ......................C=0.5, gamma=0.05, kernel=rbf; total time=  15.3s\n",
      "[CV] END .....................C=0.5, gamma=0.05, kernel=poly; total time=   5.8s\n",
      "[CV] END .....................C=0.5, gamma=0.05, kernel=poly; total time=   5.5s\n",
      "[CV] END .....................C=0.5, gamma=0.05, kernel=poly; total time=   5.4s\n",
      "[CV] END ......................C=0.5, gamma=0.01, kernel=rbf; total time=   7.4s\n",
      "[CV] END ......................C=0.5, gamma=0.01, kernel=rbf; total time=   9.0s\n",
      "[CV] END ......................C=0.5, gamma=0.01, kernel=rbf; total time=   9.7s\n",
      "[CV] END .....................C=0.5, gamma=0.01, kernel=poly; total time=  10.3s\n",
      "[CV] END .....................C=0.5, gamma=0.01, kernel=poly; total time=   9.0s\n",
      "[CV] END .....................C=0.5, gamma=0.01, kernel=poly; total time=   8.3s\n",
      "[CV] END .....................C=0.5, gamma=0.001, kernel=rbf; total time=   9.7s\n",
      "[CV] END .....................C=0.5, gamma=0.001, kernel=rbf; total time=   9.7s\n",
      "[CV] END .....................C=0.5, gamma=0.001, kernel=rbf; total time=   9.9s\n",
      "[CV] END ....................C=0.5, gamma=0.001, kernel=poly; total time=  11.0s\n",
      "[CV] END ....................C=0.5, gamma=0.001, kernel=poly; total time=  10.4s\n",
      "[CV] END ....................C=0.5, gamma=0.001, kernel=poly; total time=   9.7s\n",
      "[CV] END .........................C=1, gamma=0.1, kernel=rbf; total time=  17.7s\n",
      "[CV] END .........................C=1, gamma=0.1, kernel=rbf; total time=  19.5s\n",
      "[CV] END .........................C=1, gamma=0.1, kernel=rbf; total time=  16.6s\n",
      "[CV] END ........................C=1, gamma=0.1, kernel=poly; total time=   4.9s\n",
      "[CV] END ........................C=1, gamma=0.1, kernel=poly; total time=   5.0s\n",
      "[CV] END ........................C=1, gamma=0.1, kernel=poly; total time=   4.9s\n",
      "[CV] END ........................C=1, gamma=0.05, kernel=rbf; total time=  14.3s\n",
      "[CV] END ........................C=1, gamma=0.05, kernel=rbf; total time=  15.2s\n",
      "[CV] END ........................C=1, gamma=0.05, kernel=rbf; total time=  15.2s\n",
      "[CV] END .......................C=1, gamma=0.05, kernel=poly; total time=   5.0s\n",
      "[CV] END .......................C=1, gamma=0.05, kernel=poly; total time=   5.2s\n",
      "[CV] END .......................C=1, gamma=0.05, kernel=poly; total time=   5.6s\n",
      "[CV] END ........................C=1, gamma=0.01, kernel=rbf; total time=   8.3s\n",
      "[CV] END ........................C=1, gamma=0.01, kernel=rbf; total time=   8.7s\n",
      "[CV] END ........................C=1, gamma=0.01, kernel=rbf; total time=   7.3s\n",
      "[CV] END .......................C=1, gamma=0.01, kernel=poly; total time=   8.5s\n",
      "[CV] END .......................C=1, gamma=0.01, kernel=poly; total time=   7.8s\n",
      "[CV] END .......................C=1, gamma=0.01, kernel=poly; total time=   7.7s\n",
      "[CV] END .......................C=1, gamma=0.001, kernel=rbf; total time=   8.0s\n",
      "[CV] END .......................C=1, gamma=0.001, kernel=rbf; total time=   7.9s\n",
      "[CV] END .......................C=1, gamma=0.001, kernel=rbf; total time=   8.1s\n",
      "[CV] END ......................C=1, gamma=0.001, kernel=poly; total time=  10.2s\n",
      "[CV] END ......................C=1, gamma=0.001, kernel=poly; total time=  10.5s\n",
      "[CV] END ......................C=1, gamma=0.001, kernel=poly; total time=   9.4s\n",
      "[CV] END ........................C=10, gamma=0.1, kernel=rbf; total time=  16.3s\n",
      "[CV] END ........................C=10, gamma=0.1, kernel=rbf; total time=  20.0s\n",
      "[CV] END ........................C=10, gamma=0.1, kernel=rbf; total time=  16.7s\n",
      "[CV] END .......................C=10, gamma=0.1, kernel=poly; total time=   5.0s\n",
      "[CV] END .......................C=10, gamma=0.1, kernel=poly; total time=   5.0s\n",
      "[CV] END .......................C=10, gamma=0.1, kernel=poly; total time=   5.1s\n",
      "[CV] END .......................C=10, gamma=0.05, kernel=rbf; total time=  14.7s\n",
      "[CV] END .......................C=10, gamma=0.05, kernel=rbf; total time=  15.5s\n",
      "[CV] END .......................C=10, gamma=0.05, kernel=rbf; total time=  15.4s\n",
      "[CV] END ......................C=10, gamma=0.05, kernel=poly; total time=   5.0s\n",
      "[CV] END ......................C=10, gamma=0.05, kernel=poly; total time=   4.9s\n",
      "[CV] END ......................C=10, gamma=0.05, kernel=poly; total time=   4.9s\n",
      "[CV] END .......................C=10, gamma=0.01, kernel=rbf; total time=   6.6s\n",
      "[CV] END .......................C=10, gamma=0.01, kernel=rbf; total time=   7.3s\n",
      "[CV] END .......................C=10, gamma=0.01, kernel=rbf; total time=   7.5s\n",
      "[CV] END ......................C=10, gamma=0.01, kernel=poly; total time=   6.9s\n",
      "[CV] END ......................C=10, gamma=0.01, kernel=poly; total time=   6.4s\n",
      "[CV] END ......................C=10, gamma=0.01, kernel=poly; total time=   6.0s\n",
      "[CV] END ......................C=10, gamma=0.001, kernel=rbf; total time=   5.0s\n",
      "[CV] END ......................C=10, gamma=0.001, kernel=rbf; total time=   5.1s\n",
      "[CV] END ......................C=10, gamma=0.001, kernel=rbf; total time=   5.0s\n",
      "[CV] END .....................C=10, gamma=0.001, kernel=poly; total time=   9.4s\n",
      "[CV] END .....................C=10, gamma=0.001, kernel=poly; total time=   9.7s\n",
      "[CV] END .....................C=10, gamma=0.001, kernel=poly; total time=   9.8s\n",
      "[CV] END ........................C=50, gamma=0.1, kernel=rbf; total time=  17.1s\n",
      "[CV] END ........................C=50, gamma=0.1, kernel=rbf; total time=  15.6s\n",
      "[CV] END ........................C=50, gamma=0.1, kernel=rbf; total time=  18.8s\n",
      "[CV] END .......................C=50, gamma=0.1, kernel=poly; total time=   6.7s\n",
      "[CV] END .......................C=50, gamma=0.1, kernel=poly; total time=   5.5s\n"
     ]
    },
    {
     "name": "stdout",
     "output_type": "stream",
     "text": [
      "[CV] END .......................C=50, gamma=0.1, kernel=poly; total time=   5.6s\n",
      "[CV] END .......................C=50, gamma=0.05, kernel=rbf; total time=  14.7s\n",
      "[CV] END .......................C=50, gamma=0.05, kernel=rbf; total time=  15.1s\n",
      "[CV] END .......................C=50, gamma=0.05, kernel=rbf; total time=  15.4s\n",
      "[CV] END ......................C=50, gamma=0.05, kernel=poly; total time=   5.6s\n",
      "[CV] END ......................C=50, gamma=0.05, kernel=poly; total time=   5.5s\n",
      "[CV] END ......................C=50, gamma=0.05, kernel=poly; total time=   6.0s\n",
      "[CV] END .......................C=50, gamma=0.01, kernel=rbf; total time=   6.7s\n",
      "[CV] END .......................C=50, gamma=0.01, kernel=rbf; total time=   6.2s\n",
      "[CV] END .......................C=50, gamma=0.01, kernel=rbf; total time=   6.0s\n",
      "[CV] END ......................C=50, gamma=0.01, kernel=poly; total time=   5.3s\n",
      "[CV] END ......................C=50, gamma=0.01, kernel=poly; total time=   6.1s\n",
      "[CV] END ......................C=50, gamma=0.01, kernel=poly; total time=   7.0s\n",
      "[CV] END ......................C=50, gamma=0.001, kernel=rbf; total time=   6.6s\n",
      "[CV] END ......................C=50, gamma=0.001, kernel=rbf; total time=   6.7s\n",
      "[CV] END ......................C=50, gamma=0.001, kernel=rbf; total time=   5.2s\n",
      "[CV] END .....................C=50, gamma=0.001, kernel=poly; total time=  10.7s\n",
      "[CV] END .....................C=50, gamma=0.001, kernel=poly; total time=   9.6s\n",
      "[CV] END .....................C=50, gamma=0.001, kernel=poly; total time=   9.6s\n",
      "[CV] END .......................C=100, gamma=0.1, kernel=rbf; total time=  16.0s\n",
      "[CV] END .......................C=100, gamma=0.1, kernel=rbf; total time=  19.6s\n",
      "[CV] END .......................C=100, gamma=0.1, kernel=rbf; total time=  17.3s\n",
      "[CV] END ......................C=100, gamma=0.1, kernel=poly; total time=   5.0s\n",
      "[CV] END ......................C=100, gamma=0.1, kernel=poly; total time=   5.7s\n",
      "[CV] END ......................C=100, gamma=0.1, kernel=poly; total time=   6.7s\n",
      "[CV] END ......................C=100, gamma=0.05, kernel=rbf; total time=  19.1s\n",
      "[CV] END ......................C=100, gamma=0.05, kernel=rbf; total time=  15.8s\n",
      "[CV] END ......................C=100, gamma=0.05, kernel=rbf; total time=  14.9s\n",
      "[CV] END .....................C=100, gamma=0.05, kernel=poly; total time=   5.0s\n",
      "[CV] END .....................C=100, gamma=0.05, kernel=poly; total time=   5.0s\n",
      "[CV] END .....................C=100, gamma=0.05, kernel=poly; total time=   5.0s\n",
      "[CV] END ......................C=100, gamma=0.01, kernel=rbf; total time=   6.6s\n",
      "[CV] END ......................C=100, gamma=0.01, kernel=rbf; total time=   6.4s\n",
      "[CV] END ......................C=100, gamma=0.01, kernel=rbf; total time=   6.3s\n",
      "[CV] END .....................C=100, gamma=0.01, kernel=poly; total time=   5.8s\n",
      "[CV] END .....................C=100, gamma=0.01, kernel=poly; total time=   5.3s\n",
      "[CV] END .....................C=100, gamma=0.01, kernel=poly; total time=   5.3s\n",
      "[CV] END .....................C=100, gamma=0.001, kernel=rbf; total time=   5.2s\n",
      "[CV] END .....................C=100, gamma=0.001, kernel=rbf; total time=   6.0s\n",
      "[CV] END .....................C=100, gamma=0.001, kernel=rbf; total time=   6.4s\n",
      "[CV] END ....................C=100, gamma=0.001, kernel=poly; total time=  12.2s\n",
      "[CV] END ....................C=100, gamma=0.001, kernel=poly; total time=  10.2s\n",
      "[CV] END ....................C=100, gamma=0.001, kernel=poly; total time=   9.5s\n"
     ]
    },
    {
     "data": {
      "text/html": [
       "<style>#sk-container-id-2 {color: black;background-color: white;}#sk-container-id-2 pre{padding: 0;}#sk-container-id-2 div.sk-toggleable {background-color: white;}#sk-container-id-2 label.sk-toggleable__label {cursor: pointer;display: block;width: 100%;margin-bottom: 0;padding: 0.3em;box-sizing: border-box;text-align: center;}#sk-container-id-2 label.sk-toggleable__label-arrow:before {content: \"▸\";float: left;margin-right: 0.25em;color: #696969;}#sk-container-id-2 label.sk-toggleable__label-arrow:hover:before {color: black;}#sk-container-id-2 div.sk-estimator:hover label.sk-toggleable__label-arrow:before {color: black;}#sk-container-id-2 div.sk-toggleable__content {max-height: 0;max-width: 0;overflow: hidden;text-align: left;background-color: #f0f8ff;}#sk-container-id-2 div.sk-toggleable__content pre {margin: 0.2em;color: black;border-radius: 0.25em;background-color: #f0f8ff;}#sk-container-id-2 input.sk-toggleable__control:checked~div.sk-toggleable__content {max-height: 200px;max-width: 100%;overflow: auto;}#sk-container-id-2 input.sk-toggleable__control:checked~label.sk-toggleable__label-arrow:before {content: \"▾\";}#sk-container-id-2 div.sk-estimator input.sk-toggleable__control:checked~label.sk-toggleable__label {background-color: #d4ebff;}#sk-container-id-2 div.sk-label input.sk-toggleable__control:checked~label.sk-toggleable__label {background-color: #d4ebff;}#sk-container-id-2 input.sk-hidden--visually {border: 0;clip: rect(1px 1px 1px 1px);clip: rect(1px, 1px, 1px, 1px);height: 1px;margin: -1px;overflow: hidden;padding: 0;position: absolute;width: 1px;}#sk-container-id-2 div.sk-estimator {font-family: monospace;background-color: #f0f8ff;border: 1px dotted black;border-radius: 0.25em;box-sizing: border-box;margin-bottom: 0.5em;}#sk-container-id-2 div.sk-estimator:hover {background-color: #d4ebff;}#sk-container-id-2 div.sk-parallel-item::after {content: \"\";width: 100%;border-bottom: 1px solid gray;flex-grow: 1;}#sk-container-id-2 div.sk-label:hover label.sk-toggleable__label {background-color: #d4ebff;}#sk-container-id-2 div.sk-serial::before {content: \"\";position: absolute;border-left: 1px solid gray;box-sizing: border-box;top: 0;bottom: 0;left: 50%;z-index: 0;}#sk-container-id-2 div.sk-serial {display: flex;flex-direction: column;align-items: center;background-color: white;padding-right: 0.2em;padding-left: 0.2em;position: relative;}#sk-container-id-2 div.sk-item {position: relative;z-index: 1;}#sk-container-id-2 div.sk-parallel {display: flex;align-items: stretch;justify-content: center;background-color: white;position: relative;}#sk-container-id-2 div.sk-item::before, #sk-container-id-2 div.sk-parallel-item::before {content: \"\";position: absolute;border-left: 1px solid gray;box-sizing: border-box;top: 0;bottom: 0;left: 50%;z-index: -1;}#sk-container-id-2 div.sk-parallel-item {display: flex;flex-direction: column;z-index: 1;position: relative;background-color: white;}#sk-container-id-2 div.sk-parallel-item:first-child::after {align-self: flex-end;width: 50%;}#sk-container-id-2 div.sk-parallel-item:last-child::after {align-self: flex-start;width: 50%;}#sk-container-id-2 div.sk-parallel-item:only-child::after {width: 0;}#sk-container-id-2 div.sk-dashed-wrapped {border: 1px dashed gray;margin: 0 0.4em 0.5em 0.4em;box-sizing: border-box;padding-bottom: 0.4em;background-color: white;}#sk-container-id-2 div.sk-label label {font-family: monospace;font-weight: bold;display: inline-block;line-height: 1.2em;}#sk-container-id-2 div.sk-label-container {text-align: center;}#sk-container-id-2 div.sk-container {/* jupyter's `normalize.less` sets `[hidden] { display: none; }` but bootstrap.min.css set `[hidden] { display: none !important; }` so we also need the `!important` here to be able to override the default hidden behavior on the sphinx rendered scikit-learn.org. See: https://github.com/scikit-learn/scikit-learn/issues/21755 */display: inline-block !important;position: relative;}#sk-container-id-2 div.sk-text-repr-fallback {display: none;}</style><div id=\"sk-container-id-2\" class=\"sk-top-container\"><div class=\"sk-text-repr-fallback\"><pre>GridSearchCV(cv=3, estimator=SVC(probability=True),\n",
       "             param_grid={&#x27;C&#x27;: [0.1, 0.5, 1, 10, 50, 100],\n",
       "                         &#x27;gamma&#x27;: [0.1, 0.05, 0.01, 0.001],\n",
       "                         &#x27;kernel&#x27;: [&#x27;rbf&#x27;, &#x27;poly&#x27;]},\n",
       "             scoring=&#x27;accuracy&#x27;, verbose=2)</pre><b>In a Jupyter environment, please rerun this cell to show the HTML representation or trust the notebook. <br />On GitHub, the HTML representation is unable to render, please try loading this page with nbviewer.org.</b></div><div class=\"sk-container\" hidden><div class=\"sk-item sk-dashed-wrapped\"><div class=\"sk-label-container\"><div class=\"sk-label sk-toggleable\"><input class=\"sk-toggleable__control sk-hidden--visually\" id=\"sk-estimator-id-2\" type=\"checkbox\" ><label for=\"sk-estimator-id-2\" class=\"sk-toggleable__label sk-toggleable__label-arrow\">GridSearchCV</label><div class=\"sk-toggleable__content\"><pre>GridSearchCV(cv=3, estimator=SVC(probability=True),\n",
       "             param_grid={&#x27;C&#x27;: [0.1, 0.5, 1, 10, 50, 100],\n",
       "                         &#x27;gamma&#x27;: [0.1, 0.05, 0.01, 0.001],\n",
       "                         &#x27;kernel&#x27;: [&#x27;rbf&#x27;, &#x27;poly&#x27;]},\n",
       "             scoring=&#x27;accuracy&#x27;, verbose=2)</pre></div></div></div><div class=\"sk-parallel\"><div class=\"sk-parallel-item\"><div class=\"sk-item\"><div class=\"sk-label-container\"><div class=\"sk-label sk-toggleable\"><input class=\"sk-toggleable__control sk-hidden--visually\" id=\"sk-estimator-id-3\" type=\"checkbox\" ><label for=\"sk-estimator-id-3\" class=\"sk-toggleable__label sk-toggleable__label-arrow\">estimator: SVC</label><div class=\"sk-toggleable__content\"><pre>SVC(probability=True)</pre></div></div></div><div class=\"sk-serial\"><div class=\"sk-item\"><div class=\"sk-estimator sk-toggleable\"><input class=\"sk-toggleable__control sk-hidden--visually\" id=\"sk-estimator-id-4\" type=\"checkbox\" ><label for=\"sk-estimator-id-4\" class=\"sk-toggleable__label sk-toggleable__label-arrow\">SVC</label><div class=\"sk-toggleable__content\"><pre>SVC(probability=True)</pre></div></div></div></div></div></div></div></div></div></div>"
      ],
      "text/plain": [
       "GridSearchCV(cv=3, estimator=SVC(probability=True),\n",
       "             param_grid={'C': [0.1, 0.5, 1, 10, 50, 100],\n",
       "                         'gamma': [0.1, 0.05, 0.01, 0.001],\n",
       "                         'kernel': ['rbf', 'poly']},\n",
       "             scoring='accuracy', verbose=2)"
      ]
     },
     "execution_count": 19,
     "metadata": {},
     "output_type": "execute_result"
    }
   ],
   "source": [
    "model_grid = GridSearchCV(model_svc, param_grid=param_grid,scoring = 'accuracy', cv =3, verbose = 2)\n",
    "model_grid.fit(X_train, y_train)"
   ]
  },
  {
   "cell_type": "code",
   "execution_count": 20,
   "id": "c94a223c",
   "metadata": {},
   "outputs": [
    {
     "data": {
      "text/plain": [
       "{'C': 10, 'gamma': 0.01, 'kernel': 'rbf'}"
      ]
     },
     "execution_count": 20,
     "metadata": {},
     "output_type": "execute_result"
    }
   ],
   "source": [
    "model_grid.best_params_"
   ]
  },
  {
   "cell_type": "code",
   "execution_count": 21,
   "id": "3154e213",
   "metadata": {},
   "outputs": [],
   "source": [
    "model_finale = model_grid.best_estimator_"
   ]
  },
  {
   "cell_type": "markdown",
   "id": "7506ccf8",
   "metadata": {},
   "source": [
    "## Evaluate the model SVC "
   ]
  },
  {
   "cell_type": "code",
   "execution_count": 22,
   "id": "e03fde8c",
   "metadata": {},
   "outputs": [],
   "source": [
    "y_pred = model_finale.predict(X_test)"
   ]
  },
  {
   "cell_type": "code",
   "execution_count": 23,
   "id": "d3d91275",
   "metadata": {},
   "outputs": [
    {
     "name": "stdout",
     "output_type": "stream",
     "text": [
      "              precision    recall  f1-score   support\n",
      "\n",
      "           1       0.93      0.94      0.93       500\n",
      "           2       0.74      0.73      0.73       500\n",
      "           3       0.74      0.72      0.73       500\n",
      "           4       0.94      0.95      0.94       500\n",
      "\n",
      "    accuracy                           0.84      2000\n",
      "   macro avg       0.83      0.84      0.84      2000\n",
      "weighted avg       0.83      0.84      0.84      2000\n",
      "\n"
     ]
    }
   ],
   "source": [
    "cr = metrics.classification_report(y_test,y_pred)\n",
    "print(cr)"
   ]
  },
  {
   "cell_type": "markdown",
   "id": "631c96ac",
   "metadata": {},
   "source": [
    "## Save model"
   ]
  },
  {
   "cell_type": "code",
   "execution_count": 24,
   "id": "92c9ba2a",
   "metadata": {},
   "outputs": [],
   "source": [
    "import pickle\n",
    "pickle.dump(model_finale,open('svm_model.pickle',mode='wb'))"
   ]
  },
  {
   "cell_type": "markdown",
   "id": "6ead4ed0",
   "metadata": {},
   "source": [
    "## Bagging classifier "
   ]
  },
  {
   "cell_type": "code",
   "execution_count": 25,
   "id": "fe01b1fc",
   "metadata": {},
   "outputs": [],
   "source": [
    "from sklearn.ensemble import BaggingClassifier\n",
    "from sklearn.naive_bayes import GaussianNB\n",
    "from sklearn.tree import DecisionTreeClassifier"
   ]
  },
  {
   "cell_type": "code",
   "execution_count": 26,
   "id": "37134dbf",
   "metadata": {},
   "outputs": [],
   "source": [
    "clf = BaggingClassifier(base_estimator=SVC(C=10.0, break_ties=False, cache_size=200,\n",
    "                                     class_weight=None, coef0=0.0,\n",
    "                                     decision_function_shape='ovr', degree=3,\n",
    "                                     gamma=0.01, kernel='rbf', max_iter=-1,\n",
    "                                     probability=False, random_state=None,\n",
    "                                     shrinking=True, tol=0.001, verbose=False),\n",
    "                  bootstrap=True, bootstrap_features=False, max_features=1.0,\n",
    "                  max_samples=1.0, n_estimators=10, n_jobs=None,\n",
    "                  oob_score=False, random_state=None, verbose=0,\n",
    "                  warm_start=False)"
   ]
  },
  {
   "cell_type": "code",
   "execution_count": 27,
   "id": "4ffe034c",
   "metadata": {},
   "outputs": [
    {
     "data": {
      "text/html": [
       "<style>#sk-container-id-3 {color: black;background-color: white;}#sk-container-id-3 pre{padding: 0;}#sk-container-id-3 div.sk-toggleable {background-color: white;}#sk-container-id-3 label.sk-toggleable__label {cursor: pointer;display: block;width: 100%;margin-bottom: 0;padding: 0.3em;box-sizing: border-box;text-align: center;}#sk-container-id-3 label.sk-toggleable__label-arrow:before {content: \"▸\";float: left;margin-right: 0.25em;color: #696969;}#sk-container-id-3 label.sk-toggleable__label-arrow:hover:before {color: black;}#sk-container-id-3 div.sk-estimator:hover label.sk-toggleable__label-arrow:before {color: black;}#sk-container-id-3 div.sk-toggleable__content {max-height: 0;max-width: 0;overflow: hidden;text-align: left;background-color: #f0f8ff;}#sk-container-id-3 div.sk-toggleable__content pre {margin: 0.2em;color: black;border-radius: 0.25em;background-color: #f0f8ff;}#sk-container-id-3 input.sk-toggleable__control:checked~div.sk-toggleable__content {max-height: 200px;max-width: 100%;overflow: auto;}#sk-container-id-3 input.sk-toggleable__control:checked~label.sk-toggleable__label-arrow:before {content: \"▾\";}#sk-container-id-3 div.sk-estimator input.sk-toggleable__control:checked~label.sk-toggleable__label {background-color: #d4ebff;}#sk-container-id-3 div.sk-label input.sk-toggleable__control:checked~label.sk-toggleable__label {background-color: #d4ebff;}#sk-container-id-3 input.sk-hidden--visually {border: 0;clip: rect(1px 1px 1px 1px);clip: rect(1px, 1px, 1px, 1px);height: 1px;margin: -1px;overflow: hidden;padding: 0;position: absolute;width: 1px;}#sk-container-id-3 div.sk-estimator {font-family: monospace;background-color: #f0f8ff;border: 1px dotted black;border-radius: 0.25em;box-sizing: border-box;margin-bottom: 0.5em;}#sk-container-id-3 div.sk-estimator:hover {background-color: #d4ebff;}#sk-container-id-3 div.sk-parallel-item::after {content: \"\";width: 100%;border-bottom: 1px solid gray;flex-grow: 1;}#sk-container-id-3 div.sk-label:hover label.sk-toggleable__label {background-color: #d4ebff;}#sk-container-id-3 div.sk-serial::before {content: \"\";position: absolute;border-left: 1px solid gray;box-sizing: border-box;top: 0;bottom: 0;left: 50%;z-index: 0;}#sk-container-id-3 div.sk-serial {display: flex;flex-direction: column;align-items: center;background-color: white;padding-right: 0.2em;padding-left: 0.2em;position: relative;}#sk-container-id-3 div.sk-item {position: relative;z-index: 1;}#sk-container-id-3 div.sk-parallel {display: flex;align-items: stretch;justify-content: center;background-color: white;position: relative;}#sk-container-id-3 div.sk-item::before, #sk-container-id-3 div.sk-parallel-item::before {content: \"\";position: absolute;border-left: 1px solid gray;box-sizing: border-box;top: 0;bottom: 0;left: 50%;z-index: -1;}#sk-container-id-3 div.sk-parallel-item {display: flex;flex-direction: column;z-index: 1;position: relative;background-color: white;}#sk-container-id-3 div.sk-parallel-item:first-child::after {align-self: flex-end;width: 50%;}#sk-container-id-3 div.sk-parallel-item:last-child::after {align-self: flex-start;width: 50%;}#sk-container-id-3 div.sk-parallel-item:only-child::after {width: 0;}#sk-container-id-3 div.sk-dashed-wrapped {border: 1px dashed gray;margin: 0 0.4em 0.5em 0.4em;box-sizing: border-box;padding-bottom: 0.4em;background-color: white;}#sk-container-id-3 div.sk-label label {font-family: monospace;font-weight: bold;display: inline-block;line-height: 1.2em;}#sk-container-id-3 div.sk-label-container {text-align: center;}#sk-container-id-3 div.sk-container {/* jupyter's `normalize.less` sets `[hidden] { display: none; }` but bootstrap.min.css set `[hidden] { display: none !important; }` so we also need the `!important` here to be able to override the default hidden behavior on the sphinx rendered scikit-learn.org. See: https://github.com/scikit-learn/scikit-learn/issues/21755 */display: inline-block !important;position: relative;}#sk-container-id-3 div.sk-text-repr-fallback {display: none;}</style><div id=\"sk-container-id-3\" class=\"sk-top-container\"><div class=\"sk-text-repr-fallback\"><pre>BaggingClassifier(base_estimator=SVC(C=10.0, gamma=0.01))</pre><b>In a Jupyter environment, please rerun this cell to show the HTML representation or trust the notebook. <br />On GitHub, the HTML representation is unable to render, please try loading this page with nbviewer.org.</b></div><div class=\"sk-container\" hidden><div class=\"sk-item sk-dashed-wrapped\"><div class=\"sk-label-container\"><div class=\"sk-label sk-toggleable\"><input class=\"sk-toggleable__control sk-hidden--visually\" id=\"sk-estimator-id-5\" type=\"checkbox\" ><label for=\"sk-estimator-id-5\" class=\"sk-toggleable__label sk-toggleable__label-arrow\">BaggingClassifier</label><div class=\"sk-toggleable__content\"><pre>BaggingClassifier(base_estimator=SVC(C=10.0, gamma=0.01))</pre></div></div></div><div class=\"sk-parallel\"><div class=\"sk-parallel-item\"><div class=\"sk-item\"><div class=\"sk-label-container\"><div class=\"sk-label sk-toggleable\"><input class=\"sk-toggleable__control sk-hidden--visually\" id=\"sk-estimator-id-6\" type=\"checkbox\" ><label for=\"sk-estimator-id-6\" class=\"sk-toggleable__label sk-toggleable__label-arrow\">base_estimator: SVC</label><div class=\"sk-toggleable__content\"><pre>SVC(C=10.0, gamma=0.01)</pre></div></div></div><div class=\"sk-serial\"><div class=\"sk-item\"><div class=\"sk-estimator sk-toggleable\"><input class=\"sk-toggleable__control sk-hidden--visually\" id=\"sk-estimator-id-7\" type=\"checkbox\" ><label for=\"sk-estimator-id-7\" class=\"sk-toggleable__label sk-toggleable__label-arrow\">SVC</label><div class=\"sk-toggleable__content\"><pre>SVC(C=10.0, gamma=0.01)</pre></div></div></div></div></div></div></div></div></div></div>"
      ],
      "text/plain": [
       "BaggingClassifier(base_estimator=SVC(C=10.0, gamma=0.01))"
      ]
     },
     "execution_count": 27,
     "metadata": {},
     "output_type": "execute_result"
    }
   ],
   "source": [
    "clf.fit(X_train, y_train)"
   ]
  },
  {
   "cell_type": "code",
   "execution_count": 28,
   "id": "07e118ce",
   "metadata": {},
   "outputs": [
    {
     "name": "stdout",
     "output_type": "stream",
     "text": [
      "              precision    recall  f1-score   support\n",
      "\n",
      "           1       0.91      0.94      0.93       500\n",
      "           2       0.72      0.74      0.73       500\n",
      "           3       0.74      0.70      0.72       500\n",
      "           4       0.94      0.94      0.94       500\n",
      "\n",
      "    accuracy                           0.83      2000\n",
      "   macro avg       0.83      0.83      0.83      2000\n",
      "weighted avg       0.83      0.83      0.83      2000\n",
      "\n"
     ]
    }
   ],
   "source": [
    "y_pred = clf.predict(X_test)\n",
    "cr = metrics.classification_report(y_test,y_pred)\n",
    "print(cr)"
   ]
  },
  {
   "cell_type": "markdown",
   "id": "047805be",
   "metadata": {},
   "source": [
    "## Logistic regression "
   ]
  },
  {
   "cell_type": "code",
   "execution_count": 29,
   "id": "5424416e",
   "metadata": {},
   "outputs": [],
   "source": [
    "from sklearn.linear_model import LogisticRegression\n",
    "from sklearn.model_selection import GridSearchCV\n",
    "from sklearn import metrics"
   ]
  },
  {
   "cell_type": "code",
   "execution_count": 33,
   "id": "af8baab9",
   "metadata": {},
   "outputs": [],
   "source": [
    "model_reg = LogisticRegression()\n",
    "\n",
    "param_grid = {'C':[0.01,0.5,1,10],\n",
    "\n",
    "             'penalty':['elasticnet', 'l1', 'l2', None]}"
   ]
  },
  {
   "cell_type": "code",
   "execution_count": 34,
   "id": "6249cfa9",
   "metadata": {},
   "outputs": [
    {
     "name": "stdout",
     "output_type": "stream",
     "text": [
      "Fitting 3 folds for each of 16 candidates, totalling 48 fits\n",
      "[CV] END .........................C=0.01, penalty=elasticnet; total time=   0.0s\n",
      "[CV] END .........................C=0.01, penalty=elasticnet; total time=   0.0s\n",
      "[CV] END .........................C=0.01, penalty=elasticnet; total time=   0.0s\n",
      "[CV] END .................................C=0.01, penalty=l1; total time=   0.0s\n",
      "[CV] END .................................C=0.01, penalty=l1; total time=   0.0s\n",
      "[CV] END .................................C=0.01, penalty=l1; total time=   0.0s\n",
      "[CV] END .................................C=0.01, penalty=l2; total time=   0.0s\n",
      "[CV] END .................................C=0.01, penalty=l2; total time=   0.0s\n",
      "[CV] END .................................C=0.01, penalty=l2; total time=   0.0s\n",
      "[CV] END ...............................C=0.01, penalty=None; total time=   0.0s\n",
      "[CV] END ...............................C=0.01, penalty=None; total time=   0.0s\n",
      "[CV] END ...............................C=0.01, penalty=None; total time=   0.0s\n",
      "[CV] END ..........................C=0.5, penalty=elasticnet; total time=   0.0s\n",
      "[CV] END ..........................C=0.5, penalty=elasticnet; total time=   0.0s\n",
      "[CV] END ..........................C=0.5, penalty=elasticnet; total time=   0.0s\n",
      "[CV] END ..................................C=0.5, penalty=l1; total time=   0.0s\n",
      "[CV] END ..................................C=0.5, penalty=l1; total time=   0.0s\n",
      "[CV] END ..................................C=0.5, penalty=l1; total time=   0.0s\n",
      "[CV] END ..................................C=0.5, penalty=l2; total time=   0.0s\n",
      "[CV] END ..................................C=0.5, penalty=l2; total time=   0.0s\n",
      "[CV] END ..................................C=0.5, penalty=l2; total time=   0.0s\n",
      "[CV] END ................................C=0.5, penalty=None; total time=   0.0s\n",
      "[CV] END ................................C=0.5, penalty=None; total time=   0.0s\n",
      "[CV] END ................................C=0.5, penalty=None; total time=   0.0s\n",
      "[CV] END ............................C=1, penalty=elasticnet; total time=   0.0s\n",
      "[CV] END ............................C=1, penalty=elasticnet; total time=   0.0s\n",
      "[CV] END ............................C=1, penalty=elasticnet; total time=   0.0s\n",
      "[CV] END ....................................C=1, penalty=l1; total time=   0.0s\n",
      "[CV] END ....................................C=1, penalty=l1; total time=   0.0s\n",
      "[CV] END ....................................C=1, penalty=l1; total time=   0.0s\n",
      "[CV] END ....................................C=1, penalty=l2; total time=   0.0s\n",
      "[CV] END ....................................C=1, penalty=l2; total time=   0.0s\n",
      "[CV] END ....................................C=1, penalty=l2; total time=   0.0s\n",
      "[CV] END ..................................C=1, penalty=None; total time=   0.0s\n",
      "[CV] END ..................................C=1, penalty=None; total time=   0.0s\n",
      "[CV] END ..................................C=1, penalty=None; total time=   0.0s\n",
      "[CV] END ...........................C=10, penalty=elasticnet; total time=   0.0s\n",
      "[CV] END ...........................C=10, penalty=elasticnet; total time=   0.0s\n",
      "[CV] END ...........................C=10, penalty=elasticnet; total time=   0.0s\n",
      "[CV] END ...................................C=10, penalty=l1; total time=   0.0s\n",
      "[CV] END ...................................C=10, penalty=l1; total time=   0.0s\n",
      "[CV] END ...................................C=10, penalty=l1; total time=   0.0s\n",
      "[CV] END ...................................C=10, penalty=l2; total time=   0.0s\n",
      "[CV] END ...................................C=10, penalty=l2; total time=   0.0s\n",
      "[CV] END ...................................C=10, penalty=l2; total time=   0.0s\n",
      "[CV] END .................................C=10, penalty=None; total time=   0.0s\n",
      "[CV] END .................................C=10, penalty=None; total time=   0.0s\n",
      "[CV] END .................................C=10, penalty=None; total time=   0.0s\n"
     ]
    },
    {
     "name": "stderr",
     "output_type": "stream",
     "text": [
      "C:\\Users\\annaz\\AppData\\Local\\Programs\\Python\\Python310\\lib\\site-packages\\sklearn\\model_selection\\_validation.py:378: FitFailedWarning: \n",
      "36 fits failed out of a total of 48.\n",
      "The score on these train-test partitions for these parameters will be set to nan.\n",
      "If these failures are not expected, you can try to debug them by setting error_score='raise'.\n",
      "\n",
      "Below are more details about the failures:\n",
      "--------------------------------------------------------------------------------\n",
      "12 fits failed with the following error:\n",
      "Traceback (most recent call last):\n",
      "  File \"C:\\Users\\annaz\\AppData\\Local\\Programs\\Python\\Python310\\lib\\site-packages\\sklearn\\model_selection\\_validation.py\", line 686, in _fit_and_score\n",
      "    estimator.fit(X_train, y_train, **fit_params)\n",
      "  File \"C:\\Users\\annaz\\AppData\\Local\\Programs\\Python\\Python310\\lib\\site-packages\\sklearn\\linear_model\\_logistic.py\", line 1091, in fit\n",
      "    solver = _check_solver(self.solver, self.penalty, self.dual)\n",
      "  File \"C:\\Users\\annaz\\AppData\\Local\\Programs\\Python\\Python310\\lib\\site-packages\\sklearn\\linear_model\\_logistic.py\", line 61, in _check_solver\n",
      "    raise ValueError(\n",
      "ValueError: Solver lbfgs supports only 'l2' or 'none' penalties, got elasticnet penalty.\n",
      "\n",
      "--------------------------------------------------------------------------------\n",
      "12 fits failed with the following error:\n",
      "Traceback (most recent call last):\n",
      "  File \"C:\\Users\\annaz\\AppData\\Local\\Programs\\Python\\Python310\\lib\\site-packages\\sklearn\\model_selection\\_validation.py\", line 686, in _fit_and_score\n",
      "    estimator.fit(X_train, y_train, **fit_params)\n",
      "  File \"C:\\Users\\annaz\\AppData\\Local\\Programs\\Python\\Python310\\lib\\site-packages\\sklearn\\linear_model\\_logistic.py\", line 1091, in fit\n",
      "    solver = _check_solver(self.solver, self.penalty, self.dual)\n",
      "  File \"C:\\Users\\annaz\\AppData\\Local\\Programs\\Python\\Python310\\lib\\site-packages\\sklearn\\linear_model\\_logistic.py\", line 61, in _check_solver\n",
      "    raise ValueError(\n",
      "ValueError: Solver lbfgs supports only 'l2' or 'none' penalties, got l1 penalty.\n",
      "\n",
      "--------------------------------------------------------------------------------\n",
      "12 fits failed with the following error:\n",
      "Traceback (most recent call last):\n",
      "  File \"C:\\Users\\annaz\\AppData\\Local\\Programs\\Python\\Python310\\lib\\site-packages\\sklearn\\model_selection\\_validation.py\", line 686, in _fit_and_score\n",
      "    estimator.fit(X_train, y_train, **fit_params)\n",
      "  File \"C:\\Users\\annaz\\AppData\\Local\\Programs\\Python\\Python310\\lib\\site-packages\\sklearn\\linear_model\\_logistic.py\", line 1091, in fit\n",
      "    solver = _check_solver(self.solver, self.penalty, self.dual)\n",
      "  File \"C:\\Users\\annaz\\AppData\\Local\\Programs\\Python\\Python310\\lib\\site-packages\\sklearn\\linear_model\\_logistic.py\", line 55, in _check_solver\n",
      "    raise ValueError(\n",
      "ValueError: Logistic Regression supports only penalties in ['l1', 'l2', 'elasticnet', 'none'], got None.\n",
      "\n",
      "  warnings.warn(some_fits_failed_message, FitFailedWarning)\n",
      "C:\\Users\\annaz\\AppData\\Local\\Programs\\Python\\Python310\\lib\\site-packages\\sklearn\\model_selection\\_search.py:953: UserWarning: One or more of the test scores are non-finite: [       nan        nan 0.77547344        nan        nan        nan\n",
      " 0.7752231         nan        nan        nan 0.77522315        nan\n",
      "        nan        nan 0.77509802        nan]\n",
      "  warnings.warn(\n"
     ]
    },
    {
     "data": {
      "text/html": [
       "<style>#sk-container-id-4 {color: black;background-color: white;}#sk-container-id-4 pre{padding: 0;}#sk-container-id-4 div.sk-toggleable {background-color: white;}#sk-container-id-4 label.sk-toggleable__label {cursor: pointer;display: block;width: 100%;margin-bottom: 0;padding: 0.3em;box-sizing: border-box;text-align: center;}#sk-container-id-4 label.sk-toggleable__label-arrow:before {content: \"▸\";float: left;margin-right: 0.25em;color: #696969;}#sk-container-id-4 label.sk-toggleable__label-arrow:hover:before {color: black;}#sk-container-id-4 div.sk-estimator:hover label.sk-toggleable__label-arrow:before {color: black;}#sk-container-id-4 div.sk-toggleable__content {max-height: 0;max-width: 0;overflow: hidden;text-align: left;background-color: #f0f8ff;}#sk-container-id-4 div.sk-toggleable__content pre {margin: 0.2em;color: black;border-radius: 0.25em;background-color: #f0f8ff;}#sk-container-id-4 input.sk-toggleable__control:checked~div.sk-toggleable__content {max-height: 200px;max-width: 100%;overflow: auto;}#sk-container-id-4 input.sk-toggleable__control:checked~label.sk-toggleable__label-arrow:before {content: \"▾\";}#sk-container-id-4 div.sk-estimator input.sk-toggleable__control:checked~label.sk-toggleable__label {background-color: #d4ebff;}#sk-container-id-4 div.sk-label input.sk-toggleable__control:checked~label.sk-toggleable__label {background-color: #d4ebff;}#sk-container-id-4 input.sk-hidden--visually {border: 0;clip: rect(1px 1px 1px 1px);clip: rect(1px, 1px, 1px, 1px);height: 1px;margin: -1px;overflow: hidden;padding: 0;position: absolute;width: 1px;}#sk-container-id-4 div.sk-estimator {font-family: monospace;background-color: #f0f8ff;border: 1px dotted black;border-radius: 0.25em;box-sizing: border-box;margin-bottom: 0.5em;}#sk-container-id-4 div.sk-estimator:hover {background-color: #d4ebff;}#sk-container-id-4 div.sk-parallel-item::after {content: \"\";width: 100%;border-bottom: 1px solid gray;flex-grow: 1;}#sk-container-id-4 div.sk-label:hover label.sk-toggleable__label {background-color: #d4ebff;}#sk-container-id-4 div.sk-serial::before {content: \"\";position: absolute;border-left: 1px solid gray;box-sizing: border-box;top: 0;bottom: 0;left: 50%;z-index: 0;}#sk-container-id-4 div.sk-serial {display: flex;flex-direction: column;align-items: center;background-color: white;padding-right: 0.2em;padding-left: 0.2em;position: relative;}#sk-container-id-4 div.sk-item {position: relative;z-index: 1;}#sk-container-id-4 div.sk-parallel {display: flex;align-items: stretch;justify-content: center;background-color: white;position: relative;}#sk-container-id-4 div.sk-item::before, #sk-container-id-4 div.sk-parallel-item::before {content: \"\";position: absolute;border-left: 1px solid gray;box-sizing: border-box;top: 0;bottom: 0;left: 50%;z-index: -1;}#sk-container-id-4 div.sk-parallel-item {display: flex;flex-direction: column;z-index: 1;position: relative;background-color: white;}#sk-container-id-4 div.sk-parallel-item:first-child::after {align-self: flex-end;width: 50%;}#sk-container-id-4 div.sk-parallel-item:last-child::after {align-self: flex-start;width: 50%;}#sk-container-id-4 div.sk-parallel-item:only-child::after {width: 0;}#sk-container-id-4 div.sk-dashed-wrapped {border: 1px dashed gray;margin: 0 0.4em 0.5em 0.4em;box-sizing: border-box;padding-bottom: 0.4em;background-color: white;}#sk-container-id-4 div.sk-label label {font-family: monospace;font-weight: bold;display: inline-block;line-height: 1.2em;}#sk-container-id-4 div.sk-label-container {text-align: center;}#sk-container-id-4 div.sk-container {/* jupyter's `normalize.less` sets `[hidden] { display: none; }` but bootstrap.min.css set `[hidden] { display: none !important; }` so we also need the `!important` here to be able to override the default hidden behavior on the sphinx rendered scikit-learn.org. See: https://github.com/scikit-learn/scikit-learn/issues/21755 */display: inline-block !important;position: relative;}#sk-container-id-4 div.sk-text-repr-fallback {display: none;}</style><div id=\"sk-container-id-4\" class=\"sk-top-container\"><div class=\"sk-text-repr-fallback\"><pre>GridSearchCV(cv=3, estimator=LogisticRegression(),\n",
       "             param_grid={&#x27;C&#x27;: [0.01, 0.5, 1, 10],\n",
       "                         &#x27;penalty&#x27;: [&#x27;elasticnet&#x27;, &#x27;l1&#x27;, &#x27;l2&#x27;, None]},\n",
       "             scoring=&#x27;accuracy&#x27;, verbose=2)</pre><b>In a Jupyter environment, please rerun this cell to show the HTML representation or trust the notebook. <br />On GitHub, the HTML representation is unable to render, please try loading this page with nbviewer.org.</b></div><div class=\"sk-container\" hidden><div class=\"sk-item sk-dashed-wrapped\"><div class=\"sk-label-container\"><div class=\"sk-label sk-toggleable\"><input class=\"sk-toggleable__control sk-hidden--visually\" id=\"sk-estimator-id-8\" type=\"checkbox\" ><label for=\"sk-estimator-id-8\" class=\"sk-toggleable__label sk-toggleable__label-arrow\">GridSearchCV</label><div class=\"sk-toggleable__content\"><pre>GridSearchCV(cv=3, estimator=LogisticRegression(),\n",
       "             param_grid={&#x27;C&#x27;: [0.01, 0.5, 1, 10],\n",
       "                         &#x27;penalty&#x27;: [&#x27;elasticnet&#x27;, &#x27;l1&#x27;, &#x27;l2&#x27;, None]},\n",
       "             scoring=&#x27;accuracy&#x27;, verbose=2)</pre></div></div></div><div class=\"sk-parallel\"><div class=\"sk-parallel-item\"><div class=\"sk-item\"><div class=\"sk-label-container\"><div class=\"sk-label sk-toggleable\"><input class=\"sk-toggleable__control sk-hidden--visually\" id=\"sk-estimator-id-9\" type=\"checkbox\" ><label for=\"sk-estimator-id-9\" class=\"sk-toggleable__label sk-toggleable__label-arrow\">estimator: LogisticRegression</label><div class=\"sk-toggleable__content\"><pre>LogisticRegression()</pre></div></div></div><div class=\"sk-serial\"><div class=\"sk-item\"><div class=\"sk-estimator sk-toggleable\"><input class=\"sk-toggleable__control sk-hidden--visually\" id=\"sk-estimator-id-10\" type=\"checkbox\" ><label for=\"sk-estimator-id-10\" class=\"sk-toggleable__label sk-toggleable__label-arrow\">LogisticRegression</label><div class=\"sk-toggleable__content\"><pre>LogisticRegression()</pre></div></div></div></div></div></div></div></div></div></div>"
      ],
      "text/plain": [
       "GridSearchCV(cv=3, estimator=LogisticRegression(),\n",
       "             param_grid={'C': [0.01, 0.5, 1, 10],\n",
       "                         'penalty': ['elasticnet', 'l1', 'l2', None]},\n",
       "             scoring='accuracy', verbose=2)"
      ]
     },
     "execution_count": 34,
     "metadata": {},
     "output_type": "execute_result"
    }
   ],
   "source": [
    "model_grid = GridSearchCV(model_reg, param_grid=param_grid,scoring = 'accuracy', cv =3, verbose = 2)\n",
    "model_grid.fit(X_train, y_train)"
   ]
  },
  {
   "cell_type": "code",
   "execution_count": 35,
   "id": "0b525688",
   "metadata": {},
   "outputs": [
    {
     "data": {
      "text/plain": [
       "{'C': 0.01, 'penalty': 'l2'}"
      ]
     },
     "execution_count": 35,
     "metadata": {},
     "output_type": "execute_result"
    }
   ],
   "source": [
    "model_grid.best_params_"
   ]
  },
  {
   "cell_type": "code",
   "execution_count": 36,
   "id": "beeca9f9",
   "metadata": {},
   "outputs": [],
   "source": [
    "model_finale = model_grid.best_estimator_"
   ]
  },
  {
   "cell_type": "code",
   "execution_count": 37,
   "id": "8eef55e5",
   "metadata": {},
   "outputs": [
    {
     "name": "stdout",
     "output_type": "stream",
     "text": [
      "              precision    recall  f1-score   support\n",
      "\n",
      "           1       0.88      0.86      0.87       500\n",
      "           2       0.62      0.63      0.62       500\n",
      "           3       0.64      0.65      0.64       500\n",
      "           4       0.93      0.91      0.92       500\n",
      "\n",
      "    accuracy                           0.76      2000\n",
      "   macro avg       0.77      0.76      0.77      2000\n",
      "weighted avg       0.77      0.76      0.77      2000\n",
      "\n"
     ]
    }
   ],
   "source": [
    "y_pred = model_finale.predict(X_test)\n",
    "cr = metrics.classification_report(y_test,y_pred)\n",
    "print(cr)"
   ]
  },
  {
   "cell_type": "code",
   "execution_count": null,
   "id": "dc757d3e",
   "metadata": {},
   "outputs": [],
   "source": []
  }
 ],
 "metadata": {
  "kernelspec": {
   "display_name": "Python 3 (ipykernel)",
   "language": "python",
   "name": "python3"
  },
  "language_info": {
   "codemirror_mode": {
    "name": "ipython",
    "version": 3
   },
   "file_extension": ".py",
   "mimetype": "text/x-python",
   "name": "python",
   "nbconvert_exporter": "python",
   "pygments_lexer": "ipython3",
   "version": "3.10.5"
  }
 },
 "nbformat": 4,
 "nbformat_minor": 5
}
