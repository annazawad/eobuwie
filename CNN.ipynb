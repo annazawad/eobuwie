{
 "cells": [
  {
   "cell_type": "code",
   "execution_count": 1,
   "id": "fb2bd0f3",
   "metadata": {},
   "outputs": [],
   "source": [
    "from tensorflow import keras\n",
    "import numpy as np\n",
    "from tensorflow.keras.utils import to_categorical"
   ]
  },
  {
   "cell_type": "code",
   "execution_count": 2,
   "id": "48fcb0f7",
   "metadata": {},
   "outputs": [],
   "source": [
    "import pandas as pd\n",
    "import pickle\n",
    "\n",
    "#data for standars ML models\n",
    "data = pickle.load(open('data_img_df.pickle',mode='rb'))"
   ]
  },
  {
   "cell_type": "code",
   "execution_count": 4,
   "id": "628836d3",
   "metadata": {},
   "outputs": [
    {
     "data": {
      "text/html": [
       "<div>\n",
       "<style scoped>\n",
       "    .dataframe tbody tr th:only-of-type {\n",
       "        vertical-align: middle;\n",
       "    }\n",
       "\n",
       "    .dataframe tbody tr th {\n",
       "        vertical-align: top;\n",
       "    }\n",
       "\n",
       "    .dataframe thead th {\n",
       "        text-align: right;\n",
       "    }\n",
       "</style>\n",
       "<table border=\"1\" class=\"dataframe\">\n",
       "  <thead>\n",
       "    <tr style=\"text-align: right;\">\n",
       "      <th></th>\n",
       "      <th>filepath</th>\n",
       "      <th>category</th>\n",
       "      <th>image_flatten</th>\n",
       "      <th>arr_gray_resized</th>\n",
       "      <th>color_img</th>\n",
       "      <th>color_img_resized</th>\n",
       "    </tr>\n",
       "  </thead>\n",
       "  <tbody>\n",
       "    <tr>\n",
       "      <th>7205</th>\n",
       "      <td>/content/drive/MyDrive/eobuwie/polbuty/01_0000...</td>\n",
       "      <td>polbuty</td>\n",
       "      <td>[255, 255, 255, 255, 255, 254, 254, 254, 254, ...</td>\n",
       "      <td>[[255, 255, 255, 255, 255, 254, 254, 254, 254,...</td>\n",
       "      <td>[[[255, 255, 255], [255, 255, 255], [255, 255,...</td>\n",
       "      <td>[[[255, 255, 255], [255, 255, 255], [255, 255,...</td>\n",
       "    </tr>\n",
       "    <tr>\n",
       "      <th>1859</th>\n",
       "      <td>/content/drive/MyDrive/eobuwie/klapki-i-sandal...</td>\n",
       "      <td>klapki-i-sandaly</td>\n",
       "      <td>[255, 255, 255, 255, 255, 254, 254, 254, 254, ...</td>\n",
       "      <td>[[255, 255, 255, 255, 255, 254, 254, 254, 254,...</td>\n",
       "      <td>[[[255, 255, 255], [255, 255, 255], [255, 255,...</td>\n",
       "      <td>[[[255, 255, 255], [255, 255, 255], [255, 255,...</td>\n",
       "    </tr>\n",
       "    <tr>\n",
       "      <th>9598</th>\n",
       "      <td>/content/drive/MyDrive/eobuwie/sportowe/000020...</td>\n",
       "      <td>sportowe</td>\n",
       "      <td>[255, 255, 255, 255, 255, 254, 254, 254, 254, ...</td>\n",
       "      <td>[[255, 255, 255, 255, 255, 254, 254, 254, 254,...</td>\n",
       "      <td>[[[255, 255, 255], [255, 255, 255], [255, 255,...</td>\n",
       "      <td>[[[255, 255, 255], [255, 255, 255], [255, 255,...</td>\n",
       "    </tr>\n",
       "  </tbody>\n",
       "</table>\n",
       "</div>"
      ],
      "text/plain": [
       "                                               filepath          category  \\\n",
       "7205  /content/drive/MyDrive/eobuwie/polbuty/01_0000...           polbuty   \n",
       "1859  /content/drive/MyDrive/eobuwie/klapki-i-sandal...  klapki-i-sandaly   \n",
       "9598  /content/drive/MyDrive/eobuwie/sportowe/000020...          sportowe   \n",
       "\n",
       "                                          image_flatten  \\\n",
       "7205  [255, 255, 255, 255, 255, 254, 254, 254, 254, ...   \n",
       "1859  [255, 255, 255, 255, 255, 254, 254, 254, 254, ...   \n",
       "9598  [255, 255, 255, 255, 255, 254, 254, 254, 254, ...   \n",
       "\n",
       "                                       arr_gray_resized  \\\n",
       "7205  [[255, 255, 255, 255, 255, 254, 254, 254, 254,...   \n",
       "1859  [[255, 255, 255, 255, 255, 254, 254, 254, 254,...   \n",
       "9598  [[255, 255, 255, 255, 255, 254, 254, 254, 254,...   \n",
       "\n",
       "                                              color_img  \\\n",
       "7205  [[[255, 255, 255], [255, 255, 255], [255, 255,...   \n",
       "1859  [[[255, 255, 255], [255, 255, 255], [255, 255,...   \n",
       "9598  [[[255, 255, 255], [255, 255, 255], [255, 255,...   \n",
       "\n",
       "                                      color_img_resized  \n",
       "7205  [[[255, 255, 255], [255, 255, 255], [255, 255,...  \n",
       "1859  [[[255, 255, 255], [255, 255, 255], [255, 255,...  \n",
       "9598  [[[255, 255, 255], [255, 255, 255], [255, 255,...  "
      ]
     },
     "execution_count": 4,
     "metadata": {},
     "output_type": "execute_result"
    }
   ],
   "source": [
    "data.sample(3)"
   ]
  },
  {
   "cell_type": "code",
   "execution_count": 5,
   "id": "ca4ceda2",
   "metadata": {},
   "outputs": [],
   "source": [
    "data = data.dropna()"
   ]
  },
  {
   "cell_type": "code",
   "execution_count": 6,
   "id": "9066dbf0",
   "metadata": {},
   "outputs": [],
   "source": [
    "cnn_vector  = data['color_img_resized'].to_numpy()/255."
   ]
  },
  {
   "cell_type": "code",
   "execution_count": 7,
   "id": "c08b32ea",
   "metadata": {},
   "outputs": [
    {
     "name": "stdout",
     "output_type": "stream",
     "text": [
      "(9999, 100, 100, 3)\n"
     ]
    }
   ],
   "source": [
    "arr = [cnn_vector[0]]\n",
    "for i in range(1,cnn_vector.shape[0]):\n",
    "  arr = np.vstack((arr,[cnn_vector[i]]))\n",
    "print(arr.shape)"
   ]
  },
  {
   "cell_type": "code",
   "execution_count": 9,
   "id": "0e3835d3",
   "metadata": {},
   "outputs": [],
   "source": [
    "cnn_arr = [arr,data['category'].to_numpy()]"
   ]
  },
  {
   "cell_type": "code",
   "execution_count": 10,
   "id": "9b6ad191",
   "metadata": {},
   "outputs": [],
   "source": [
    "import pickle\n",
    "pickle.dump(cnn_arr,open('data_arr_img.pickle',mode='wb'))"
   ]
  },
  {
   "cell_type": "code",
   "execution_count": 16,
   "id": "451b6468",
   "metadata": {},
   "outputs": [
    {
     "data": {
      "text/plain": [
       "array([[[[1.        , 1.        , 1.        ],\n",
       "         [1.        , 1.        , 1.        ],\n",
       "         [1.        , 1.        , 1.        ],\n",
       "         ...,\n",
       "         [1.        , 1.        , 1.        ],\n",
       "         [1.        , 1.        , 1.        ],\n",
       "         [1.        , 1.        , 1.        ]],\n",
       "\n",
       "        [[0.99607843, 0.99607843, 0.99607843],\n",
       "         [0.99607843, 0.99607843, 0.99607843],\n",
       "         [0.99607843, 0.99607843, 0.99607843],\n",
       "         ...,\n",
       "         [0.99215686, 0.99215686, 0.99215686],\n",
       "         [0.99215686, 0.99215686, 0.99215686],\n",
       "         [0.99215686, 0.99215686, 0.99215686]],\n",
       "\n",
       "        [[1.        , 1.        , 1.        ],\n",
       "         [1.        , 1.        , 1.        ],\n",
       "         [1.        , 1.        , 1.        ],\n",
       "         ...,\n",
       "         [1.        , 1.        , 1.        ],\n",
       "         [1.        , 1.        , 1.        ],\n",
       "         [1.        , 1.        , 1.        ]],\n",
       "\n",
       "        ...,\n",
       "\n",
       "        [[0.99607843, 0.99607843, 0.99607843],\n",
       "         [0.99607843, 0.99607843, 0.99607843],\n",
       "         [0.99607843, 0.99607843, 0.99607843],\n",
       "         ...,\n",
       "         [0.99607843, 0.99607843, 0.99607843],\n",
       "         [0.99607843, 0.99607843, 0.99607843],\n",
       "         [0.99607843, 0.99607843, 0.99607843]],\n",
       "\n",
       "        [[1.        , 1.        , 1.        ],\n",
       "         [1.        , 1.        , 1.        ],\n",
       "         [1.        , 1.        , 1.        ],\n",
       "         ...,\n",
       "         [1.        , 1.        , 1.        ],\n",
       "         [1.        , 1.        , 1.        ],\n",
       "         [1.        , 1.        , 1.        ]],\n",
       "\n",
       "        [[1.        , 1.        , 1.        ],\n",
       "         [1.        , 1.        , 1.        ],\n",
       "         [1.        , 1.        , 1.        ],\n",
       "         ...,\n",
       "         [1.        , 1.        , 1.        ],\n",
       "         [1.        , 1.        , 1.        ],\n",
       "         [1.        , 1.        , 1.        ]]],\n",
       "\n",
       "\n",
       "       [[[1.        , 1.        , 1.        ],\n",
       "         [1.        , 1.        , 1.        ],\n",
       "         [1.        , 1.        , 1.        ],\n",
       "         ...,\n",
       "         [1.        , 1.        , 1.        ],\n",
       "         [1.        , 1.        , 1.        ],\n",
       "         [1.        , 1.        , 1.        ]],\n",
       "\n",
       "        [[0.99607843, 0.99607843, 0.99607843],\n",
       "         [0.99607843, 0.99607843, 0.99607843],\n",
       "         [0.99607843, 0.99607843, 0.99607843],\n",
       "         ...,\n",
       "         [0.99215686, 0.99215686, 0.99215686],\n",
       "         [0.99215686, 0.99215686, 0.99215686],\n",
       "         [0.99215686, 0.99215686, 0.99215686]],\n",
       "\n",
       "        [[1.        , 1.        , 1.        ],\n",
       "         [1.        , 1.        , 1.        ],\n",
       "         [1.        , 1.        , 1.        ],\n",
       "         ...,\n",
       "         [1.        , 1.        , 1.        ],\n",
       "         [1.        , 1.        , 1.        ],\n",
       "         [1.        , 1.        , 1.        ]],\n",
       "\n",
       "        ...,\n",
       "\n",
       "        [[0.99607843, 0.99607843, 0.99607843],\n",
       "         [0.99607843, 0.99607843, 0.99607843],\n",
       "         [0.99607843, 0.99607843, 0.99607843],\n",
       "         ...,\n",
       "         [0.99607843, 0.99607843, 0.99607843],\n",
       "         [0.99607843, 0.99607843, 0.99607843],\n",
       "         [0.99607843, 0.99607843, 0.99607843]],\n",
       "\n",
       "        [[1.        , 1.        , 1.        ],\n",
       "         [1.        , 1.        , 1.        ],\n",
       "         [1.        , 1.        , 1.        ],\n",
       "         ...,\n",
       "         [1.        , 1.        , 1.        ],\n",
       "         [1.        , 1.        , 1.        ],\n",
       "         [1.        , 1.        , 1.        ]],\n",
       "\n",
       "        [[1.        , 1.        , 1.        ],\n",
       "         [1.        , 1.        , 1.        ],\n",
       "         [1.        , 1.        , 1.        ],\n",
       "         ...,\n",
       "         [1.        , 1.        , 1.        ],\n",
       "         [1.        , 1.        , 1.        ],\n",
       "         [1.        , 1.        , 1.        ]]],\n",
       "\n",
       "\n",
       "       [[[1.        , 1.        , 1.        ],\n",
       "         [1.        , 1.        , 1.        ],\n",
       "         [1.        , 1.        , 1.        ],\n",
       "         ...,\n",
       "         [1.        , 1.        , 1.        ],\n",
       "         [1.        , 1.        , 1.        ],\n",
       "         [1.        , 1.        , 1.        ]],\n",
       "\n",
       "        [[0.99607843, 0.99607843, 0.99607843],\n",
       "         [0.99607843, 0.99607843, 0.99607843],\n",
       "         [0.99607843, 0.99607843, 0.99607843],\n",
       "         ...,\n",
       "         [0.99215686, 0.99215686, 0.99215686],\n",
       "         [0.99215686, 0.99215686, 0.99215686],\n",
       "         [0.99215686, 0.99215686, 0.99215686]],\n",
       "\n",
       "        [[1.        , 1.        , 1.        ],\n",
       "         [1.        , 1.        , 1.        ],\n",
       "         [1.        , 1.        , 1.        ],\n",
       "         ...,\n",
       "         [1.        , 1.        , 1.        ],\n",
       "         [1.        , 1.        , 1.        ],\n",
       "         [1.        , 1.        , 1.        ]],\n",
       "\n",
       "        ...,\n",
       "\n",
       "        [[0.99607843, 0.99607843, 0.99607843],\n",
       "         [0.99607843, 0.99607843, 0.99607843],\n",
       "         [0.99607843, 0.99607843, 0.99607843],\n",
       "         ...,\n",
       "         [0.99607843, 0.99607843, 0.99607843],\n",
       "         [0.99607843, 0.99607843, 0.99607843],\n",
       "         [0.99607843, 0.99607843, 0.99607843]],\n",
       "\n",
       "        [[1.        , 1.        , 1.        ],\n",
       "         [1.        , 1.        , 1.        ],\n",
       "         [1.        , 1.        , 1.        ],\n",
       "         ...,\n",
       "         [1.        , 1.        , 1.        ],\n",
       "         [1.        , 1.        , 1.        ],\n",
       "         [1.        , 1.        , 1.        ]],\n",
       "\n",
       "        [[1.        , 1.        , 1.        ],\n",
       "         [1.        , 1.        , 1.        ],\n",
       "         [1.        , 1.        , 1.        ],\n",
       "         ...,\n",
       "         [1.        , 1.        , 1.        ],\n",
       "         [1.        , 1.        , 1.        ],\n",
       "         [1.        , 1.        , 1.        ]]],\n",
       "\n",
       "\n",
       "       ...,\n",
       "\n",
       "\n",
       "       [[[1.        , 1.        , 1.        ],\n",
       "         [1.        , 1.        , 1.        ],\n",
       "         [1.        , 1.        , 1.        ],\n",
       "         ...,\n",
       "         [1.        , 1.        , 1.        ],\n",
       "         [1.        , 1.        , 1.        ],\n",
       "         [1.        , 1.        , 1.        ]],\n",
       "\n",
       "        [[0.99607843, 0.99607843, 0.99607843],\n",
       "         [0.99607843, 0.99607843, 0.99607843],\n",
       "         [0.99607843, 0.99607843, 0.99607843],\n",
       "         ...,\n",
       "         [0.99607843, 0.99607843, 0.99607843],\n",
       "         [0.99607843, 0.99607843, 0.99607843],\n",
       "         [0.99607843, 0.99607843, 0.99607843]],\n",
       "\n",
       "        [[1.        , 1.        , 1.        ],\n",
       "         [1.        , 1.        , 1.        ],\n",
       "         [1.        , 1.        , 1.        ],\n",
       "         ...,\n",
       "         [1.        , 1.        , 1.        ],\n",
       "         [1.        , 1.        , 1.        ],\n",
       "         [1.        , 1.        , 1.        ]],\n",
       "\n",
       "        ...,\n",
       "\n",
       "        [[1.        , 1.        , 1.        ],\n",
       "         [1.        , 1.        , 1.        ],\n",
       "         [1.        , 1.        , 1.        ],\n",
       "         ...,\n",
       "         [1.        , 1.        , 1.        ],\n",
       "         [1.        , 1.        , 1.        ],\n",
       "         [1.        , 1.        , 1.        ]],\n",
       "\n",
       "        [[1.        , 1.        , 1.        ],\n",
       "         [1.        , 1.        , 1.        ],\n",
       "         [1.        , 1.        , 1.        ],\n",
       "         ...,\n",
       "         [0.99607843, 0.99607843, 0.99607843],\n",
       "         [0.99607843, 0.99607843, 0.99607843],\n",
       "         [0.99607843, 0.99607843, 0.99607843]],\n",
       "\n",
       "        [[1.        , 1.        , 1.        ],\n",
       "         [1.        , 1.        , 1.        ],\n",
       "         [1.        , 1.        , 1.        ],\n",
       "         ...,\n",
       "         [1.        , 1.        , 1.        ],\n",
       "         [1.        , 1.        , 1.        ],\n",
       "         [0.99607843, 0.99607843, 0.99607843]]],\n",
       "\n",
       "\n",
       "       [[[1.        , 1.        , 1.        ],\n",
       "         [1.        , 1.        , 1.        ],\n",
       "         [1.        , 1.        , 1.        ],\n",
       "         ...,\n",
       "         [1.        , 1.        , 1.        ],\n",
       "         [1.        , 1.        , 1.        ],\n",
       "         [1.        , 1.        , 1.        ]],\n",
       "\n",
       "        [[0.99607843, 0.99607843, 0.99607843],\n",
       "         [0.99607843, 0.99607843, 0.99607843],\n",
       "         [0.99607843, 0.99607843, 0.99607843],\n",
       "         ...,\n",
       "         [0.99215686, 0.99215686, 0.99215686],\n",
       "         [0.99215686, 0.99215686, 0.99215686],\n",
       "         [0.99215686, 0.99215686, 0.99215686]],\n",
       "\n",
       "        [[1.        , 1.        , 1.        ],\n",
       "         [1.        , 1.        , 1.        ],\n",
       "         [1.        , 1.        , 1.        ],\n",
       "         ...,\n",
       "         [1.        , 1.        , 1.        ],\n",
       "         [1.        , 1.        , 1.        ],\n",
       "         [1.        , 1.        , 1.        ]],\n",
       "\n",
       "        ...,\n",
       "\n",
       "        [[0.99607843, 0.99607843, 0.99607843],\n",
       "         [0.99607843, 0.99607843, 0.99607843],\n",
       "         [0.99607843, 0.99607843, 0.99607843],\n",
       "         ...,\n",
       "         [0.99607843, 0.99607843, 0.99607843],\n",
       "         [0.99607843, 0.99607843, 0.99607843],\n",
       "         [0.99607843, 0.99607843, 0.99607843]],\n",
       "\n",
       "        [[1.        , 1.        , 1.        ],\n",
       "         [1.        , 1.        , 1.        ],\n",
       "         [1.        , 1.        , 1.        ],\n",
       "         ...,\n",
       "         [1.        , 1.        , 1.        ],\n",
       "         [1.        , 1.        , 1.        ],\n",
       "         [1.        , 1.        , 1.        ]],\n",
       "\n",
       "        [[1.        , 1.        , 1.        ],\n",
       "         [1.        , 1.        , 1.        ],\n",
       "         [1.        , 1.        , 1.        ],\n",
       "         ...,\n",
       "         [1.        , 1.        , 1.        ],\n",
       "         [1.        , 1.        , 1.        ],\n",
       "         [1.        , 1.        , 1.        ]]],\n",
       "\n",
       "\n",
       "       [[[1.        , 1.        , 1.        ],\n",
       "         [1.        , 1.        , 1.        ],\n",
       "         [1.        , 1.        , 1.        ],\n",
       "         ...,\n",
       "         [1.        , 1.        , 1.        ],\n",
       "         [1.        , 1.        , 1.        ],\n",
       "         [1.        , 1.        , 1.        ]],\n",
       "\n",
       "        [[0.99607843, 0.99607843, 0.99607843],\n",
       "         [0.99607843, 0.99607843, 0.99607843],\n",
       "         [0.99607843, 0.99607843, 0.99607843],\n",
       "         ...,\n",
       "         [0.99215686, 0.99215686, 0.99215686],\n",
       "         [0.99215686, 0.99215686, 0.99215686],\n",
       "         [0.99215686, 0.99215686, 0.99215686]],\n",
       "\n",
       "        [[1.        , 1.        , 1.        ],\n",
       "         [1.        , 1.        , 1.        ],\n",
       "         [1.        , 1.        , 1.        ],\n",
       "         ...,\n",
       "         [1.        , 1.        , 1.        ],\n",
       "         [1.        , 1.        , 1.        ],\n",
       "         [1.        , 1.        , 1.        ]],\n",
       "\n",
       "        ...,\n",
       "\n",
       "        [[0.99607843, 0.99607843, 0.99607843],\n",
       "         [0.99607843, 0.99607843, 0.99607843],\n",
       "         [0.99607843, 0.99607843, 0.99607843],\n",
       "         ...,\n",
       "         [0.99607843, 0.99607843, 0.99607843],\n",
       "         [0.99607843, 0.99607843, 0.99607843],\n",
       "         [0.99607843, 0.99607843, 0.99607843]],\n",
       "\n",
       "        [[1.        , 1.        , 1.        ],\n",
       "         [1.        , 1.        , 1.        ],\n",
       "         [1.        , 1.        , 1.        ],\n",
       "         ...,\n",
       "         [1.        , 1.        , 1.        ],\n",
       "         [1.        , 1.        , 1.        ],\n",
       "         [1.        , 1.        , 1.        ]],\n",
       "\n",
       "        [[1.        , 1.        , 1.        ],\n",
       "         [1.        , 1.        , 1.        ],\n",
       "         [1.        , 1.        , 1.        ],\n",
       "         ...,\n",
       "         [1.        , 1.        , 1.        ],\n",
       "         [1.        , 1.        , 1.        ],\n",
       "         [1.        , 1.        , 1.        ]]]])"
      ]
     },
     "execution_count": 16,
     "metadata": {},
     "output_type": "execute_result"
    }
   ],
   "source": [
    "cnn_arr[0]"
   ]
  },
  {
   "cell_type": "code",
   "execution_count": 15,
   "id": "cf909c90",
   "metadata": {},
   "outputs": [
    {
     "data": {
      "text/plain": [
       "array(['klapki-i-sandaly', 'klapki-i-sandaly', 'klapki-i-sandaly', ...,\n",
       "       'sportowe', 'sportowe', 'sportowe'], dtype=object)"
      ]
     },
     "execution_count": 15,
     "metadata": {},
     "output_type": "execute_result"
    }
   ],
   "source": [
    "cnn_arr[1]"
   ]
  },
  {
   "cell_type": "code",
   "execution_count": 17,
   "id": "ccfd9211",
   "metadata": {},
   "outputs": [],
   "source": [
    "import pickle\n",
    "data = pickle.load(open('data_arr_img.pickle',mode='rb'))"
   ]
  },
  {
   "cell_type": "code",
   "execution_count": 18,
   "id": "9a2ca465",
   "metadata": {},
   "outputs": [],
   "source": [
    "import pandas as pd\n",
    "import numpy as np\n",
    "X = data[0]\n",
    "y = data[1]"
   ]
  },
  {
   "cell_type": "code",
   "execution_count": 19,
   "id": "3724370d",
   "metadata": {},
   "outputs": [],
   "source": [
    "y_series = pd.DataFrame(y)\n",
    "\n",
    "dict_names = {'klapki-i-sandaly':1, 'polbuty':2, 'sportowe':3, 'kozaki-i-inne':4}\n",
    "\n",
    "y_series['category_num'] = y_series.iloc[:,0].apply(lambda row: dict_names[row])\n",
    "\n",
    "y = y_series['category_num'].to_numpy()"
   ]
  },
  {
   "cell_type": "code",
   "execution_count": 20,
   "id": "17863d09",
   "metadata": {},
   "outputs": [
    {
     "data": {
      "text/plain": [
       "(9999, 100, 100, 3)"
      ]
     },
     "execution_count": 20,
     "metadata": {},
     "output_type": "execute_result"
    }
   ],
   "source": [
    "X.shape"
   ]
  },
  {
   "cell_type": "code",
   "execution_count": 21,
   "id": "950a9d74",
   "metadata": {},
   "outputs": [
    {
     "data": {
      "text/plain": [
       "(9999,)"
      ]
     },
     "execution_count": 21,
     "metadata": {},
     "output_type": "execute_result"
    }
   ],
   "source": [
    "y.shape"
   ]
  },
  {
   "cell_type": "code",
   "execution_count": 22,
   "id": "aa868ded",
   "metadata": {},
   "outputs": [
    {
     "data": {
      "text/plain": [
       "array([1, 1, 1, ..., 3, 3, 3], dtype=int64)"
      ]
     },
     "execution_count": 22,
     "metadata": {},
     "output_type": "execute_result"
    }
   ],
   "source": [
    "y"
   ]
  },
  {
   "cell_type": "markdown",
   "id": "58a05ca7",
   "metadata": {},
   "source": [
    "# Train the model and evaluation of the CNN model"
   ]
  },
  {
   "cell_type": "code",
   "execution_count": 23,
   "id": "31c0b86e",
   "metadata": {},
   "outputs": [],
   "source": [
    "from sklearn.model_selection import train_test_split\n",
    "from tensorflow.keras.models import Sequential\n",
    "from tensorflow.keras.layers import Dense, Conv2D, MaxPool2D, Flatten\n",
    "\n",
    "X_train, X_test, y_train, y_test = train_test_split(X,y,test_size=0.2,stratify=y)"
   ]
  },
  {
   "cell_type": "code",
   "execution_count": 32,
   "id": "40f36441",
   "metadata": {},
   "outputs": [],
   "source": [
    "y_train_ohe = to_categorical(y_train)\n",
    "y_test_ohe = to_categorical(y_test)"
   ]
  },
  {
   "cell_type": "code",
   "execution_count": 37,
   "id": "dfaaa358",
   "metadata": {},
   "outputs": [
    {
     "data": {
      "text/plain": [
       "array([0., 0., 0., 1., 0.], dtype=float32)"
      ]
     },
     "execution_count": 37,
     "metadata": {},
     "output_type": "execute_result"
    }
   ],
   "source": [
    "y_test_ohe[0]"
   ]
  },
  {
   "cell_type": "code",
   "execution_count": 42,
   "id": "cd44a683",
   "metadata": {},
   "outputs": [
    {
     "data": {
      "text/plain": [
       "array([1, 2, 3, 4], dtype=int64)"
      ]
     },
     "execution_count": 42,
     "metadata": {},
     "output_type": "execute_result"
    }
   ],
   "source": [
    "np.unique(y_test)"
   ]
  },
  {
   "cell_type": "code",
   "execution_count": 43,
   "id": "c6e83bd8",
   "metadata": {},
   "outputs": [],
   "source": [
    "model = Sequential()\n",
    "\n",
    "model.add(Conv2D(64, (3, 3),\n",
    "          activation='relu',\n",
    "          input_shape=(100, 100,3),\n",
    "          kernel_initializer='he_uniform',\n",
    "          padding='same'))\n",
    "model.add(MaxPool2D((2,2)))\n",
    "\n",
    "model.add(Conv2D(32, (3, 3),\n",
    "          activation='relu',\n",
    "          kernel_initializer='he_uniform',\n",
    "          padding='same'))\n",
    "model.add(MaxPool2D((2,2), strides=(1,1)))\n",
    "\n",
    "model.add(Flatten())\n",
    "model.add(Dense(128,\n",
    "          activation='relu'))\n",
    "model.add(Dense(5,\n",
    "          activation='softmax'))"
   ]
  },
  {
   "cell_type": "code",
   "execution_count": 44,
   "id": "3c1fa5c9",
   "metadata": {},
   "outputs": [],
   "source": [
    "model.compile(optimizer='adam',\n",
    "              loss='categorical_crossentropy',\n",
    "              metrics = ['accuracy'])"
   ]
  },
  {
   "cell_type": "code",
   "execution_count": 45,
   "id": "de1db5f0",
   "metadata": {},
   "outputs": [
    {
     "name": "stdout",
     "output_type": "stream",
     "text": [
      "Epoch 1/10\n",
      "63/63 [==============================] - 49s 767ms/step - loss: 8.3340 - accuracy: 0.6106 - val_loss: 0.5026 - val_accuracy: 0.8045\n",
      "Epoch 2/10\n",
      "63/63 [==============================] - 49s 778ms/step - loss: 0.4780 - accuracy: 0.8024 - val_loss: 0.4596 - val_accuracy: 0.8135\n",
      "Epoch 3/10\n",
      "63/63 [==============================] - 49s 773ms/step - loss: 0.3881 - accuracy: 0.8354 - val_loss: 0.3721 - val_accuracy: 0.8405\n",
      "Epoch 4/10\n",
      "63/63 [==============================] - 51s 804ms/step - loss: 0.3372 - accuracy: 0.8580 - val_loss: 0.4153 - val_accuracy: 0.8260\n",
      "Epoch 5/10\n",
      "63/63 [==============================] - 51s 804ms/step - loss: 0.3705 - accuracy: 0.8431 - val_loss: 0.4171 - val_accuracy: 0.8305\n",
      "Epoch 6/10\n",
      "63/63 [==============================] - 49s 781ms/step - loss: 0.2951 - accuracy: 0.8769 - val_loss: 0.4006 - val_accuracy: 0.8400\n",
      "Epoch 7/10\n",
      "63/63 [==============================] - 51s 814ms/step - loss: 0.2607 - accuracy: 0.8914 - val_loss: 0.4164 - val_accuracy: 0.8420\n",
      "Epoch 8/10\n",
      "63/63 [==============================] - 53s 836ms/step - loss: 0.2270 - accuracy: 0.9104 - val_loss: 0.3885 - val_accuracy: 0.8470\n",
      "Epoch 9/10\n",
      "63/63 [==============================] - 51s 805ms/step - loss: 0.2021 - accuracy: 0.9155 - val_loss: 0.3821 - val_accuracy: 0.8445\n",
      "Epoch 10/10\n",
      "63/63 [==============================] - 52s 825ms/step - loss: 0.1925 - accuracy: 0.9204 - val_loss: 0.4025 - val_accuracy: 0.8440\n"
     ]
    }
   ],
   "source": [
    "history = model.fit(X_train, y_train_ohe,\n",
    "                    epochs = 10,\n",
    "                    batch_size = 128,\n",
    "                    validation_data=(X_test, y_test_ohe),\n",
    "                    verbose = 1)"
   ]
  },
  {
   "cell_type": "code",
   "execution_count": 46,
   "id": "fc8c95eb",
   "metadata": {},
   "outputs": [],
   "source": [
    "import matplotlib.pyplot as plt\n",
    "\n",
    "def plot_history(history):\n",
    " #Plot the Loss Curves\n",
    " plt.figure(figsize=[8,6])\n",
    " plt.plot(history.history['loss'],'r',linewidth=3.0)\n",
    " plt.plot(history.history['val_loss'],'b',linewidth=3.0)\n",
    " plt.legend(['Training loss', 'Validation Loss'],fontsize=18)\n",
    " plt.xlabel('Epochs ',fontsize=16)\n",
    " plt.ylabel('Loss',fontsize=16)\n",
    " plt.title('Loss Curves',fontsize=16)\n",
    " #Plot the Accuracy Curves\n",
    " plt.figure(figsize=[8,6])\n",
    " plt.plot(history.history['accuracy'], 'r', linewidth=3.0)\n",
    " plt.plot(history.history['val_accuracy'], 'b',linewidth=3.0)\n",
    " plt.legend(['Training Accuracy', 'Validation Accuracy'],fontsize=18)\n",
    " plt.xlabel('Epochs ',fontsize=16)\n",
    " plt.ylabel('Accuracy',fontsize=16)\n",
    " plt.title('Accuracy Curves',fontsize=16)"
   ]
  },
  {
   "cell_type": "code",
   "execution_count": 47,
   "id": "fd6dc8ab",
   "metadata": {},
   "outputs": [
    {
     "data": {
      "image/png": "[encoded data removed]",
      "text/plain": [
       "<Figure size 576x432 with 1 Axes>"
      ]
     },
     "metadata": {
      "needs_background": "light"
     },
     "output_type": "display_data"
    },
    {
     "data": {
      "image/png": "[encoded data removed]",
      "text/plain": [
       "<Figure size 576x432 with 1 Axes>"
      ]
     },
     "metadata": {
      "needs_background": "light"
     },
     "output_type": "display_data"
    }
   ],
   "source": [
    "plot_history(history)"
   ]
  },
  {
   "cell_type": "code",
   "execution_count": 48,
   "id": "01fafc70",
   "metadata": {},
   "outputs": [
    {
     "name": "stdout",
     "output_type": "stream",
     "text": [
      "63/63 [==============================] - 5s 43ms/step\n",
      "              precision    recall  f1-score   support\n",
      "\n",
      "           1       0.95      0.95      0.95       497\n",
      "           2       0.83      0.71      0.76       591\n",
      "           3       0.63      0.80      0.70       392\n",
      "           4       0.97      0.93      0.95       520\n",
      "\n",
      "    accuracy                           0.84      2000\n",
      "   macro avg       0.84      0.85      0.84      2000\n",
      "weighted avg       0.86      0.84      0.85      2000\n",
      "\n"
     ]
    }
   ],
   "source": [
    "from sklearn.metrics import classification_report\n",
    "y_pred = model.predict(X_test)\n",
    "y_pred = np.argmax(y_pred, axis=1)\n",
    "print(classification_report(y_pred, y_test))"
   ]
  },
  {
   "cell_type": "markdown",
   "id": "51b0048c",
   "metadata": {},
   "source": [
    "# Add regularization, add more layers"
   ]
  },
  {
   "cell_type": "code",
   "execution_count": 69,
   "id": "5f6ad647",
   "metadata": {},
   "outputs": [],
   "source": [
    "from tensorflow import keras\n",
    "import numpy as np\n",
    "from tensorflow.keras.utils import to_categorical\n",
    "from tensorflow.keras.layers import BatchNormalization, Dropout\n",
    "from tensorflow.keras import regularizers"
   ]
  },
  {
   "cell_type": "code",
   "execution_count": 70,
   "id": "69846442",
   "metadata": {},
   "outputs": [],
   "source": [
    "from sklearn.model_selection import train_test_split\n",
    "from tensorflow.keras.models import Sequential\n",
    "from tensorflow.keras.layers import Dense, Conv2D, MaxPool2D, Flatten\n",
    "\n",
    "X_train, X_test, y_train, y_test = train_test_split(X,y,test_size=0.2,stratify=y)\n",
    "X_train, X_val, y_train, y_val = train_test_split(X_train,y_train,test_size=0.2,stratify=y_train)\n",
    "\n",
    "y_train_ohe = to_categorical(y_train)\n",
    "y_val_ohe = to_categorical(y_val)\n",
    "y_test_ohe = to_categorical(y_test)"
   ]
  },
  {
   "cell_type": "code",
   "execution_count": 74,
   "id": "40af654d",
   "metadata": {},
   "outputs": [
    {
     "name": "stdout",
     "output_type": "stream",
     "text": [
      "Epoch 1/15\n",
      "50/50 [==============================] - 75s 1s/step - loss: 3.2347 - accuracy: 0.5915 - val_loss: 2.8106 - val_accuracy: 0.7663\n",
      "Epoch 2/15\n",
      "50/50 [==============================] - 78s 2s/step - loss: 2.7180 - accuracy: 0.7825 - val_loss: 2.6535 - val_accuracy: 0.7931\n",
      "Epoch 3/15\n",
      "50/50 [==============================] - 82s 2s/step - loss: 2.5772 - accuracy: 0.8150 - val_loss: 2.5392 - val_accuracy: 0.8188\n",
      "Epoch 4/15\n",
      "50/50 [==============================] - 75s 1s/step - loss: 2.4680 - accuracy: 0.8293 - val_loss: 2.4839 - val_accuracy: 0.8188\n",
      "Epoch 5/15\n",
      "50/50 [==============================] - 88s 2s/step - loss: 2.3840 - accuracy: 0.8484 - val_loss: 2.3887 - val_accuracy: 0.8269\n",
      "Epoch 6/15\n",
      "50/50 [==============================] - 90s 2s/step - loss: 2.3069 - accuracy: 0.8547 - val_loss: 2.3351 - val_accuracy: 0.8356\n",
      "Epoch 7/15\n",
      "50/50 [==============================] - 88s 2s/step - loss: 2.2264 - accuracy: 0.8650 - val_loss: 2.3367 - val_accuracy: 0.8106\n",
      "Epoch 8/15\n",
      "50/50 [==============================] - 85s 2s/step - loss: 2.1763 - accuracy: 0.8644 - val_loss: 2.3144 - val_accuracy: 0.7975\n",
      "Epoch 9/15\n",
      "50/50 [==============================] - 86s 2s/step - loss: 2.1232 - accuracy: 0.8734 - val_loss: 2.1720 - val_accuracy: 0.8519\n",
      "Epoch 10/15\n",
      "50/50 [==============================] - 92s 2s/step - loss: 2.0494 - accuracy: 0.8917 - val_loss: 2.1384 - val_accuracy: 0.8481\n",
      "Epoch 11/15\n",
      "50/50 [==============================] - 93s 2s/step - loss: 2.0055 - accuracy: 0.8892 - val_loss: 2.1489 - val_accuracy: 0.8363\n",
      "Epoch 12/15\n",
      "50/50 [==============================] - 88s 2s/step - loss: 1.9574 - accuracy: 0.8995 - val_loss: 2.0828 - val_accuracy: 0.8431\n",
      "Epoch 13/15\n",
      "50/50 [==============================] - 83s 2s/step - loss: 1.9126 - accuracy: 0.9056 - val_loss: 2.0422 - val_accuracy: 0.8425\n",
      "Epoch 14/15\n",
      "50/50 [==============================] - 83s 2s/step - loss: 1.8755 - accuracy: 0.9059 - val_loss: 2.0088 - val_accuracy: 0.8500\n",
      "Epoch 15/15\n",
      "50/50 [==============================] - 86s 2s/step - loss: 1.8474 - accuracy: 0.9025 - val_loss: 1.9917 - val_accuracy: 0.8338\n"
     ]
    }
   ],
   "source": [
    "model = Sequential()\n",
    "\n",
    "model.add(Conv2D(64, (3, 3),\n",
    "          activation='relu',\n",
    "          input_shape=(100, 100,3),\n",
    "          kernel_initializer='he_uniform',\n",
    "          kernel_regularizer=regularizers.l2(l=0.01),\n",
    "          padding='same'))\n",
    "model.add(MaxPool2D((2,2)))\n",
    "\n",
    "model.add(Conv2D(32, (3, 3),\n",
    "          activation='relu',\n",
    "          kernel_initializer='he_uniform',\n",
    "          kernel_regularizer=regularizers.l2(l=0.01),\n",
    "          padding='same'))\n",
    "model.add(MaxPool2D((2,2), strides=(1,1)))\n",
    "\n",
    "model.add(Conv2D(32, (3, 3),\n",
    "          activation='relu',\n",
    "          kernel_initializer='he_uniform',\n",
    "          kernel_regularizer=regularizers.l2(l=0.001),\n",
    "          padding='same'))\n",
    "model.add(MaxPool2D((2,2), strides=(1,1)))\n",
    "\n",
    "model.add(Conv2D(16, (3, 3),\n",
    "          activation='relu',\n",
    "          kernel_initializer='he_uniform',\n",
    "          kernel_regularizer=regularizers.l2(l=0.01),\n",
    "          padding='same'))\n",
    "model.add(MaxPool2D((2,2), strides=(1,1)))\n",
    "\n",
    "\n",
    "model.add(Flatten())\n",
    "model.add(Dropout(0.3))\n",
    "model.add(Dense(128,\n",
    "          activation='relu'))\n",
    "model.add(Dense(5,\n",
    "          activation='softmax'))\n",
    "\n",
    "optimizer = keras.optimizers.Adam(0.0001)\n",
    "\n",
    "model.compile(optimizer= optimizer,\n",
    "              loss='categorical_crossentropy',\n",
    "              metrics = ['accuracy'])\n",
    "\n",
    "history = model.fit(X_train, y_train_ohe,\n",
    "                    epochs = 15,\n",
    "                    batch_size = 128,\n",
    "                    validation_data=(X_val, y_val_ohe),\n",
    "                    verbose = 1)"
   ]
  },
  {
   "cell_type": "code",
   "execution_count": 75,
   "id": "78f60f62",
   "metadata": {},
   "outputs": [
    {
     "name": "stdout",
     "output_type": "stream",
     "text": [
      "63/63 [==============================] - 3s 47ms/step\n",
      "              precision    recall  f1-score   support\n",
      "\n",
      "           1       0.93      0.97      0.95       481\n",
      "           2       0.85      0.71      0.77       600\n",
      "           3       0.67      0.79      0.73       428\n",
      "           4       0.93      0.95      0.94       491\n",
      "\n",
      "    accuracy                           0.85      2000\n",
      "   macro avg       0.85      0.85      0.85      2000\n",
      "weighted avg       0.85      0.85      0.85      2000\n",
      "\n"
     ]
    }
   ],
   "source": [
    "from sklearn.metrics import classification_report\n",
    "y_pred = model.predict(X_test)\n",
    "y_pred = np.argmax(y_pred, axis=1)\n",
    "print(classification_report(y_pred, y_test))"
   ]
  },
  {
   "cell_type": "code",
   "execution_count": 76,
   "id": "0c3ca9c1",
   "metadata": {},
   "outputs": [],
   "source": [
    "model.save(\"my_model2.h5\", include_optimizer=True)"
   ]
  },
  {
   "cell_type": "markdown",
   "id": "80299c48",
   "metadata": {},
   "source": [
    "# Batch normalization and dropout"
   ]
  },
  {
   "cell_type": "code",
   "execution_count": 49,
   "id": "23a79f57",
   "metadata": {},
   "outputs": [],
   "source": [
    "from tensorflow.keras.layers import BatchNormalization, Dropout"
   ]
  },
  {
   "cell_type": "code",
   "execution_count": 50,
   "id": "e3cfe8de",
   "metadata": {},
   "outputs": [
    {
     "name": "stdout",
     "output_type": "stream",
     "text": [
      "Epoch 1/10\n",
      "63/63 [==============================] - 103s 2s/step - loss: 3.8549 - accuracy: 0.6478 - val_loss: 8.9936 - val_accuracy: 0.2505\n",
      "Epoch 2/10\n",
      "63/63 [==============================] - 110s 2s/step - loss: 0.4919 - accuracy: 0.7946 - val_loss: 1.1616 - val_accuracy: 0.5340\n",
      "Epoch 3/10\n",
      "63/63 [==============================] - 109s 2s/step - loss: 0.4288 - accuracy: 0.8204 - val_loss: 16.4762 - val_accuracy: 0.4015\n",
      "Epoch 4/10\n",
      "63/63 [==============================] - 109s 2s/step - loss: 0.3618 - accuracy: 0.8527 - val_loss: 22.4347 - val_accuracy: 0.3710\n",
      "Epoch 5/10\n",
      "63/63 [==============================] - 111s 2s/step - loss: 0.3434 - accuracy: 0.8601 - val_loss: 18.1170 - val_accuracy: 0.4110\n",
      "Epoch 6/10\n",
      "63/63 [==============================] - 123s 2s/step - loss: 0.3338 - accuracy: 0.8604 - val_loss: 9.0684 - val_accuracy: 0.5330\n",
      "Epoch 7/10\n",
      "63/63 [==============================] - 136s 2s/step - loss: 0.2842 - accuracy: 0.8812 - val_loss: 5.6369 - val_accuracy: 0.5725\n",
      "Epoch 8/10\n",
      "63/63 [==============================] - 146s 2s/step - loss: 0.2711 - accuracy: 0.8879 - val_loss: 1.9939 - val_accuracy: 0.7150\n",
      "Epoch 9/10\n",
      "63/63 [==============================] - 137s 2s/step - loss: 0.2711 - accuracy: 0.8871 - val_loss: 1.8725 - val_accuracy: 0.7035\n",
      "Epoch 10/10\n",
      "63/63 [==============================] - 121s 2s/step - loss: 0.2508 - accuracy: 0.9001 - val_loss: 0.8997 - val_accuracy: 0.7445\n"
     ]
    }
   ],
   "source": [
    "model = Sequential()\n",
    "\n",
    "model.add(Conv2D(64, (3, 3),\n",
    "          activation='relu',\n",
    "          input_shape=(100, 100,3),\n",
    "          kernel_initializer='he_uniform',\n",
    "          padding='same'))\n",
    "\n",
    "model.add(BatchNormalization())\n",
    "model.add(MaxPool2D((2,2)))\n",
    "model.add(Dropout(0.3))\n",
    "\n",
    "model.add(Conv2D(32, (3, 3),\n",
    "          activation='relu',\n",
    "          kernel_initializer='he_uniform',\n",
    "\n",
    "          padding='same'))\n",
    "\n",
    "model.add(BatchNormalization())\n",
    "model.add(MaxPool2D((2,2), strides=(1,1)))\n",
    "model.add(Dropout(0.3))\n",
    "\n",
    "model.add(Conv2D(64, (3, 3),\n",
    "          activation='relu',\n",
    "          kernel_initializer='he_uniform',\n",
    "\n",
    "          padding='same'))\n",
    "\n",
    "model.add(BatchNormalization())\n",
    "model.add(MaxPool2D((2,2)))\n",
    "model.add(Dropout(0.3))\n",
    "\n",
    "model.add(Flatten())\n",
    "model.add(Dense(128,\n",
    "          activation='relu'))\n",
    "model.add(Dense(5,\n",
    "          activation='softmax'))\n",
    "\n",
    "model.compile(optimizer='adam',\n",
    "              loss='categorical_crossentropy',\n",
    "              metrics = ['accuracy'])\n",
    "\n",
    "history = model.fit(X_train, y_train_ohe,\n",
    "                    epochs = 10,\n",
    "                    batch_size = 128,\n",
    "                    validation_data=(X_test, y_test_ohe),\n",
    "                    verbose = 1)"
   ]
  },
  {
   "cell_type": "code",
   "execution_count": 51,
   "id": "07f57baa",
   "metadata": {},
   "outputs": [
    {
     "data": {
      "image/png": "[encoded data removed]",
      "text/plain": [
       "<Figure size 576x432 with 1 Axes>"
      ]
     },
     "metadata": {
      "needs_background": "light"
     },
     "output_type": "display_data"
    },
    {
     "data": {
      "image/png": "[encoded data removed]",
      "text/plain": [
       "<Figure size 576x432 with 1 Axes>"
      ]
     },
     "metadata": {
      "needs_background": "light"
     },
     "output_type": "display_data"
    }
   ],
   "source": [
    "plot_history(history)"
   ]
  },
  {
   "cell_type": "code",
   "execution_count": null,
   "id": "e0113934",
   "metadata": {},
   "outputs": [],
   "source": []
  },
  {
   "cell_type": "markdown",
   "id": "18b7210c",
   "metadata": {},
   "source": [
    "## Transfer learning "
   ]
  },
  {
   "cell_type": "code",
   "execution_count": 52,
   "id": "80d55136",
   "metadata": {},
   "outputs": [
    {
     "name": "stdout",
     "output_type": "stream",
     "text": [
      "Collecting ipynb\n",
      "  Downloading ipynb-0.5.1-py3-none-any.whl (6.9 kB)\n",
      "Installing collected packages: ipynb\n",
      "Successfully installed ipynb-0.5.1\n"
     ]
    }
   ],
   "source": [
    "!pip install ipynb"
   ]
  },
  {
   "cell_type": "code",
   "execution_count": 53,
   "id": "b1fbb0c6",
   "metadata": {},
   "outputs": [],
   "source": [
    "from sklearn.model_selection import train_test_split\n",
    "from tensorflow.keras.models import Sequential\n",
    "from tensorflow.keras.layers import Dense, Conv2D, MaxPool2D, Flatten\n",
    "\n",
    "X_train, X_test, y_train, y_test = train_test_split(X,y,test_size=0.2,stratify=y)\n",
    "X_train, X_val, y_train, y_val = train_test_split(X_train,y_train,test_size=0.2,stratify=y_train)"
   ]
  },
  {
   "cell_type": "code",
   "execution_count": 54,
   "id": "32dcad15",
   "metadata": {},
   "outputs": [],
   "source": [
    "y_train_ohe = to_categorical(y_train)\n",
    "y_val_ohe = to_categorical(y_val)\n",
    "y_test_ohe = to_categorical(y_test)"
   ]
  },
  {
   "cell_type": "code",
   "execution_count": 55,
   "id": "aa424466",
   "metadata": {},
   "outputs": [],
   "source": [
    "from tensorflow import keras\n",
    "import numpy as np\n",
    "from tensorflow.keras.utils import to_categorical\n",
    "from tensorflow.keras.applications.xception import Xception\n",
    "from tensorflow.keras.layers import BatchNormalization, Dropout"
   ]
  },
  {
   "cell_type": "code",
   "execution_count": 56,
   "id": "02479c0d",
   "metadata": {},
   "outputs": [
    {
     "name": "stdout",
     "output_type": "stream",
     "text": [
      "Downloading data from https://storage.googleapis.com/tensorflow/keras-applications/xception/xception_weights_tf_dim_ordering_tf_kernels_notop.h5\n",
      "83683744/83683744 [==============================] - 49s 1us/step\n"
     ]
    }
   ],
   "source": [
    "model_trans = Xception(input_shape=(100, 100, 3),\n",
    "                        include_top=False,\n",
    "                        weights=\"imagenet\",\n",
    "                        input_tensor=None,\n",
    "                        pooling=None,\n",
    "                        classes=1000)\n",
    "\n",
    "model = Sequential()\n",
    "model.add(model_trans)\n",
    "\n",
    "model.add(Flatten())\n",
    "model.add(Dense(128,\n",
    "          activation='relu'))\n",
    "#model.add(Dropout(0.3))\n",
    "model.add(Dense(5,\n",
    "          activation='softmax'))\n",
    "\n",
    "model.compile(optimizer='adam',\n",
    "              loss='categorical_crossentropy',\n",
    "              metrics = ['accuracy'])\n",
    "\n"
   ]
  },
  {
   "cell_type": "code",
   "execution_count": 57,
   "id": "e33fef45",
   "metadata": {},
   "outputs": [
    {
     "name": "stdout",
     "output_type": "stream",
     "text": [
      "Epoch 1/10\n",
      "50/50 [==============================] - 496s 10s/step - loss: 1.2316 - accuracy: 0.5087 - val_loss: 1.1475 - val_accuracy: 0.6281\n",
      "Epoch 2/10\n",
      "50/50 [==============================] - 536s 11s/step - loss: 0.5353 - accuracy: 0.7990 - val_loss: 1.0500 - val_accuracy: 0.7269\n",
      "Epoch 3/10\n",
      "50/50 [==============================] - 542s 11s/step - loss: 0.2729 - accuracy: 0.8961 - val_loss: 0.8709 - val_accuracy: 0.7525\n",
      "Epoch 4/10\n",
      "50/50 [==============================] - 560s 11s/step - loss: 0.2087 - accuracy: 0.9222 - val_loss: 0.4364 - val_accuracy: 0.8888\n",
      "Epoch 5/10\n",
      "50/50 [==============================] - 563s 11s/step - loss: 0.1446 - accuracy: 0.9441 - val_loss: 0.3292 - val_accuracy: 0.8919\n",
      "Epoch 6/10\n",
      "50/50 [==============================] - 551s 11s/step - loss: 0.1177 - accuracy: 0.9573 - val_loss: 0.3752 - val_accuracy: 0.8819\n",
      "Epoch 7/10\n",
      "50/50 [==============================] - 512s 10s/step - loss: 0.0866 - accuracy: 0.9709 - val_loss: 0.4287 - val_accuracy: 0.8869\n",
      "Epoch 8/10\n",
      "50/50 [==============================] - 491s 10s/step - loss: 0.0906 - accuracy: 0.9703 - val_loss: 0.3667 - val_accuracy: 0.8869\n",
      "Epoch 9/10\n",
      "50/50 [==============================] - 506s 10s/step - loss: 0.0680 - accuracy: 0.9750 - val_loss: 0.6208 - val_accuracy: 0.8612\n",
      "Epoch 10/10\n",
      "50/50 [==============================] - 539s 11s/step - loss: 0.0630 - accuracy: 0.9772 - val_loss: 1.1923 - val_accuracy: 0.7937\n"
     ]
    }
   ],
   "source": [
    "history = model.fit(X_train, y_train_ohe,\n",
    "                    epochs = 10,\n",
    "                    batch_size = 128,\n",
    "                    validation_data=(X_val, y_val_ohe),\n",
    "                    verbose = 1)"
   ]
  },
  {
   "cell_type": "code",
   "execution_count": 58,
   "id": "62c80183",
   "metadata": {},
   "outputs": [
    {
     "data": {
      "image/png": "[encoded data removed]",
      "text/plain": [
       "<Figure size 576x432 with 1 Axes>"
      ]
     },
     "metadata": {
      "needs_background": "light"
     },
     "output_type": "display_data"
    },
    {
     "data": {
      "image/png": "[encoded data removed]",
      "text/plain": [
       "<Figure size 576x432 with 1 Axes>"
      ]
     },
     "metadata": {
      "needs_background": "light"
     },
     "output_type": "display_data"
    }
   ],
   "source": [
    "plot_history(history)"
   ]
  },
  {
   "cell_type": "code",
   "execution_count": 59,
   "id": "83b66cde",
   "metadata": {},
   "outputs": [
    {
     "name": "stdout",
     "output_type": "stream",
     "text": [
      "63/63 [==============================] - 20s 315ms/step\n",
      "              precision    recall  f1-score   support\n",
      "\n",
      "           1       1.00      0.78      0.88       638\n",
      "           2       0.78      0.67      0.72       582\n",
      "           3       0.41      0.88      0.56       234\n",
      "           4       0.97      0.89      0.93       546\n",
      "\n",
      "    accuracy                           0.79      2000\n",
      "   macro avg       0.79      0.80      0.77      2000\n",
      "weighted avg       0.86      0.79      0.81      2000\n",
      "\n"
     ]
    }
   ],
   "source": [
    "from sklearn.metrics import classification_report\n",
    "y_pred = model.predict(X_test)\n",
    "y_pred = np.argmax(y_pred, axis=1)\n",
    "print(classification_report(y_pred, y_test))"
   ]
  },
  {
   "cell_type": "markdown",
   "id": "3910fba4",
   "metadata": {},
   "source": [
    "# Transfer learning - change learning rate, add regularization"
   ]
  },
  {
   "cell_type": "code",
   "execution_count": 60,
   "id": "129d881f",
   "metadata": {},
   "outputs": [],
   "source": [
    "from tensorflow import keras\n",
    "import numpy as np\n",
    "from tensorflow.keras.utils import to_categorical\n",
    "from tensorflow.keras.applications.xception import Xception\n",
    "from tensorflow.keras.layers import BatchNormalization, Dropout\n",
    "from tensorflow.keras import regularizers"
   ]
  },
  {
   "cell_type": "code",
   "execution_count": 65,
   "id": "0ab19645",
   "metadata": {},
   "outputs": [
    {
     "name": "stdout",
     "output_type": "stream",
     "text": [
      "Epoch 1/15\n",
      "50/50 [==============================] - 464s 9s/step - loss: 1.4683 - accuracy: 0.6254 - val_loss: 1.5470 - val_accuracy: 0.6300\n",
      "Epoch 2/15\n",
      "50/50 [==============================] - 500s 10s/step - loss: 0.8547 - accuracy: 0.8709 - val_loss: 1.0601 - val_accuracy: 0.7581\n",
      "Epoch 3/15\n",
      "50/50 [==============================] - 532s 11s/step - loss: 0.6341 - accuracy: 0.9308 - val_loss: 0.8568 - val_accuracy: 0.8313\n",
      "Epoch 4/15\n",
      "50/50 [==============================] - 503s 10s/step - loss: 0.4853 - accuracy: 0.9641 - val_loss: 0.8184 - val_accuracy: 0.8413\n",
      "Epoch 5/15\n",
      "50/50 [==============================] - 483s 10s/step - loss: 0.3961 - accuracy: 0.9748 - val_loss: 0.7150 - val_accuracy: 0.8700\n",
      "Epoch 6/15\n",
      "50/50 [==============================] - 488s 10s/step - loss: 0.3248 - accuracy: 0.9794 - val_loss: 0.7486 - val_accuracy: 0.8681\n",
      "Epoch 7/15\n",
      "50/50 [==============================] - 487s 10s/step - loss: 0.2719 - accuracy: 0.9825 - val_loss: 0.7588 - val_accuracy: 0.8650\n",
      "Epoch 8/15\n",
      "50/50 [==============================] - 506s 10s/step - loss: 0.2305 - accuracy: 0.9836 - val_loss: 0.8055 - val_accuracy: 0.8644\n",
      "Epoch 9/15\n",
      "50/50 [==============================] - 479s 10s/step - loss: 0.2070 - accuracy: 0.9806 - val_loss: 0.8457 - val_accuracy: 0.8606\n",
      "Epoch 10/15\n",
      "50/50 [==============================] - 480s 10s/step - loss: 0.1802 - accuracy: 0.9816 - val_loss: 0.7747 - val_accuracy: 0.8675\n",
      "Epoch 11/15\n",
      "50/50 [==============================] - 477s 10s/step - loss: 0.1533 - accuracy: 0.9841 - val_loss: 0.8931 - val_accuracy: 0.8612\n",
      "Epoch 12/15\n",
      "50/50 [==============================] - 493s 10s/step - loss: 0.1487 - accuracy: 0.9825 - val_loss: 0.7546 - val_accuracy: 0.8619\n",
      "Epoch 13/15\n",
      "50/50 [==============================] - 489s 10s/step - loss: 0.1285 - accuracy: 0.9803 - val_loss: 0.6868 - val_accuracy: 0.8644\n",
      "Epoch 14/15\n",
      "50/50 [==============================] - 489s 10s/step - loss: 0.1137 - accuracy: 0.9850 - val_loss: 0.7798 - val_accuracy: 0.8781\n",
      "Epoch 15/15\n",
      "50/50 [==============================] - 546s 11s/step - loss: 0.0982 - accuracy: 0.9836 - val_loss: 0.6796 - val_accuracy: 0.8794\n"
     ]
    }
   ],
   "source": [
    "model_trans = Xception(input_shape=(100, 100, 3),\n",
    "                        include_top=False,\n",
    "                        weights=\"imagenet\",\n",
    "                        input_tensor=None,\n",
    "                        pooling=None,\n",
    "                        classes=1000)\n",
    "\n",
    "model = Sequential()\n",
    "model.add(model_trans)\n",
    "\n",
    "model.add(Conv2D(32, (3, 3),\n",
    "          activation='relu',\n",
    "          kernel_regularizer=regularizers.l2(l=0.01),\n",
    "          padding='same'))\n",
    "\n",
    "model.add(MaxPool2D((2,2), strides=(1,1)))\n",
    "\n",
    "model.add(Flatten())\n",
    "model.add(Dense(128,\n",
    "          activation='relu'))\n",
    "model.add(Dropout(0.3))\n",
    "model.add(Dense(5,\n",
    "          activation='softmax'))\n",
    "\n",
    "optimizer = keras.optimizers.Adam(0.0001)\n",
    "model.compile(optimizer=optimizer,\n",
    "              loss='categorical_crossentropy',\n",
    "              metrics = ['accuracy'])\n",
    "\n",
    "history = model.fit(X_train, y_train_ohe,\n",
    "                    epochs = 15,\n",
    "                    batch_size = 128,\n",
    "                    validation_data=(X_val, y_val_ohe),\n",
    "                    verbose = 1)"
   ]
  },
  {
   "cell_type": "code",
   "execution_count": 68,
   "id": "09baa8e1",
   "metadata": {},
   "outputs": [
    {
     "data": {
      "image/png": "[encoded data removed]",
      "text/plain": [
       "<Figure size 576x432 with 1 Axes>"
      ]
     },
     "metadata": {
      "needs_background": "light"
     },
     "output_type": "display_data"
    },
    {
     "data": {
      "image/png": "[encoded data removed]",
      "text/plain": [
       "<Figure size 576x432 with 1 Axes>"
      ]
     },
     "metadata": {
      "needs_background": "light"
     },
     "output_type": "display_data"
    }
   ],
   "source": [
    "plot_history(history)"
   ]
  },
  {
   "cell_type": "code",
   "execution_count": 67,
   "id": "b2599cc9",
   "metadata": {},
   "outputs": [
    {
     "name": "stdout",
     "output_type": "stream",
     "text": [
      "63/63 [==============================] - 17s 258ms/step\n",
      "              precision    recall  f1-score   support\n",
      "\n",
      "           1       0.97      0.96      0.96       502\n",
      "           2       0.79      0.84      0.81       467\n",
      "           3       0.83      0.78      0.80       529\n",
      "           4       0.96      0.95      0.96       502\n",
      "\n",
      "    accuracy                           0.88      2000\n",
      "   macro avg       0.88      0.89      0.88      2000\n",
      "weighted avg       0.89      0.88      0.88      2000\n",
      "\n"
     ]
    }
   ],
   "source": [
    "from sklearn.metrics import classification_report\n",
    "y_pred = model.predict(X_test)\n",
    "y_pred = np.argmax(y_pred, axis=1)\n",
    "print(classification_report(y_pred, y_test))"
   ]
  },
  {
   "cell_type": "code",
   "execution_count": 66,
   "id": "33959a10",
   "metadata": {},
   "outputs": [],
   "source": [
    "model.save(\"my_model.h5\", include_optimizer=True)"
   ]
  },
  {
   "cell_type": "code",
   "execution_count": null,
   "id": "be197d8e",
   "metadata": {},
   "outputs": [],
   "source": []
  }
 ],
 "metadata": {
  "kernelspec": {
   "display_name": "Python 3 (ipykernel)",
   "language": "python",
   "name": "python3"
  },
  "language_info": {
   "codemirror_mode": {
    "name": "ipython",
    "version": 3
   },
   "file_extension": ".py",
   "mimetype": "text/x-python",
   "name": "python",
   "nbconvert_exporter": "python",
   "pygments_lexer": "ipython3",
   "version": "3.10.5"
  }
 },
 "nbformat": 4,
 "nbformat_minor": 5
}
