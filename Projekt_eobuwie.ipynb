{
  "nbformat": 4,
  "nbformat_minor": 0,
  "metadata": {
    "colab": {
      "provenance": [],
      "toc_visible": true
    },
    "kernelspec": {
      "name": "python3",
      "display_name": "Python 3"
    },
    "language_info": {
      "name": "python"
    }
  },
  "cells": [
    {
      "cell_type": "markdown",
      "source": [
        "# IMPORTS"
      ],
      "metadata": {
        "id": "BIE00Os3Ybto"
      }
    },
    {
      "cell_type": "code",
      "execution_count": null,
      "metadata": {
        "id": "Ero4-mysRKly"
      },
      "outputs": [],
      "source": [
        "import pandas as pd\n",
        "import html\n",
        "import unicodedata\n",
        "from bs4 import BeautifulSoup\n",
        "import re\n",
        "import os\n",
        "import requests\n",
        "from time import sleep"
      ]
    },
    {
      "cell_type": "code",
      "source": [
        "from google.colab import drive\n",
        "drive.mount('/content/drive/')"
      ],
      "metadata": {
        "id": "lGtYOwMlRnr7",
        "colab": {
          "base_uri": "https://localhost:8080/"
        },
        "outputId": "f99c85f9-fdcb-4591-8dfe-d952ea74b9d9"
      },
      "execution_count": null,
      "outputs": [
        {
          "output_type": "stream",
          "name": "stdout",
          "text": [
            "Drive already mounted at /content/drive/; to attempt to forcibly remount, call drive.mount(\"/content/drive/\", force_remount=True).\n"
          ]
        }
      ]
    },
    {
      "cell_type": "markdown",
      "source": [
        "# WEB SCRAPPING"
      ],
      "metadata": {
        "id": "gnTRn9KBZFvJ"
      }
    },
    {
      "cell_type": "code",
      "source": [
        "#an ugly function to get from e-obuwie lists with main information\n",
        "\n",
        "def input_for_df(http_address):\n",
        "  \"\"\"returnig from adverts 3 lists of names, extended names and links to images of shoes\"\"\"\n",
        "  \n",
        "  response = requests.get(http_address)\n",
        "  content = response.content.decode('utf-8')\n",
        "  content = html.unescape(content)\n",
        "  content = unicodedata.normalize('NFKD', content)\n",
        "\n",
        "  soup = BeautifulSoup(content, 'html.parser')\n",
        "  data = soup.find_all('a',attrs={'class':'products-list__link'})\n",
        "  shoes_names=[]\n",
        "  shoes_images = []\n",
        "  shoes_IMAGE = []\n",
        "  new_names = []\n",
        "  links = []\n",
        "  normal_price = []\n",
        "  special_price = []\n",
        "\n",
        "  for item in data:\n",
        "    spans = item.find_all('span',attrs={'class':'products-list__name-first'})\n",
        "    shoes_names.append(spans[0].text.replace('\\n',''))\n",
        "\n",
        "    links.append(item['href'][2:])\n",
        "\n",
        "    image = item.find_all('img')\n",
        "    shoes_images.append(image[0])\n",
        "\n",
        "    if item.find('div',attrs={'class':\"products-list__regular-price\"}) is not None:\n",
        "      price = item.find('div',attrs={'class':\"products-list__regular-price\"})\n",
        "      price = float(price.text.replace('\\n','').replace(' zł ','').replace(',','.').replace(' ',''))\n",
        "      price_new = 0\n",
        "      normal_price.append(price)\n",
        "      special_price.append(price_new)\n",
        "\n",
        "    elif item.find('div',attrs={'class':\"products-list__old-price\"}) is not None:\n",
        "      price = item.find('div',attrs={'class':\"products-list__old-price\"})\n",
        "      price = float(price.text.replace('\\n','').replace(' zł ','').replace(',','.').replace(' ',''))\n",
        "      price_new = item.find('div',attrs={'class':\"products-list__special-price\"})\n",
        "      price_new = float(price_new.text.replace('\\n','').replace(' zł ','').replace(',','.').replace(' ',''))\n",
        "      normal_price.append(price)\n",
        "      special_price.append(price_new)\n",
        "    else:\n",
        "      print('error')\n",
        "   \n",
        "\n",
        "  for item in shoes_images:\n",
        "    if item.has_attr('alt'):\n",
        "      new_names.append(item['alt'])  \n",
        "    if item.has_attr('data-src'):\n",
        "      shoes_IMAGE.append(item['data-src'])\n",
        "  return shoes_names,new_names,shoes_IMAGE, links, normal_price, special_price"
      ],
      "metadata": {
        "id": "5Sg8bDGPZJs2"
      },
      "execution_count": null,
      "outputs": []
    },
    {
      "cell_type": "code",
      "source": [
        "# function to iterate through pages on the main page e-obuwie from page k_0 to k\n",
        "\n",
        "def new_get_pages_links(url_address,k_0, k):\n",
        "  links_list = []\n",
        "    \n",
        "  for i in range(k_0,k):\n",
        "    try:\n",
        "      response = requests.get(url_address+\"?p={}\".format(i))\n",
        "      sleep(0.1)\n",
        "      soup = BeautifulSoup(response.content, 'html.parser')\n",
        "      for item in soup.find_all(\"a\", {\"class\": \"toolbar-bottom__pager-item\"}):\n",
        "        if item.has_attr('href'):\n",
        "          links_list.append('http://{}'.format(item['href'].replace('//','')))\n",
        "    except:\n",
        "      pass\n",
        "\n",
        "  return list(set(links_list))"
      ],
      "metadata": {
        "id": "_g6lMWksaodb"
      },
      "execution_count": null,
      "outputs": []
    },
    {
      "cell_type": "code",
      "source": [
        "# creating dataframe with data from web, append has to be replaced with concat in the future\n",
        "\n",
        "links = ['https://www.eobuwie.com.pl/damskie/sportowe.html', 'https://www.eobuwie.com.pl/damskie/polbuty.html',\n",
        "         'https://www.eobuwie.com.pl/damskie/kozaki-i-inne.html', 'https://www.eobuwie.com.pl/damskie/klapki-i-sandaly.html']\n",
        "data = pd.DataFrame(columns = ['subcategory','shoes_description','image_link', 'shoes_link','normal_price', 'special_price','main_category'])\n",
        "\n",
        "for address in links:\n",
        "\n",
        "  for link in new_get_pages_links(address, 2, 50):\n",
        "    shoes_names,new_names,shoes_IMAGE, links, normal_price, special_price = input_for_df(link)\n",
        "    category = re.split('/',address)[-1][:-5]\n",
        "    df = pd.DataFrame(list(zip(shoes_names,new_names,shoes_IMAGE, links, normal_price, special_price)))\n",
        "    df['main_category'] = category\n",
        "    try:\n",
        "      df.columns=data.columns\n",
        "      data = data.append(df,ignore_index=True)\n",
        "    except:\n",
        "      pass\n"
      ],
      "metadata": {
        "id": "HBD1OKT9fHzN"
      },
      "execution_count": null,
      "outputs": []
    },
    {
      "cell_type": "code",
      "source": [
        "data['main_category'].value_counts()"
      ],
      "metadata": {
        "colab": {
          "base_uri": "https://localhost:8080/"
        },
        "id": "symmGPQ5gshs",
        "outputId": "4b59d519-6a1c-4874-b57e-67993ee7b679"
      },
      "execution_count": null,
      "outputs": [
        {
          "output_type": "execute_result",
          "data": {
            "text/plain": [
              "kozaki-i-inne       7815\n",
              "klapki-i-sandaly    7749\n",
              "polbuty             7718\n",
              "sportowe            5057\n",
              "Name: main_category, dtype: int64"
            ]
          },
          "metadata": {},
          "execution_count": 40
        }
      ]
    },
    {
      "cell_type": "code",
      "source": [
        "data.sample(5)"
      ],
      "metadata": {
        "id": "ILV9ySARgvCz",
        "colab": {
          "base_uri": "https://localhost:8080/",
          "height": 426
        },
        "outputId": "afb1edc2-3765-4885-a9dc-54000c2b606a"
      },
      "execution_count": null,
      "outputs": [
        {
          "output_type": "execute_result",
          "data": {
            "text/plain": [
              "                      subcategory  \\\n",
              "1670  Botki MICHAEL Michael Kors    \n",
              "523                  Buty adidas    \n",
              "1360             Botki ALTERCORE    \n",
              "698         Sneakersy GINO ROSSI    \n",
              "1984                 Kapcie Toms    \n",
              "\n",
              "                                      shoes_description  \\\n",
              "1670  Botki MICHAEL Michael Kors - Alina Flex Bootie...   \n",
              "523   Buty adidas - Tensaur Sport 2.0 K GW6423 Cloud...   \n",
              "1360                 Botki ALTERCORE - Enid Vegan White   \n",
              "698         Sneakersy GINO ROSSI - WI16-POLAND-03 Green   \n",
              "1984     Kapcie Toms - Ezra 10018793 Black Melange Felt   \n",
              "\n",
              "                                             image_link  \\\n",
              "1670  https://img.eobuwie.cloud/eob1_product_300w(d/...   \n",
              "523   https://www.eobuwie.com.pl/media/catalog/produ...   \n",
              "1360  https://www.eobuwie.com.pl/media/catalog/produ...   \n",
              "698   https://www.eobuwie.com.pl/media/catalog/produ...   \n",
              "1984  https://img.eobuwie.cloud/eob1_product_300w(6/...   \n",
              "\n",
              "                                                  links  normal_price  \\\n",
              "1670  www.eobuwie.com.pl/botki-michael-michael-kors-...       1069.00   \n",
              "523   www.eobuwie.com.pl/buty-adidas-tensaur-sport-2...        159.99   \n",
              "1360  www.eobuwie.com.pl/botki-altercore-enid-vegan-...        529.99   \n",
              "698   www.eobuwie.com.pl/sneakersy-gino-rossi-wi16-p...        279.99   \n",
              "1984  www.eobuwie.com.pl/kapcie-toms-ezra-10018793-b...        289.99   \n",
              "\n",
              "      special_price     main_category  \n",
              "1670         689.99     kozaki-i-inne  \n",
              "523            0.00          sportowe  \n",
              "1360           0.00     kozaki-i-inne  \n",
              "698          139.99           polbuty  \n",
              "1984         219.99  klapki-i-sandaly  "
            ],
            "text/html": [
              "\n",
              "  <div id=\"df-a9a6d64c-c0a3-4d57-853b-64695da3f3ac\">\n",
              "    <div class=\"colab-df-container\">\n",
              "      <div>\n",
              "<style scoped>\n",
              "    .dataframe tbody tr th:only-of-type {\n",
              "        vertical-align: middle;\n",
              "    }\n",
              "\n",
              "    .dataframe tbody tr th {\n",
              "        vertical-align: top;\n",
              "    }\n",
              "\n",
              "    .dataframe thead th {\n",
              "        text-align: right;\n",
              "    }\n",
              "</style>\n",
              "<table border=\"1\" class=\"dataframe\">\n",
              "  <thead>\n",
              "    <tr style=\"text-align: right;\">\n",
              "      <th></th>\n",
              "      <th>subcategory</th>\n",
              "      <th>shoes_description</th>\n",
              "      <th>image_link</th>\n",
              "      <th>links</th>\n",
              "      <th>normal_price</th>\n",
              "      <th>special_price</th>\n",
              "      <th>main_category</th>\n",
              "    </tr>\n",
              "  </thead>\n",
              "  <tbody>\n",
              "    <tr>\n",
              "      <th>1670</th>\n",
              "      <td>Botki MICHAEL Michael Kors</td>\n",
              "      <td>Botki MICHAEL Michael Kors - Alina Flex Bootie...</td>\n",
              "      <td>https://img.eobuwie.cloud/eob1_product_300w(d/...</td>\n",
              "      <td>www.eobuwie.com.pl/botki-michael-michael-kors-...</td>\n",
              "      <td>1069.00</td>\n",
              "      <td>689.99</td>\n",
              "      <td>kozaki-i-inne</td>\n",
              "    </tr>\n",
              "    <tr>\n",
              "      <th>523</th>\n",
              "      <td>Buty adidas</td>\n",
              "      <td>Buty adidas - Tensaur Sport 2.0 K GW6423 Cloud...</td>\n",
              "      <td>https://www.eobuwie.com.pl/media/catalog/produ...</td>\n",
              "      <td>www.eobuwie.com.pl/buty-adidas-tensaur-sport-2...</td>\n",
              "      <td>159.99</td>\n",
              "      <td>0.00</td>\n",
              "      <td>sportowe</td>\n",
              "    </tr>\n",
              "    <tr>\n",
              "      <th>1360</th>\n",
              "      <td>Botki ALTERCORE</td>\n",
              "      <td>Botki ALTERCORE - Enid Vegan White</td>\n",
              "      <td>https://www.eobuwie.com.pl/media/catalog/produ...</td>\n",
              "      <td>www.eobuwie.com.pl/botki-altercore-enid-vegan-...</td>\n",
              "      <td>529.99</td>\n",
              "      <td>0.00</td>\n",
              "      <td>kozaki-i-inne</td>\n",
              "    </tr>\n",
              "    <tr>\n",
              "      <th>698</th>\n",
              "      <td>Sneakersy GINO ROSSI</td>\n",
              "      <td>Sneakersy GINO ROSSI - WI16-POLAND-03 Green</td>\n",
              "      <td>https://www.eobuwie.com.pl/media/catalog/produ...</td>\n",
              "      <td>www.eobuwie.com.pl/sneakersy-gino-rossi-wi16-p...</td>\n",
              "      <td>279.99</td>\n",
              "      <td>139.99</td>\n",
              "      <td>polbuty</td>\n",
              "    </tr>\n",
              "    <tr>\n",
              "      <th>1984</th>\n",
              "      <td>Kapcie Toms</td>\n",
              "      <td>Kapcie Toms - Ezra 10018793 Black Melange Felt</td>\n",
              "      <td>https://img.eobuwie.cloud/eob1_product_300w(6/...</td>\n",
              "      <td>www.eobuwie.com.pl/kapcie-toms-ezra-10018793-b...</td>\n",
              "      <td>289.99</td>\n",
              "      <td>219.99</td>\n",
              "      <td>klapki-i-sandaly</td>\n",
              "    </tr>\n",
              "  </tbody>\n",
              "</table>\n",
              "</div>\n",
              "      <button class=\"colab-df-convert\" onclick=\"convertToInteractive('df-a9a6d64c-c0a3-4d57-853b-64695da3f3ac')\"\n",
              "              title=\"Convert this dataframe to an interactive table.\"\n",
              "              style=\"display:none;\">\n",
              "        \n",
              "  <svg xmlns=\"http://www.w3.org/2000/svg\" height=\"24px\"viewBox=\"0 0 24 24\"\n",
              "       width=\"24px\">\n",
              "    <path d=\"M0 0h24v24H0V0z\" fill=\"none\"/>\n",
              "    <path d=\"M18.56 5.44l.94 2.06.94-2.06 2.06-.94-2.06-.94-.94-2.06-.94 2.06-2.06.94zm-11 1L8.5 8.5l.94-2.06 2.06-.94-2.06-.94L8.5 2.5l-.94 2.06-2.06.94zm10 10l.94 2.06.94-2.06 2.06-.94-2.06-.94-.94-2.06-.94 2.06-2.06.94z\"/><path d=\"M17.41 7.96l-1.37-1.37c-.4-.4-.92-.59-1.43-.59-.52 0-1.04.2-1.43.59L10.3 9.45l-7.72 7.72c-.78.78-.78 2.05 0 2.83L4 21.41c.39.39.9.59 1.41.59.51 0 1.02-.2 1.41-.59l7.78-7.78 2.81-2.81c.8-.78.8-2.07 0-2.86zM5.41 20L4 18.59l7.72-7.72 1.47 1.35L5.41 20z\"/>\n",
              "  </svg>\n",
              "      </button>\n",
              "      \n",
              "  <style>\n",
              "    .colab-df-container {\n",
              "      display:flex;\n",
              "      flex-wrap:wrap;\n",
              "      gap: 12px;\n",
              "    }\n",
              "\n",
              "    .colab-df-convert {\n",
              "      background-color: #E8F0FE;\n",
              "      border: none;\n",
              "      border-radius: 50%;\n",
              "      cursor: pointer;\n",
              "      display: none;\n",
              "      fill: #1967D2;\n",
              "      height: 32px;\n",
              "      padding: 0 0 0 0;\n",
              "      width: 32px;\n",
              "    }\n",
              "\n",
              "    .colab-df-convert:hover {\n",
              "      background-color: #E2EBFA;\n",
              "      box-shadow: 0px 1px 2px rgba(60, 64, 67, 0.3), 0px 1px 3px 1px rgba(60, 64, 67, 0.15);\n",
              "      fill: #174EA6;\n",
              "    }\n",
              "\n",
              "    [theme=dark] .colab-df-convert {\n",
              "      background-color: #3B4455;\n",
              "      fill: #D2E3FC;\n",
              "    }\n",
              "\n",
              "    [theme=dark] .colab-df-convert:hover {\n",
              "      background-color: #434B5C;\n",
              "      box-shadow: 0px 1px 3px 1px rgba(0, 0, 0, 0.15);\n",
              "      filter: drop-shadow(0px 1px 2px rgba(0, 0, 0, 0.3));\n",
              "      fill: #FFFFFF;\n",
              "    }\n",
              "  </style>\n",
              "\n",
              "      <script>\n",
              "        const buttonEl =\n",
              "          document.querySelector('#df-a9a6d64c-c0a3-4d57-853b-64695da3f3ac button.colab-df-convert');\n",
              "        buttonEl.style.display =\n",
              "          google.colab.kernel.accessAllowed ? 'block' : 'none';\n",
              "\n",
              "        async function convertToInteractive(key) {\n",
              "          const element = document.querySelector('#df-a9a6d64c-c0a3-4d57-853b-64695da3f3ac');\n",
              "          const dataTable =\n",
              "            await google.colab.kernel.invokeFunction('convertToInteractive',\n",
              "                                                     [key], {});\n",
              "          if (!dataTable) return;\n",
              "\n",
              "          const docLinkHtml = 'Like what you see? Visit the ' +\n",
              "            '<a target=\"_blank\" href=https://colab.research.google.com/notebooks/data_table.ipynb>data table notebook</a>'\n",
              "            + ' to learn more about interactive tables.';\n",
              "          element.innerHTML = '';\n",
              "          dataTable['output_type'] = 'display_data';\n",
              "          await google.colab.output.renderOutput(dataTable, element);\n",
              "          const docLink = document.createElement('div');\n",
              "          docLink.innerHTML = docLinkHtml;\n",
              "          element.appendChild(docLink);\n",
              "        }\n",
              "      </script>\n",
              "    </div>\n",
              "  </div>\n",
              "  "
            ]
          },
          "metadata": {},
          "execution_count": 27
        }
      ]
    },
    {
      "cell_type": "markdown",
      "source": [
        "## Save data"
      ],
      "metadata": {
        "id": "NRavri8qN3Ne"
      }
    },
    {
      "cell_type": "code",
      "source": [
        "#save the data in the form of df\n",
        "import pickle\n",
        "pickle.dump(data,open('/content/drive/MyDrive/eobuwie/basic_data.pickle',mode='wb'))"
      ],
      "metadata": {
        "id": "Snbj7GHDN7cP"
      },
      "execution_count": null,
      "outputs": []
    },
    {
      "cell_type": "markdown",
      "source": [
        "## Basic charts"
      ],
      "metadata": {
        "id": "T_z9DO60OavZ"
      }
    },
    {
      "cell_type": "code",
      "source": [
        "#download the data\n",
        "import pickle\n",
        "df = pickle.load(open('/content/drive/MyDrive/eobuwie/basic_data.pickle',mode='rb'))\n",
        "df.info()"
      ],
      "metadata": {
        "colab": {
          "base_uri": "https://localhost:8080/"
        },
        "id": "IUAlK-c6N8DW",
        "outputId": "af8b93c9-5f1f-4fe0-aa04-fdb22b714dac"
      },
      "execution_count": null,
      "outputs": [
        {
          "output_type": "stream",
          "name": "stdout",
          "text": [
            "<class 'pandas.core.frame.DataFrame'>\n",
            "RangeIndex: 28339 entries, 0 to 28338\n",
            "Data columns (total 7 columns):\n",
            " #   Column             Non-Null Count  Dtype  \n",
            "---  ------             --------------  -----  \n",
            " 0   subcategory        28339 non-null  object \n",
            " 1   shoes_description  28339 non-null  object \n",
            " 2   image_link         28339 non-null  object \n",
            " 3   shoes_link         28339 non-null  object \n",
            " 4   normal_price       28339 non-null  float64\n",
            " 5   special_price      28339 non-null  float64\n",
            " 6   main_category      28339 non-null  object \n",
            "dtypes: float64(2), object(5)\n",
            "memory usage: 1.5+ MB\n"
          ]
        }
      ]
    },
    {
      "cell_type": "code",
      "source": [
        "df['main_category'].value_counts()"
      ],
      "metadata": {
        "colab": {
          "base_uri": "https://localhost:8080/"
        },
        "id": "rEvcnmcWN8RB",
        "outputId": "71b7fee7-387a-425f-b895-9919631b4b9a"
      },
      "execution_count": null,
      "outputs": [
        {
          "output_type": "execute_result",
          "data": {
            "text/plain": [
              "kozaki-i-inne       7815\n",
              "klapki-i-sandaly    7749\n",
              "polbuty             7718\n",
              "sportowe            5057\n",
              "Name: main_category, dtype: int64"
            ]
          },
          "metadata": {},
          "execution_count": 4
        }
      ]
    },
    {
      "cell_type": "code",
      "source": [
        "%matplotlib inline\n",
        "\n",
        "import matplotlib.pyplot as plt\n",
        "import pandas as pd\n",
        "import numpy as np\n",
        "import seaborn as sns\n",
        "\n",
        "from pandas.plotting import register_matplotlib_converters\n",
        "register_matplotlib_converters()"
      ],
      "metadata": {
        "id": "hUuluFWuSoE6"
      },
      "execution_count": null,
      "outputs": []
    },
    {
      "cell_type": "code",
      "source": [
        "ax = sns.lmplot(x='normal_price', y='special_price', data = df, fit_reg=False,\n",
        "                hue='main_category', markers=['x','x','x','x'], palette='Set2')\n",
        "\n",
        "ax.set(title='Prices')\n",
        "ax.set(xlabel='normal_price', ylabel='special_price')\n",
        "plt.grid('major')"
      ],
      "metadata": {
        "colab": {
          "base_uri": "https://localhost:8080/",
          "height": 384
        },
        "id": "K2N8yiHpS3H3",
        "outputId": "47981955-a9b5-41df-afac-8e718ef5181b"
      },
      "execution_count": null,
      "outputs": [
        {
          "output_type": "display_data",
          "data": {
            "text/plain": [
              "<Figure size 474.75x360 with 1 Axes>"
            ],
            "image/png": "[encoded data removed]"
          },
          "metadata": {
            "needs_background": "light"
          }
        }
      ]
    },
    {
      "cell_type": "code",
      "source": [
        "df['normal_price'].describe()"
      ],
      "metadata": {
        "colab": {
          "base_uri": "https://localhost:8080/"
        },
        "id": "BJ1xRqgUUhao",
        "outputId": "380e4093-2304-47f9-e7ca-1647734f43d2"
      },
      "execution_count": null,
      "outputs": [
        {
          "output_type": "execute_result",
          "data": {
            "text/plain": [
              "count    28339.000000\n",
              "mean       498.237466\n",
              "std        368.570944\n",
              "min         29.990000\n",
              "25%        289.990000\n",
              "50%        399.990000\n",
              "75%        599.990000\n",
              "max       5299.000000\n",
              "Name: normal_price, dtype: float64"
            ]
          },
          "metadata": {},
          "execution_count": 51
        }
      ]
    },
    {
      "cell_type": "code",
      "source": [
        "#shoes with discount\n",
        "df[df['special_price']>0].describe()"
      ],
      "metadata": {
        "colab": {
          "base_uri": "https://localhost:8080/",
          "height": 300
        },
        "id": "4GJz0ynsUl5V",
        "outputId": "f0947f64-7006-4f31-c6b5-c99b80639b53"
      },
      "execution_count": null,
      "outputs": [
        {
          "output_type": "execute_result",
          "data": {
            "text/plain": [
              "       normal_price  special_price\n",
              "count  22743.000000   22743.000000\n",
              "mean     525.838183     370.099307\n",
              "std      381.273824     260.629271\n",
              "min       49.990000      39.990000\n",
              "25%      299.990000     219.990000\n",
              "50%      429.990000     299.990000\n",
              "75%      629.000000     439.990000\n",
              "max     5299.000000    3849.000000"
            ],
            "text/html": [
              "\n",
              "  <div id=\"df-6abb63fb-9ab1-4244-a12e-f2e1745c1563\">\n",
              "    <div class=\"colab-df-container\">\n",
              "      <div>\n",
              "<style scoped>\n",
              "    .dataframe tbody tr th:only-of-type {\n",
              "        vertical-align: middle;\n",
              "    }\n",
              "\n",
              "    .dataframe tbody tr th {\n",
              "        vertical-align: top;\n",
              "    }\n",
              "\n",
              "    .dataframe thead th {\n",
              "        text-align: right;\n",
              "    }\n",
              "</style>\n",
              "<table border=\"1\" class=\"dataframe\">\n",
              "  <thead>\n",
              "    <tr style=\"text-align: right;\">\n",
              "      <th></th>\n",
              "      <th>normal_price</th>\n",
              "      <th>special_price</th>\n",
              "    </tr>\n",
              "  </thead>\n",
              "  <tbody>\n",
              "    <tr>\n",
              "      <th>count</th>\n",
              "      <td>22743.000000</td>\n",
              "      <td>22743.000000</td>\n",
              "    </tr>\n",
              "    <tr>\n",
              "      <th>mean</th>\n",
              "      <td>525.838183</td>\n",
              "      <td>370.099307</td>\n",
              "    </tr>\n",
              "    <tr>\n",
              "      <th>std</th>\n",
              "      <td>381.273824</td>\n",
              "      <td>260.629271</td>\n",
              "    </tr>\n",
              "    <tr>\n",
              "      <th>min</th>\n",
              "      <td>49.990000</td>\n",
              "      <td>39.990000</td>\n",
              "    </tr>\n",
              "    <tr>\n",
              "      <th>25%</th>\n",
              "      <td>299.990000</td>\n",
              "      <td>219.990000</td>\n",
              "    </tr>\n",
              "    <tr>\n",
              "      <th>50%</th>\n",
              "      <td>429.990000</td>\n",
              "      <td>299.990000</td>\n",
              "    </tr>\n",
              "    <tr>\n",
              "      <th>75%</th>\n",
              "      <td>629.000000</td>\n",
              "      <td>439.990000</td>\n",
              "    </tr>\n",
              "    <tr>\n",
              "      <th>max</th>\n",
              "      <td>5299.000000</td>\n",
              "      <td>3849.000000</td>\n",
              "    </tr>\n",
              "  </tbody>\n",
              "</table>\n",
              "</div>\n",
              "      <button class=\"colab-df-convert\" onclick=\"convertToInteractive('df-6abb63fb-9ab1-4244-a12e-f2e1745c1563')\"\n",
              "              title=\"Convert this dataframe to an interactive table.\"\n",
              "              style=\"display:none;\">\n",
              "        \n",
              "  <svg xmlns=\"http://www.w3.org/2000/svg\" height=\"24px\"viewBox=\"0 0 24 24\"\n",
              "       width=\"24px\">\n",
              "    <path d=\"M0 0h24v24H0V0z\" fill=\"none\"/>\n",
              "    <path d=\"M18.56 5.44l.94 2.06.94-2.06 2.06-.94-2.06-.94-.94-2.06-.94 2.06-2.06.94zm-11 1L8.5 8.5l.94-2.06 2.06-.94-2.06-.94L8.5 2.5l-.94 2.06-2.06.94zm10 10l.94 2.06.94-2.06 2.06-.94-2.06-.94-.94-2.06-.94 2.06-2.06.94z\"/><path d=\"M17.41 7.96l-1.37-1.37c-.4-.4-.92-.59-1.43-.59-.52 0-1.04.2-1.43.59L10.3 9.45l-7.72 7.72c-.78.78-.78 2.05 0 2.83L4 21.41c.39.39.9.59 1.41.59.51 0 1.02-.2 1.41-.59l7.78-7.78 2.81-2.81c.8-.78.8-2.07 0-2.86zM5.41 20L4 18.59l7.72-7.72 1.47 1.35L5.41 20z\"/>\n",
              "  </svg>\n",
              "      </button>\n",
              "      \n",
              "  <style>\n",
              "    .colab-df-container {\n",
              "      display:flex;\n",
              "      flex-wrap:wrap;\n",
              "      gap: 12px;\n",
              "    }\n",
              "\n",
              "    .colab-df-convert {\n",
              "      background-color: #E8F0FE;\n",
              "      border: none;\n",
              "      border-radius: 50%;\n",
              "      cursor: pointer;\n",
              "      display: none;\n",
              "      fill: #1967D2;\n",
              "      height: 32px;\n",
              "      padding: 0 0 0 0;\n",
              "      width: 32px;\n",
              "    }\n",
              "\n",
              "    .colab-df-convert:hover {\n",
              "      background-color: #E2EBFA;\n",
              "      box-shadow: 0px 1px 2px rgba(60, 64, 67, 0.3), 0px 1px 3px 1px rgba(60, 64, 67, 0.15);\n",
              "      fill: #174EA6;\n",
              "    }\n",
              "\n",
              "    [theme=dark] .colab-df-convert {\n",
              "      background-color: #3B4455;\n",
              "      fill: #D2E3FC;\n",
              "    }\n",
              "\n",
              "    [theme=dark] .colab-df-convert:hover {\n",
              "      background-color: #434B5C;\n",
              "      box-shadow: 0px 1px 3px 1px rgba(0, 0, 0, 0.15);\n",
              "      filter: drop-shadow(0px 1px 2px rgba(0, 0, 0, 0.3));\n",
              "      fill: #FFFFFF;\n",
              "    }\n",
              "  </style>\n",
              "\n",
              "      <script>\n",
              "        const buttonEl =\n",
              "          document.querySelector('#df-6abb63fb-9ab1-4244-a12e-f2e1745c1563 button.colab-df-convert');\n",
              "        buttonEl.style.display =\n",
              "          google.colab.kernel.accessAllowed ? 'block' : 'none';\n",
              "\n",
              "        async function convertToInteractive(key) {\n",
              "          const element = document.querySelector('#df-6abb63fb-9ab1-4244-a12e-f2e1745c1563');\n",
              "          const dataTable =\n",
              "            await google.colab.kernel.invokeFunction('convertToInteractive',\n",
              "                                                     [key], {});\n",
              "          if (!dataTable) return;\n",
              "\n",
              "          const docLinkHtml = 'Like what you see? Visit the ' +\n",
              "            '<a target=\"_blank\" href=https://colab.research.google.com/notebooks/data_table.ipynb>data table notebook</a>'\n",
              "            + ' to learn more about interactive tables.';\n",
              "          element.innerHTML = '';\n",
              "          dataTable['output_type'] = 'display_data';\n",
              "          await google.colab.output.renderOutput(dataTable, element);\n",
              "          const docLink = document.createElement('div');\n",
              "          docLink.innerHTML = docLinkHtml;\n",
              "          element.appendChild(docLink);\n",
              "        }\n",
              "      </script>\n",
              "    </div>\n",
              "  </div>\n",
              "  "
            ]
          },
          "metadata": {},
          "execution_count": 58
        }
      ]
    },
    {
      "cell_type": "code",
      "source": [
        "df[df['special_price']==0]"
      ],
      "metadata": {
        "colab": {
          "base_uri": "https://localhost:8080/",
          "height": 817
        },
        "id": "pNxe--27UuDk",
        "outputId": "8ea358f8-411c-40b6-b8df-1a5144f4112d"
      },
      "execution_count": null,
      "outputs": [
        {
          "output_type": "execute_result",
          "data": {
            "text/plain": [
              "                  subcategory  \\\n",
              "2                Buty Reebok    \n",
              "3               Buty Reebok     \n",
              "4                Buty Reebok    \n",
              "7                Buty Reebok    \n",
              "23         Buty HOKA ONE ONE    \n",
              "...                       ...   \n",
              "28273         Klapki BASSANO    \n",
              "28274         Klapki BASSANO    \n",
              "28275    Sandały JENNY FAIRY    \n",
              "28279  Espadryle JENNY FAIRY    \n",
              "28322   Klapki DR. BRINKMANN    \n",
              "\n",
              "                                       shoes_description  \\\n",
              "2      Buty Reebok - Royal Cl Jog 3.0 GW5233 Ftwwht/F...   \n",
              "3      Buty Reebok - Rush Runner 4.0 GW0003 Astpnk/Si...   \n",
              "4      Buty Reebok - Rush Runner 4.0 Sy GV9994 Porpnk...   \n",
              "7      Buty Reebok - Royal Glide Ripple FY4639 Black/...   \n",
              "23     Buty HOKA ONE ONE - Rincon 3 Wide 1121371 Blk/wht   \n",
              "...                                                  ...   \n",
              "28273                    Klapki BASSANO - 23532HDC Beige   \n",
              "28274                    Klapki BASSANO - 23532HDC Black   \n",
              "28275              Sandały JENNY FAIRY - WYL2543-2 Black   \n",
              "28279          Espadryle JENNY FAIRY - HB210-15ECO Brown   \n",
              "28322             Klapki DR. BRINKMANN - 700223 Beige 08   \n",
              "\n",
              "                                              image_link  \\\n",
              "2      https://www.eobuwie.com.pl/media/catalog/produ...   \n",
              "3      https://www.eobuwie.com.pl/media/catalog/produ...   \n",
              "4      https://www.eobuwie.com.pl/media/catalog/produ...   \n",
              "7      https://www.eobuwie.com.pl/media/catalog/produ...   \n",
              "23     https://www.eobuwie.com.pl/media/catalog/produ...   \n",
              "...                                                  ...   \n",
              "28273  https://www.eobuwie.com.pl/media/catalog/produ...   \n",
              "28274  https://www.eobuwie.com.pl/media/catalog/produ...   \n",
              "28275  https://www.eobuwie.com.pl/media/catalog/produ...   \n",
              "28279  https://www.eobuwie.com.pl/media/catalog/produ...   \n",
              "28322  https://www.eobuwie.com.pl/media/catalog/produ...   \n",
              "\n",
              "                                              shoes_link  normal_price  \\\n",
              "2      www.eobuwie.com.pl/buty-reebok-royal-cl-jog-3-...        159.99   \n",
              "3      www.eobuwie.com.pl/buty-reebok-rush-runner-4-0...        129.99   \n",
              "4      www.eobuwie.com.pl/buty-reebok-rush-runner-4-0...        129.99   \n",
              "7      www.eobuwie.com.pl/buty-reebok-royal-glide-rip...        199.99   \n",
              "23     www.eobuwie.com.pl/buty-hoka-one-one-rincon-3-...        539.99   \n",
              "...                                                  ...           ...   \n",
              "28273  www.eobuwie.com.pl/klapki-bassano-23532hdc-bei...         89.99   \n",
              "28274  www.eobuwie.com.pl/klapki-bassano-23532hdc-bla...         89.99   \n",
              "28275  www.eobuwie.com.pl/sandaly-jenny-fairy-wyl2543...        139.99   \n",
              "28279  www.eobuwie.com.pl/espadryle-jenny-fairy-hb210...        129.99   \n",
              "28322  www.eobuwie.com.pl/klapki-dr-brinkmann-700223-...        299.99   \n",
              "\n",
              "       special_price     main_category  \n",
              "2                0.0          sportowe  \n",
              "3                0.0          sportowe  \n",
              "4                0.0          sportowe  \n",
              "7                0.0          sportowe  \n",
              "23               0.0          sportowe  \n",
              "...              ...               ...  \n",
              "28273            0.0  klapki-i-sandaly  \n",
              "28274            0.0  klapki-i-sandaly  \n",
              "28275            0.0  klapki-i-sandaly  \n",
              "28279            0.0  klapki-i-sandaly  \n",
              "28322            0.0  klapki-i-sandaly  \n",
              "\n",
              "[5596 rows x 7 columns]"
            ],
            "text/html": [
              "\n",
              "  <div id=\"df-887abb08-8408-44d9-9105-049435c85b57\">\n",
              "    <div class=\"colab-df-container\">\n",
              "      <div>\n",
              "<style scoped>\n",
              "    .dataframe tbody tr th:only-of-type {\n",
              "        vertical-align: middle;\n",
              "    }\n",
              "\n",
              "    .dataframe tbody tr th {\n",
              "        vertical-align: top;\n",
              "    }\n",
              "\n",
              "    .dataframe thead th {\n",
              "        text-align: right;\n",
              "    }\n",
              "</style>\n",
              "<table border=\"1\" class=\"dataframe\">\n",
              "  <thead>\n",
              "    <tr style=\"text-align: right;\">\n",
              "      <th></th>\n",
              "      <th>subcategory</th>\n",
              "      <th>shoes_description</th>\n",
              "      <th>image_link</th>\n",
              "      <th>shoes_link</th>\n",
              "      <th>normal_price</th>\n",
              "      <th>special_price</th>\n",
              "      <th>main_category</th>\n",
              "    </tr>\n",
              "  </thead>\n",
              "  <tbody>\n",
              "    <tr>\n",
              "      <th>2</th>\n",
              "      <td>Buty Reebok</td>\n",
              "      <td>Buty Reebok - Royal Cl Jog 3.0 GW5233 Ftwwht/F...</td>\n",
              "      <td>https://www.eobuwie.com.pl/media/catalog/produ...</td>\n",
              "      <td>www.eobuwie.com.pl/buty-reebok-royal-cl-jog-3-...</td>\n",
              "      <td>159.99</td>\n",
              "      <td>0.0</td>\n",
              "      <td>sportowe</td>\n",
              "    </tr>\n",
              "    <tr>\n",
              "      <th>3</th>\n",
              "      <td>Buty Reebok</td>\n",
              "      <td>Buty Reebok - Rush Runner 4.0 GW0003 Astpnk/Si...</td>\n",
              "      <td>https://www.eobuwie.com.pl/media/catalog/produ...</td>\n",
              "      <td>www.eobuwie.com.pl/buty-reebok-rush-runner-4-0...</td>\n",
              "      <td>129.99</td>\n",
              "      <td>0.0</td>\n",
              "      <td>sportowe</td>\n",
              "    </tr>\n",
              "    <tr>\n",
              "      <th>4</th>\n",
              "      <td>Buty Reebok</td>\n",
              "      <td>Buty Reebok - Rush Runner 4.0 Sy GV9994 Porpnk...</td>\n",
              "      <td>https://www.eobuwie.com.pl/media/catalog/produ...</td>\n",
              "      <td>www.eobuwie.com.pl/buty-reebok-rush-runner-4-0...</td>\n",
              "      <td>129.99</td>\n",
              "      <td>0.0</td>\n",
              "      <td>sportowe</td>\n",
              "    </tr>\n",
              "    <tr>\n",
              "      <th>7</th>\n",
              "      <td>Buty Reebok</td>\n",
              "      <td>Buty Reebok - Royal Glide Ripple FY4639 Black/...</td>\n",
              "      <td>https://www.eobuwie.com.pl/media/catalog/produ...</td>\n",
              "      <td>www.eobuwie.com.pl/buty-reebok-royal-glide-rip...</td>\n",
              "      <td>199.99</td>\n",
              "      <td>0.0</td>\n",
              "      <td>sportowe</td>\n",
              "    </tr>\n",
              "    <tr>\n",
              "      <th>23</th>\n",
              "      <td>Buty HOKA ONE ONE</td>\n",
              "      <td>Buty HOKA ONE ONE - Rincon 3 Wide 1121371 Blk/wht</td>\n",
              "      <td>https://www.eobuwie.com.pl/media/catalog/produ...</td>\n",
              "      <td>www.eobuwie.com.pl/buty-hoka-one-one-rincon-3-...</td>\n",
              "      <td>539.99</td>\n",
              "      <td>0.0</td>\n",
              "      <td>sportowe</td>\n",
              "    </tr>\n",
              "    <tr>\n",
              "      <th>...</th>\n",
              "      <td>...</td>\n",
              "      <td>...</td>\n",
              "      <td>...</td>\n",
              "      <td>...</td>\n",
              "      <td>...</td>\n",
              "      <td>...</td>\n",
              "      <td>...</td>\n",
              "    </tr>\n",
              "    <tr>\n",
              "      <th>28273</th>\n",
              "      <td>Klapki BASSANO</td>\n",
              "      <td>Klapki BASSANO - 23532HDC Beige</td>\n",
              "      <td>https://www.eobuwie.com.pl/media/catalog/produ...</td>\n",
              "      <td>www.eobuwie.com.pl/klapki-bassano-23532hdc-bei...</td>\n",
              "      <td>89.99</td>\n",
              "      <td>0.0</td>\n",
              "      <td>klapki-i-sandaly</td>\n",
              "    </tr>\n",
              "    <tr>\n",
              "      <th>28274</th>\n",
              "      <td>Klapki BASSANO</td>\n",
              "      <td>Klapki BASSANO - 23532HDC Black</td>\n",
              "      <td>https://www.eobuwie.com.pl/media/catalog/produ...</td>\n",
              "      <td>www.eobuwie.com.pl/klapki-bassano-23532hdc-bla...</td>\n",
              "      <td>89.99</td>\n",
              "      <td>0.0</td>\n",
              "      <td>klapki-i-sandaly</td>\n",
              "    </tr>\n",
              "    <tr>\n",
              "      <th>28275</th>\n",
              "      <td>Sandały JENNY FAIRY</td>\n",
              "      <td>Sandały JENNY FAIRY - WYL2543-2 Black</td>\n",
              "      <td>https://www.eobuwie.com.pl/media/catalog/produ...</td>\n",
              "      <td>www.eobuwie.com.pl/sandaly-jenny-fairy-wyl2543...</td>\n",
              "      <td>139.99</td>\n",
              "      <td>0.0</td>\n",
              "      <td>klapki-i-sandaly</td>\n",
              "    </tr>\n",
              "    <tr>\n",
              "      <th>28279</th>\n",
              "      <td>Espadryle JENNY FAIRY</td>\n",
              "      <td>Espadryle JENNY FAIRY - HB210-15ECO Brown</td>\n",
              "      <td>https://www.eobuwie.com.pl/media/catalog/produ...</td>\n",
              "      <td>www.eobuwie.com.pl/espadryle-jenny-fairy-hb210...</td>\n",
              "      <td>129.99</td>\n",
              "      <td>0.0</td>\n",
              "      <td>klapki-i-sandaly</td>\n",
              "    </tr>\n",
              "    <tr>\n",
              "      <th>28322</th>\n",
              "      <td>Klapki DR. BRINKMANN</td>\n",
              "      <td>Klapki DR. BRINKMANN - 700223 Beige 08</td>\n",
              "      <td>https://www.eobuwie.com.pl/media/catalog/produ...</td>\n",
              "      <td>www.eobuwie.com.pl/klapki-dr-brinkmann-700223-...</td>\n",
              "      <td>299.99</td>\n",
              "      <td>0.0</td>\n",
              "      <td>klapki-i-sandaly</td>\n",
              "    </tr>\n",
              "  </tbody>\n",
              "</table>\n",
              "<p>5596 rows × 7 columns</p>\n",
              "</div>\n",
              "      <button class=\"colab-df-convert\" onclick=\"convertToInteractive('df-887abb08-8408-44d9-9105-049435c85b57')\"\n",
              "              title=\"Convert this dataframe to an interactive table.\"\n",
              "              style=\"display:none;\">\n",
              "        \n",
              "  <svg xmlns=\"http://www.w3.org/2000/svg\" height=\"24px\"viewBox=\"0 0 24 24\"\n",
              "       width=\"24px\">\n",
              "    <path d=\"M0 0h24v24H0V0z\" fill=\"none\"/>\n",
              "    <path d=\"M18.56 5.44l.94 2.06.94-2.06 2.06-.94-2.06-.94-.94-2.06-.94 2.06-2.06.94zm-11 1L8.5 8.5l.94-2.06 2.06-.94-2.06-.94L8.5 2.5l-.94 2.06-2.06.94zm10 10l.94 2.06.94-2.06 2.06-.94-2.06-.94-.94-2.06-.94 2.06-2.06.94z\"/><path d=\"M17.41 7.96l-1.37-1.37c-.4-.4-.92-.59-1.43-.59-.52 0-1.04.2-1.43.59L10.3 9.45l-7.72 7.72c-.78.78-.78 2.05 0 2.83L4 21.41c.39.39.9.59 1.41.59.51 0 1.02-.2 1.41-.59l7.78-7.78 2.81-2.81c.8-.78.8-2.07 0-2.86zM5.41 20L4 18.59l7.72-7.72 1.47 1.35L5.41 20z\"/>\n",
              "  </svg>\n",
              "      </button>\n",
              "      \n",
              "  <style>\n",
              "    .colab-df-container {\n",
              "      display:flex;\n",
              "      flex-wrap:wrap;\n",
              "      gap: 12px;\n",
              "    }\n",
              "\n",
              "    .colab-df-convert {\n",
              "      background-color: #E8F0FE;\n",
              "      border: none;\n",
              "      border-radius: 50%;\n",
              "      cursor: pointer;\n",
              "      display: none;\n",
              "      fill: #1967D2;\n",
              "      height: 32px;\n",
              "      padding: 0 0 0 0;\n",
              "      width: 32px;\n",
              "    }\n",
              "\n",
              "    .colab-df-convert:hover {\n",
              "      background-color: #E2EBFA;\n",
              "      box-shadow: 0px 1px 2px rgba(60, 64, 67, 0.3), 0px 1px 3px 1px rgba(60, 64, 67, 0.15);\n",
              "      fill: #174EA6;\n",
              "    }\n",
              "\n",
              "    [theme=dark] .colab-df-convert {\n",
              "      background-color: #3B4455;\n",
              "      fill: #D2E3FC;\n",
              "    }\n",
              "\n",
              "    [theme=dark] .colab-df-convert:hover {\n",
              "      background-color: #434B5C;\n",
              "      box-shadow: 0px 1px 3px 1px rgba(0, 0, 0, 0.15);\n",
              "      filter: drop-shadow(0px 1px 2px rgba(0, 0, 0, 0.3));\n",
              "      fill: #FFFFFF;\n",
              "    }\n",
              "  </style>\n",
              "\n",
              "      <script>\n",
              "        const buttonEl =\n",
              "          document.querySelector('#df-887abb08-8408-44d9-9105-049435c85b57 button.colab-df-convert');\n",
              "        buttonEl.style.display =\n",
              "          google.colab.kernel.accessAllowed ? 'block' : 'none';\n",
              "\n",
              "        async function convertToInteractive(key) {\n",
              "          const element = document.querySelector('#df-887abb08-8408-44d9-9105-049435c85b57');\n",
              "          const dataTable =\n",
              "            await google.colab.kernel.invokeFunction('convertToInteractive',\n",
              "                                                     [key], {});\n",
              "          if (!dataTable) return;\n",
              "\n",
              "          const docLinkHtml = 'Like what you see? Visit the ' +\n",
              "            '<a target=\"_blank\" href=https://colab.research.google.com/notebooks/data_table.ipynb>data table notebook</a>'\n",
              "            + ' to learn more about interactive tables.';\n",
              "          element.innerHTML = '';\n",
              "          dataTable['output_type'] = 'display_data';\n",
              "          await google.colab.output.renderOutput(dataTable, element);\n",
              "          const docLink = document.createElement('div');\n",
              "          docLink.innerHTML = docLinkHtml;\n",
              "          element.appendChild(docLink);\n",
              "        }\n",
              "      </script>\n",
              "    </div>\n",
              "  </div>\n",
              "  "
            ]
          },
          "metadata": {},
          "execution_count": 57
        }
      ]
    },
    {
      "cell_type": "code",
      "source": [
        "sns.lmplot(x='normal_price', y='special_price', data=df, fit_reg=False,col='main_category', aspect=0.5)"
      ],
      "metadata": {
        "colab": {
          "base_uri": "https://localhost:8080/",
          "height": 386
        },
        "id": "M0NEO4GhUzzp",
        "outputId": "8e327361-4e30-4461-ea59-0d962ff91b10"
      },
      "execution_count": null,
      "outputs": [
        {
          "output_type": "execute_result",
          "data": {
            "text/plain": [
              "<seaborn.axisgrid.FacetGrid at 0x7fc764b2aeb0>"
            ]
          },
          "metadata": {},
          "execution_count": 63
        },
        {
          "output_type": "display_data",
          "data": {
            "text/plain": [
              "<Figure size 720x360 with 4 Axes>"
            ],
            "image/png": "[encoded data removed]"
          },
          "metadata": {
            "needs_background": "light"
          }
        }
      ]
    },
    {
      "cell_type": "code",
      "source": [
        "ax = sns.boxplot(data=df[df['special_price']>0].iloc[:, 4:6])\n",
        "ax.xaxis.set_tick_params(rotation=90)"
      ],
      "metadata": {
        "colab": {
          "base_uri": "https://localhost:8080/",
          "height": 320
        },
        "id": "6v29Y83oXiGP",
        "outputId": "7e045c71-46d1-480e-c906-0f33740c2cb4"
      },
      "execution_count": null,
      "outputs": [
        {
          "output_type": "display_data",
          "data": {
            "text/plain": [
              "<Figure size 432x288 with 1 Axes>"
            ],
            "image/png": "[encoded data removed]"
          },
          "metadata": {
            "needs_background": "light"
          }
        }
      ]
    },
    {
      "cell_type": "code",
      "source": [
        "sns.jointplot(data=df, x='normal_price', y='special_price', hue='main_category')\n",
        "plt.show()"
      ],
      "metadata": {
        "colab": {
          "base_uri": "https://localhost:8080/",
          "height": 441
        },
        "id": "Fo23tWanYtjI",
        "outputId": "a3e3f692-1bae-4bcc-880b-0d208654712d"
      },
      "execution_count": null,
      "outputs": [
        {
          "output_type": "display_data",
          "data": {
            "text/plain": [
              "<Figure size 432x432 with 3 Axes>"
            ],
            "image/png": "[encoded data removed]"
          },
          "metadata": {
            "needs_background": "light"
          }
        }
      ]
    },
    {
      "cell_type": "markdown",
      "source": [
        "#REGRESJA LINIOWA - the relationship between normal price and discounted one"
      ],
      "metadata": {
        "id": "Kpf1NCHcZ59b"
      }
    },
    {
      "cell_type": "code",
      "source": [
        "from sklearn.linear_model import LinearRegression\n",
        "from sklearn.model_selection import train_test_split\n",
        "\n",
        "df_2 = df[df['special_price']>0]\n",
        "X = df_2[['normal_price']]\n",
        "y = df_2[['special_price']]\n",
        "X_train, X_test, y_train, y_test = train_test_split(X, y, test_size=0.33, random_state=42)\n",
        "\n",
        "lr = LinearRegression().fit(X_train, y_train)\n",
        "\n",
        "print(lr.score(X_train, y_train))"
      ],
      "metadata": {
        "colab": {
          "base_uri": "https://localhost:8080/"
        },
        "id": "qJzBBZ9IZ41E",
        "outputId": "b31d60f5-76ef-4556-af8d-d58cc94961b8"
      },
      "execution_count": null,
      "outputs": [
        {
          "output_type": "stream",
          "name": "stdout",
          "text": [
            "0.9387239915870162\n"
          ]
        }
      ]
    },
    {
      "cell_type": "code",
      "source": [
        "from sklearn.metrics import r2_score\n",
        "\n",
        "r2_score(y_test, lr.predict(X_test))"
      ],
      "metadata": {
        "colab": {
          "base_uri": "https://localhost:8080/"
        },
        "id": "mXF0NlrNbQ23",
        "outputId": "fd98ae4a-0575-488b-f9ce-a570c2caaa3a"
      },
      "execution_count": null,
      "outputs": [
        {
          "output_type": "execute_result",
          "data": {
            "text/plain": [
              "0.9389608651538902"
            ]
          },
          "metadata": {},
          "execution_count": 73
        }
      ]
    },
    {
      "cell_type": "code",
      "source": [
        "print(f'Regression with coefficients: {round(lr.coef_[0][0],3)} * x + {round(lr.intercept_[0],3)} ')"
      ],
      "metadata": {
        "colab": {
          "base_uri": "https://localhost:8080/"
        },
        "id": "qgkB9Tq2b96V",
        "outputId": "58535f8f-3900-4a55-9c0e-0c066ea8474f"
      },
      "execution_count": null,
      "outputs": [
        {
          "output_type": "stream",
          "name": "stdout",
          "text": [
            "Regression with coefficients: 0.662 * x + 21.758 \n"
          ]
        }
      ]
    },
    {
      "cell_type": "markdown",
      "source": [
        "## Log transformation"
      ],
      "metadata": {
        "id": "2vd9gZggdp_i"
      }
    },
    {
      "cell_type": "code",
      "source": [
        "X_log = np.log(X)\n",
        "y_log = np.log(y)\n",
        "X_train, X_test, y_train, y_test = train_test_split(X_log, y_log, test_size=0.33, random_state=42)\n",
        "\n",
        "lr = LinearRegression().fit(X_train, y_train)\n",
        "\n",
        "print(lr.score(X_train, y_train))"
      ],
      "metadata": {
        "colab": {
          "base_uri": "https://localhost:8080/"
        },
        "id": "pBwx1Edkdotu",
        "outputId": "f473f6e5-f511-4853-973d-9dc7c9660599"
      },
      "execution_count": null,
      "outputs": [
        {
          "output_type": "stream",
          "name": "stdout",
          "text": [
            "0.924678914862784\n"
          ]
        }
      ]
    },
    {
      "cell_type": "code",
      "source": [
        "from sklearn.metrics import r2_score\n",
        "\n",
        "r2_score(y_test, lr.predict(X_test))"
      ],
      "metadata": {
        "colab": {
          "base_uri": "https://localhost:8080/"
        },
        "id": "YB5GcwoVctCy",
        "outputId": "35b420f5-392f-483f-973f-794c0f751bb4"
      },
      "execution_count": null,
      "outputs": [
        {
          "output_type": "execute_result",
          "data": {
            "text/plain": [
              "0.9263889263927366"
            ]
          },
          "metadata": {},
          "execution_count": 88
        }
      ]
    },
    {
      "cell_type": "markdown",
      "source": [
        "## Additional variable (main_category)"
      ],
      "metadata": {
        "id": "FoiEL375ffPy"
      }
    },
    {
      "cell_type": "code",
      "source": [
        "category = df.main_category\n",
        "cat = pd.get_dummies(category)\n",
        "cat"
      ],
      "metadata": {
        "colab": {
          "base_uri": "https://localhost:8080/",
          "height": 424
        },
        "id": "_PIz2uc6cvLO",
        "outputId": "ca7b8873-40cb-4c36-b0fd-29560bc42c9e"
      },
      "execution_count": null,
      "outputs": [
        {
          "output_type": "execute_result",
          "data": {
            "text/plain": [
              "       klapki-i-sandaly  kozaki-i-inne  polbuty  sportowe\n",
              "0                     0              0        0         1\n",
              "1                     0              0        0         1\n",
              "2                     0              0        0         1\n",
              "3                     0              0        0         1\n",
              "4                     0              0        0         1\n",
              "...                 ...            ...      ...       ...\n",
              "28334                 1              0        0         0\n",
              "28335                 1              0        0         0\n",
              "28336                 1              0        0         0\n",
              "28337                 1              0        0         0\n",
              "28338                 1              0        0         0\n",
              "\n",
              "[28339 rows x 4 columns]"
            ],
            "text/html": [
              "\n",
              "  <div id=\"df-39cadb8d-bc98-4517-b867-96721a9eb94c\">\n",
              "    <div class=\"colab-df-container\">\n",
              "      <div>\n",
              "<style scoped>\n",
              "    .dataframe tbody tr th:only-of-type {\n",
              "        vertical-align: middle;\n",
              "    }\n",
              "\n",
              "    .dataframe tbody tr th {\n",
              "        vertical-align: top;\n",
              "    }\n",
              "\n",
              "    .dataframe thead th {\n",
              "        text-align: right;\n",
              "    }\n",
              "</style>\n",
              "<table border=\"1\" class=\"dataframe\">\n",
              "  <thead>\n",
              "    <tr style=\"text-align: right;\">\n",
              "      <th></th>\n",
              "      <th>klapki-i-sandaly</th>\n",
              "      <th>kozaki-i-inne</th>\n",
              "      <th>polbuty</th>\n",
              "      <th>sportowe</th>\n",
              "    </tr>\n",
              "  </thead>\n",
              "  <tbody>\n",
              "    <tr>\n",
              "      <th>0</th>\n",
              "      <td>0</td>\n",
              "      <td>0</td>\n",
              "      <td>0</td>\n",
              "      <td>1</td>\n",
              "    </tr>\n",
              "    <tr>\n",
              "      <th>1</th>\n",
              "      <td>0</td>\n",
              "      <td>0</td>\n",
              "      <td>0</td>\n",
              "      <td>1</td>\n",
              "    </tr>\n",
              "    <tr>\n",
              "      <th>2</th>\n",
              "      <td>0</td>\n",
              "      <td>0</td>\n",
              "      <td>0</td>\n",
              "      <td>1</td>\n",
              "    </tr>\n",
              "    <tr>\n",
              "      <th>3</th>\n",
              "      <td>0</td>\n",
              "      <td>0</td>\n",
              "      <td>0</td>\n",
              "      <td>1</td>\n",
              "    </tr>\n",
              "    <tr>\n",
              "      <th>4</th>\n",
              "      <td>0</td>\n",
              "      <td>0</td>\n",
              "      <td>0</td>\n",
              "      <td>1</td>\n",
              "    </tr>\n",
              "    <tr>\n",
              "      <th>...</th>\n",
              "      <td>...</td>\n",
              "      <td>...</td>\n",
              "      <td>...</td>\n",
              "      <td>...</td>\n",
              "    </tr>\n",
              "    <tr>\n",
              "      <th>28334</th>\n",
              "      <td>1</td>\n",
              "      <td>0</td>\n",
              "      <td>0</td>\n",
              "      <td>0</td>\n",
              "    </tr>\n",
              "    <tr>\n",
              "      <th>28335</th>\n",
              "      <td>1</td>\n",
              "      <td>0</td>\n",
              "      <td>0</td>\n",
              "      <td>0</td>\n",
              "    </tr>\n",
              "    <tr>\n",
              "      <th>28336</th>\n",
              "      <td>1</td>\n",
              "      <td>0</td>\n",
              "      <td>0</td>\n",
              "      <td>0</td>\n",
              "    </tr>\n",
              "    <tr>\n",
              "      <th>28337</th>\n",
              "      <td>1</td>\n",
              "      <td>0</td>\n",
              "      <td>0</td>\n",
              "      <td>0</td>\n",
              "    </tr>\n",
              "    <tr>\n",
              "      <th>28338</th>\n",
              "      <td>1</td>\n",
              "      <td>0</td>\n",
              "      <td>0</td>\n",
              "      <td>0</td>\n",
              "    </tr>\n",
              "  </tbody>\n",
              "</table>\n",
              "<p>28339 rows × 4 columns</p>\n",
              "</div>\n",
              "      <button class=\"colab-df-convert\" onclick=\"convertToInteractive('df-39cadb8d-bc98-4517-b867-96721a9eb94c')\"\n",
              "              title=\"Convert this dataframe to an interactive table.\"\n",
              "              style=\"display:none;\">\n",
              "        \n",
              "  <svg xmlns=\"http://www.w3.org/2000/svg\" height=\"24px\"viewBox=\"0 0 24 24\"\n",
              "       width=\"24px\">\n",
              "    <path d=\"M0 0h24v24H0V0z\" fill=\"none\"/>\n",
              "    <path d=\"M18.56 5.44l.94 2.06.94-2.06 2.06-.94-2.06-.94-.94-2.06-.94 2.06-2.06.94zm-11 1L8.5 8.5l.94-2.06 2.06-.94-2.06-.94L8.5 2.5l-.94 2.06-2.06.94zm10 10l.94 2.06.94-2.06 2.06-.94-2.06-.94-.94-2.06-.94 2.06-2.06.94z\"/><path d=\"M17.41 7.96l-1.37-1.37c-.4-.4-.92-.59-1.43-.59-.52 0-1.04.2-1.43.59L10.3 9.45l-7.72 7.72c-.78.78-.78 2.05 0 2.83L4 21.41c.39.39.9.59 1.41.59.51 0 1.02-.2 1.41-.59l7.78-7.78 2.81-2.81c.8-.78.8-2.07 0-2.86zM5.41 20L4 18.59l7.72-7.72 1.47 1.35L5.41 20z\"/>\n",
              "  </svg>\n",
              "      </button>\n",
              "      \n",
              "  <style>\n",
              "    .colab-df-container {\n",
              "      display:flex;\n",
              "      flex-wrap:wrap;\n",
              "      gap: 12px;\n",
              "    }\n",
              "\n",
              "    .colab-df-convert {\n",
              "      background-color: #E8F0FE;\n",
              "      border: none;\n",
              "      border-radius: 50%;\n",
              "      cursor: pointer;\n",
              "      display: none;\n",
              "      fill: #1967D2;\n",
              "      height: 32px;\n",
              "      padding: 0 0 0 0;\n",
              "      width: 32px;\n",
              "    }\n",
              "\n",
              "    .colab-df-convert:hover {\n",
              "      background-color: #E2EBFA;\n",
              "      box-shadow: 0px 1px 2px rgba(60, 64, 67, 0.3), 0px 1px 3px 1px rgba(60, 64, 67, 0.15);\n",
              "      fill: #174EA6;\n",
              "    }\n",
              "\n",
              "    [theme=dark] .colab-df-convert {\n",
              "      background-color: #3B4455;\n",
              "      fill: #D2E3FC;\n",
              "    }\n",
              "\n",
              "    [theme=dark] .colab-df-convert:hover {\n",
              "      background-color: #434B5C;\n",
              "      box-shadow: 0px 1px 3px 1px rgba(0, 0, 0, 0.15);\n",
              "      filter: drop-shadow(0px 1px 2px rgba(0, 0, 0, 0.3));\n",
              "      fill: #FFFFFF;\n",
              "    }\n",
              "  </style>\n",
              "\n",
              "      <script>\n",
              "        const buttonEl =\n",
              "          document.querySelector('#df-39cadb8d-bc98-4517-b867-96721a9eb94c button.colab-df-convert');\n",
              "        buttonEl.style.display =\n",
              "          google.colab.kernel.accessAllowed ? 'block' : 'none';\n",
              "\n",
              "        async function convertToInteractive(key) {\n",
              "          const element = document.querySelector('#df-39cadb8d-bc98-4517-b867-96721a9eb94c');\n",
              "          const dataTable =\n",
              "            await google.colab.kernel.invokeFunction('convertToInteractive',\n",
              "                                                     [key], {});\n",
              "          if (!dataTable) return;\n",
              "\n",
              "          const docLinkHtml = 'Like what you see? Visit the ' +\n",
              "            '<a target=\"_blank\" href=https://colab.research.google.com/notebooks/data_table.ipynb>data table notebook</a>'\n",
              "            + ' to learn more about interactive tables.';\n",
              "          element.innerHTML = '';\n",
              "          dataTable['output_type'] = 'display_data';\n",
              "          await google.colab.output.renderOutput(dataTable, element);\n",
              "          const docLink = document.createElement('div');\n",
              "          docLink.innerHTML = docLinkHtml;\n",
              "          element.appendChild(docLink);\n",
              "        }\n",
              "      </script>\n",
              "    </div>\n",
              "  </div>\n",
              "  "
            ]
          },
          "metadata": {},
          "execution_count": 4
        }
      ]
    },
    {
      "cell_type": "code",
      "source": [
        "cat.info()"
      ],
      "metadata": {
        "colab": {
          "base_uri": "https://localhost:8080/"
        },
        "id": "aV4zDLNZkm--",
        "outputId": "7a5d6786-d76e-4467-a21b-53c94dccd105"
      },
      "execution_count": null,
      "outputs": [
        {
          "output_type": "stream",
          "name": "stdout",
          "text": [
            "<class 'pandas.core.frame.DataFrame'>\n",
            "RangeIndex: 28339 entries, 0 to 28338\n",
            "Data columns (total 4 columns):\n",
            " #   Column            Non-Null Count  Dtype\n",
            "---  ------            --------------  -----\n",
            " 0   klapki-i-sandaly  28339 non-null  uint8\n",
            " 1   kozaki-i-inne     28339 non-null  uint8\n",
            " 2   polbuty           28339 non-null  uint8\n",
            " 3   sportowe          28339 non-null  uint8\n",
            "dtypes: uint8(4)\n",
            "memory usage: 110.8 KB\n"
          ]
        }
      ]
    },
    {
      "cell_type": "code",
      "source": [
        "df = df.join(cat)"
      ],
      "metadata": {
        "id": "5Eyvn97SknOR"
      },
      "execution_count": null,
      "outputs": []
    },
    {
      "cell_type": "code",
      "source": [
        "df.sample(5)"
      ],
      "metadata": {
        "colab": {
          "base_uri": "https://localhost:8080/",
          "height": 461
        },
        "id": "UdkRSDtVlYAF",
        "outputId": "3c9585a4-2043-4634-80aa-b92ef5e73870"
      },
      "execution_count": null,
      "outputs": [
        {
          "output_type": "execute_result",
          "data": {
            "text/plain": [
              "               subcategory                                  shoes_description  \\\n",
              "12563      Sneakersy Puma   Sneakersy Puma - Karmen Rebelle Mid Exotics 38...   \n",
              "24015     Klapki GIOSEPPO                Klapki GIOSEPPO - Welda 65923  Black   \n",
              "9492    Lordsy GINO ROSSI                      Lordsy GINO ROSSI - 7309  Blue   \n",
              "25753   Klapki BALDACCINI             Klapki BALDACCINI - 1702000 Fala Srebro   \n",
              "13566  Trapery TIMBERLAND   Trapery TIMBERLAND - Lucia Way 6in Boot Wp TB0...   \n",
              "\n",
              "                                              image_link  \\\n",
              "12563  https://img.eobuwie.cloud/eob1_product_300w(7/...   \n",
              "24015  https://www.eobuwie.com.pl/media/catalog/produ...   \n",
              "9492   https://www.eobuwie.com.pl/media/catalog/produ...   \n",
              "25753  https://www.eobuwie.com.pl/media/catalog/produ...   \n",
              "13566  https://www.eobuwie.com.pl/media/catalog/produ...   \n",
              "\n",
              "                                              shoes_link  normal_price  \\\n",
              "12563  www.eobuwie.com.pl/sneakersy-puma-karmen-rebel...        399.99   \n",
              "24015  www.eobuwie.com.pl/klapki-gioseppo-welda-65923...        219.99   \n",
              "9492   www.eobuwie.com.pl/lordsy-gino-rossi-7309-blue...        329.99   \n",
              "25753  www.eobuwie.com.pl/klapki-baldaccini-1702000-f...        229.99   \n",
              "13566  www.eobuwie.com.pl/trapery-timberland-lucia-wa...        899.99   \n",
              "\n",
              "       special_price     main_category  klapki-i-sandaly  kozaki-i-inne  \\\n",
              "12563         289.99           polbuty                 0              0   \n",
              "24015         139.99  klapki-i-sandaly                 1              0   \n",
              "9492          189.99           polbuty                 0              0   \n",
              "25753         179.99  klapki-i-sandaly                 1              0   \n",
              "13566         589.99     kozaki-i-inne                 0              1   \n",
              "\n",
              "       polbuty  sportowe  \n",
              "12563        1         0  \n",
              "24015        0         0  \n",
              "9492         1         0  \n",
              "25753        0         0  \n",
              "13566        0         0  "
            ],
            "text/html": [
              "\n",
              "  <div id=\"df-85db70ce-5669-4808-96a7-63c43e3a7895\">\n",
              "    <div class=\"colab-df-container\">\n",
              "      <div>\n",
              "<style scoped>\n",
              "    .dataframe tbody tr th:only-of-type {\n",
              "        vertical-align: middle;\n",
              "    }\n",
              "\n",
              "    .dataframe tbody tr th {\n",
              "        vertical-align: top;\n",
              "    }\n",
              "\n",
              "    .dataframe thead th {\n",
              "        text-align: right;\n",
              "    }\n",
              "</style>\n",
              "<table border=\"1\" class=\"dataframe\">\n",
              "  <thead>\n",
              "    <tr style=\"text-align: right;\">\n",
              "      <th></th>\n",
              "      <th>subcategory</th>\n",
              "      <th>shoes_description</th>\n",
              "      <th>image_link</th>\n",
              "      <th>shoes_link</th>\n",
              "      <th>normal_price</th>\n",
              "      <th>special_price</th>\n",
              "      <th>main_category</th>\n",
              "      <th>klapki-i-sandaly</th>\n",
              "      <th>kozaki-i-inne</th>\n",
              "      <th>polbuty</th>\n",
              "      <th>sportowe</th>\n",
              "    </tr>\n",
              "  </thead>\n",
              "  <tbody>\n",
              "    <tr>\n",
              "      <th>12563</th>\n",
              "      <td>Sneakersy Puma</td>\n",
              "      <td>Sneakersy Puma - Karmen Rebelle Mid Exotics 38...</td>\n",
              "      <td>https://img.eobuwie.cloud/eob1_product_300w(7/...</td>\n",
              "      <td>www.eobuwie.com.pl/sneakersy-puma-karmen-rebel...</td>\n",
              "      <td>399.99</td>\n",
              "      <td>289.99</td>\n",
              "      <td>polbuty</td>\n",
              "      <td>0</td>\n",
              "      <td>0</td>\n",
              "      <td>1</td>\n",
              "      <td>0</td>\n",
              "    </tr>\n",
              "    <tr>\n",
              "      <th>24015</th>\n",
              "      <td>Klapki GIOSEPPO</td>\n",
              "      <td>Klapki GIOSEPPO - Welda 65923  Black</td>\n",
              "      <td>https://www.eobuwie.com.pl/media/catalog/produ...</td>\n",
              "      <td>www.eobuwie.com.pl/klapki-gioseppo-welda-65923...</td>\n",
              "      <td>219.99</td>\n",
              "      <td>139.99</td>\n",
              "      <td>klapki-i-sandaly</td>\n",
              "      <td>1</td>\n",
              "      <td>0</td>\n",
              "      <td>0</td>\n",
              "      <td>0</td>\n",
              "    </tr>\n",
              "    <tr>\n",
              "      <th>9492</th>\n",
              "      <td>Lordsy GINO ROSSI</td>\n",
              "      <td>Lordsy GINO ROSSI - 7309  Blue</td>\n",
              "      <td>https://www.eobuwie.com.pl/media/catalog/produ...</td>\n",
              "      <td>www.eobuwie.com.pl/lordsy-gino-rossi-7309-blue...</td>\n",
              "      <td>329.99</td>\n",
              "      <td>189.99</td>\n",
              "      <td>polbuty</td>\n",
              "      <td>0</td>\n",
              "      <td>0</td>\n",
              "      <td>1</td>\n",
              "      <td>0</td>\n",
              "    </tr>\n",
              "    <tr>\n",
              "      <th>25753</th>\n",
              "      <td>Klapki BALDACCINI</td>\n",
              "      <td>Klapki BALDACCINI - 1702000 Fala Srebro</td>\n",
              "      <td>https://www.eobuwie.com.pl/media/catalog/produ...</td>\n",
              "      <td>www.eobuwie.com.pl/klapki-baldaccini-1702000-f...</td>\n",
              "      <td>229.99</td>\n",
              "      <td>179.99</td>\n",
              "      <td>klapki-i-sandaly</td>\n",
              "      <td>1</td>\n",
              "      <td>0</td>\n",
              "      <td>0</td>\n",
              "      <td>0</td>\n",
              "    </tr>\n",
              "    <tr>\n",
              "      <th>13566</th>\n",
              "      <td>Trapery TIMBERLAND</td>\n",
              "      <td>Trapery TIMBERLAND - Lucia Way 6in Boot Wp TB0...</td>\n",
              "      <td>https://www.eobuwie.com.pl/media/catalog/produ...</td>\n",
              "      <td>www.eobuwie.com.pl/trapery-timberland-lucia-wa...</td>\n",
              "      <td>899.99</td>\n",
              "      <td>589.99</td>\n",
              "      <td>kozaki-i-inne</td>\n",
              "      <td>0</td>\n",
              "      <td>1</td>\n",
              "      <td>0</td>\n",
              "      <td>0</td>\n",
              "    </tr>\n",
              "  </tbody>\n",
              "</table>\n",
              "</div>\n",
              "      <button class=\"colab-df-convert\" onclick=\"convertToInteractive('df-85db70ce-5669-4808-96a7-63c43e3a7895')\"\n",
              "              title=\"Convert this dataframe to an interactive table.\"\n",
              "              style=\"display:none;\">\n",
              "        \n",
              "  <svg xmlns=\"http://www.w3.org/2000/svg\" height=\"24px\"viewBox=\"0 0 24 24\"\n",
              "       width=\"24px\">\n",
              "    <path d=\"M0 0h24v24H0V0z\" fill=\"none\"/>\n",
              "    <path d=\"M18.56 5.44l.94 2.06.94-2.06 2.06-.94-2.06-.94-.94-2.06-.94 2.06-2.06.94zm-11 1L8.5 8.5l.94-2.06 2.06-.94-2.06-.94L8.5 2.5l-.94 2.06-2.06.94zm10 10l.94 2.06.94-2.06 2.06-.94-2.06-.94-.94-2.06-.94 2.06-2.06.94z\"/><path d=\"M17.41 7.96l-1.37-1.37c-.4-.4-.92-.59-1.43-.59-.52 0-1.04.2-1.43.59L10.3 9.45l-7.72 7.72c-.78.78-.78 2.05 0 2.83L4 21.41c.39.39.9.59 1.41.59.51 0 1.02-.2 1.41-.59l7.78-7.78 2.81-2.81c.8-.78.8-2.07 0-2.86zM5.41 20L4 18.59l7.72-7.72 1.47 1.35L5.41 20z\"/>\n",
              "  </svg>\n",
              "      </button>\n",
              "      \n",
              "  <style>\n",
              "    .colab-df-container {\n",
              "      display:flex;\n",
              "      flex-wrap:wrap;\n",
              "      gap: 12px;\n",
              "    }\n",
              "\n",
              "    .colab-df-convert {\n",
              "      background-color: #E8F0FE;\n",
              "      border: none;\n",
              "      border-radius: 50%;\n",
              "      cursor: pointer;\n",
              "      display: none;\n",
              "      fill: #1967D2;\n",
              "      height: 32px;\n",
              "      padding: 0 0 0 0;\n",
              "      width: 32px;\n",
              "    }\n",
              "\n",
              "    .colab-df-convert:hover {\n",
              "      background-color: #E2EBFA;\n",
              "      box-shadow: 0px 1px 2px rgba(60, 64, 67, 0.3), 0px 1px 3px 1px rgba(60, 64, 67, 0.15);\n",
              "      fill: #174EA6;\n",
              "    }\n",
              "\n",
              "    [theme=dark] .colab-df-convert {\n",
              "      background-color: #3B4455;\n",
              "      fill: #D2E3FC;\n",
              "    }\n",
              "\n",
              "    [theme=dark] .colab-df-convert:hover {\n",
              "      background-color: #434B5C;\n",
              "      box-shadow: 0px 1px 3px 1px rgba(0, 0, 0, 0.15);\n",
              "      filter: drop-shadow(0px 1px 2px rgba(0, 0, 0, 0.3));\n",
              "      fill: #FFFFFF;\n",
              "    }\n",
              "  </style>\n",
              "\n",
              "      <script>\n",
              "        const buttonEl =\n",
              "          document.querySelector('#df-85db70ce-5669-4808-96a7-63c43e3a7895 button.colab-df-convert');\n",
              "        buttonEl.style.display =\n",
              "          google.colab.kernel.accessAllowed ? 'block' : 'none';\n",
              "\n",
              "        async function convertToInteractive(key) {\n",
              "          const element = document.querySelector('#df-85db70ce-5669-4808-96a7-63c43e3a7895');\n",
              "          const dataTable =\n",
              "            await google.colab.kernel.invokeFunction('convertToInteractive',\n",
              "                                                     [key], {});\n",
              "          if (!dataTable) return;\n",
              "\n",
              "          const docLinkHtml = 'Like what you see? Visit the ' +\n",
              "            '<a target=\"_blank\" href=https://colab.research.google.com/notebooks/data_table.ipynb>data table notebook</a>'\n",
              "            + ' to learn more about interactive tables.';\n",
              "          element.innerHTML = '';\n",
              "          dataTable['output_type'] = 'display_data';\n",
              "          await google.colab.output.renderOutput(dataTable, element);\n",
              "          const docLink = document.createElement('div');\n",
              "          docLink.innerHTML = docLinkHtml;\n",
              "          element.appendChild(docLink);\n",
              "        }\n",
              "      </script>\n",
              "    </div>\n",
              "  </div>\n",
              "  "
            ]
          },
          "metadata": {},
          "execution_count": 8
        }
      ]
    },
    {
      "cell_type": "code",
      "source": [
        "df.columns"
      ],
      "metadata": {
        "colab": {
          "base_uri": "https://localhost:8080/"
        },
        "id": "SIBedT8smWOy",
        "outputId": "979a2ccc-9cc4-4f00-be21-f9198bbfa1fc"
      },
      "execution_count": null,
      "outputs": [
        {
          "output_type": "execute_result",
          "data": {
            "text/plain": [
              "Index(['subcategory', 'shoes_description', 'image_link', 'shoes_link',\n",
              "       'normal_price', 'special_price', 'main_category', 'klapki-i-sandaly',\n",
              "       'kozaki-i-inne', 'polbuty', 'sportowe'],\n",
              "      dtype='object')"
            ]
          },
          "metadata": {},
          "execution_count": 9
        }
      ]
    },
    {
      "cell_type": "code",
      "source": [
        "from sklearn.linear_model import LinearRegression\n",
        "from sklearn.model_selection import train_test_split\n",
        "from sklearn.preprocessing import StandardScaler\n",
        "\n",
        "df_2 = df[df['special_price']>0]\n",
        "X = df_2[['normal_price','klapki-i-sandaly','kozaki-i-inne','polbuty','sportowe']]\n",
        "y = df_2[['special_price']]\n",
        "X_train, X_test, y_train, y_test = train_test_split(X, y, test_size=0.33, random_state=42)\n",
        "\n",
        "sc = StandardScaler()\n",
        "X_train_sc = sc.fit_transform(X_train)\n",
        "X_test_sc = sc.transform(X_test)\n",
        "\n",
        "lr = LinearRegression().fit(X_train_sc, y_train)\n",
        "\n",
        "print(lr.score(X_train_sc, y_train))"
      ],
      "metadata": {
        "colab": {
          "base_uri": "https://localhost:8080/"
        },
        "id": "pAtW-mn8lkyh",
        "outputId": "3d2f60aa-ab24-420b-e964-0e5de8b52ab5"
      },
      "execution_count": null,
      "outputs": [
        {
          "output_type": "stream",
          "name": "stdout",
          "text": [
            "0.9398977961863826\n"
          ]
        }
      ]
    },
    {
      "cell_type": "code",
      "source": [
        "from sklearn.metrics import r2_score\n",
        "\n",
        "r2_score(y_test, lr.predict(X_test_sc))"
      ],
      "metadata": {
        "colab": {
          "base_uri": "https://localhost:8080/"
        },
        "id": "fvY56tvPmoNE",
        "outputId": "5991c8f4-091c-4900-9e11-3d43c08a8634"
      },
      "execution_count": null,
      "outputs": [
        {
          "output_type": "execute_result",
          "data": {
            "text/plain": [
              "0.9399233751640477"
            ]
          },
          "metadata": {},
          "execution_count": 107
        }
      ]
    },
    {
      "cell_type": "code",
      "source": [
        "lr.coef_"
      ],
      "metadata": {
        "colab": {
          "base_uri": "https://localhost:8080/"
        },
        "id": "ba0LEm4Em7Mx",
        "outputId": "95f54243-efec-41ed-f82d-d5528aef190d"
      },
      "execution_count": null,
      "outputs": [
        {
          "output_type": "execute_result",
          "data": {
            "text/plain": [
              "array([[ 2.51841406e+02, -2.68608476e+14, -2.74988404e+14,\n",
              "        -2.78331049e+14, -2.44681401e+14]])"
            ]
          },
          "metadata": {},
          "execution_count": 108
        }
      ]
    },
    {
      "cell_type": "code",
      "source": [
        "print(f'Regression with coefficients: ({round(lr.coef_[0][0],3)}) * x1 + ({round(lr.coef_[0][1],3)}) * x2 + ({round(lr.coef_[0][2],3)}) * x3 + ({round(lr.coef_[0][3],3)}) * x4 + ({round(lr.coef_[0][4],3)}) * x5 + ({round(lr.intercept_[0],3)}) ')"
      ],
      "metadata": {
        "colab": {
          "base_uri": "https://localhost:8080/"
        },
        "id": "-1fPC-o0m2ZF",
        "outputId": "2c4c3d1f-cd59-4b5f-84c4-3ac5f67f5158"
      },
      "execution_count": null,
      "outputs": [
        {
          "output_type": "stream",
          "name": "stdout",
          "text": [
            "Regression with coefficients: (251.841) * x1 + (-268608475865577.2) * x2 + (-274988404015752.34) * x3 + (-278331049042352.06) * x4 + (-244681400623082.94) * x5 + (369.838) \n"
          ]
        }
      ]
    },
    {
      "cell_type": "markdown",
      "source": [
        "## Lasso model"
      ],
      "metadata": {
        "id": "dEzzE7UHtUzA"
      }
    },
    {
      "cell_type": "code",
      "source": [
        "from sklearn import linear_model\n",
        "clf = linear_model.Lasso(alpha=1)\n",
        "\n",
        "clf.fit(X_train_sc,y_train)\n",
        "print(clf.score(X_train_sc, y_train))\n"
      ],
      "metadata": {
        "colab": {
          "base_uri": "https://localhost:8080/"
        },
        "id": "UN-x-LKmm2d3",
        "outputId": "2175c5ef-b3b1-49a9-c277-e28d8dd12837"
      },
      "execution_count": null,
      "outputs": [
        {
          "output_type": "stream",
          "name": "stdout",
          "text": [
            "0.9398449640047949\n"
          ]
        }
      ]
    },
    {
      "cell_type": "code",
      "source": [
        "from sklearn.metrics import r2_score\n",
        "\n",
        "r2_score(y_test, clf.predict(X_test_sc))"
      ],
      "metadata": {
        "colab": {
          "base_uri": "https://localhost:8080/"
        },
        "id": "IQXbxz_Pm2hK",
        "outputId": "2e95901c-4420-4ba5-919a-be7982c5b022"
      },
      "execution_count": null,
      "outputs": [
        {
          "output_type": "execute_result",
          "data": {
            "text/plain": [
              "0.9399076559743367"
            ]
          },
          "metadata": {},
          "execution_count": 126
        }
      ]
    },
    {
      "cell_type": "code",
      "source": [
        "clf.coef_"
      ],
      "metadata": {
        "colab": {
          "base_uri": "https://localhost:8080/"
        },
        "id": "_Jd2qzUUs3gE",
        "outputId": "55438bae-0ba3-4151-a105-a53fd25bd75b"
      },
      "execution_count": null,
      "outputs": [
        {
          "output_type": "execute_result",
          "data": {
            "text/plain": [
              "array([250.97021319,  -0.        ,   1.34851789,  -4.76920883,\n",
              "         4.1479305 ])"
            ]
          },
          "metadata": {},
          "execution_count": 130
        }
      ]
    },
    {
      "cell_type": "code",
      "source": [
        "print(f'Regression with coefficients: ({round(clf.coef_[0],3)}) * x1 + ({round(clf.coef_[1],3)}) * x2 + ({round(clf.coef_[2],3)}) * x3 + ({round(clf.coef_[3],3)}) * x4 + ({round(clf.coef_[4],3)}) * x5 + ({round(clf.intercept_[0],3)}) ')"
      ],
      "metadata": {
        "colab": {
          "base_uri": "https://localhost:8080/"
        },
        "id": "fDb1vJSKsgvJ",
        "outputId": "7b511987-93f1-4c07-98c8-2e51d8116211"
      },
      "execution_count": null,
      "outputs": [
        {
          "output_type": "stream",
          "name": "stdout",
          "text": [
            "Regression with coefficients: (250.97) * x1 + (-0.0) * x2 + (1.349) * x3 + (-4.769) * x4 + (4.148) * x5 + (369.823) \n"
          ]
        }
      ]
    },
    {
      "cell_type": "markdown",
      "source": [
        "#IMAGE CLASSIFICATION - preparation"
      ],
      "metadata": {
        "id": "hUuckcN1usEH"
      }
    },
    {
      "cell_type": "markdown",
      "source": [
        "## Loading images"
      ],
      "metadata": {
        "id": "-abZj5VZvAXw"
      }
    },
    {
      "cell_type": "code",
      "source": [
        "columns_name = df.columns[7:]\n",
        "columns_name"
      ],
      "metadata": {
        "colab": {
          "base_uri": "https://localhost:8080/"
        },
        "id": "4j1l0T69uwmF",
        "outputId": "c5971361-7850-413b-c585-e7421d554ccb"
      },
      "execution_count": null,
      "outputs": [
        {
          "output_type": "execute_result",
          "data": {
            "text/plain": [
              "Index(['klapki-i-sandaly', 'kozaki-i-inne', 'polbuty', 'sportowe'], dtype='object')"
            ]
          },
          "metadata": {},
          "execution_count": 6
        }
      ]
    },
    {
      "cell_type": "code",
      "source": [
        "#new directories\n",
        "for col in columns_name:\n",
        "    directory = col\n",
        "    parent_dir = \"drive/MyDrive/eobuwie/\"\n",
        "    path = os.path.join(parent_dir, directory)\n",
        "    if not os.path.exists(path):\n",
        "        os.mkdir(path)"
      ],
      "metadata": {
        "id": "oWzInYfmvHmN"
      },
      "execution_count": null,
      "outputs": []
    },
    {
      "cell_type": "code",
      "source": [
        "for col in columns_name:\n",
        "    parent_dir = \"drive/MyDrive/eobuwie/\"\n",
        "    path = os.path.join(parent_dir, col)\n",
        "    for ind in df.image_link[df[col]==1].index:\n",
        "        url = df.image_link[ind]\n",
        "        filename = url.split('/')[-1]\n",
        "        completeName = os.path.join(path, filename)\n",
        "        r = requests.get(url, allow_redirects=True)\n",
        "        open(completeName, 'wb').write(r.content)"
      ],
      "metadata": {
        "colab": {
          "base_uri": "https://localhost:8080/",
          "height": 70
        },
        "id": "RHjTPIYmvcwi",
        "outputId": "456459cd-dd4d-4b40-ea95-3dea73097e8a"
      },
      "execution_count": null,
      "outputs": [
        {
          "output_type": "execute_result",
          "data": {
            "text/plain": [
              "'for col in columns_name:\\n    parent_dir = \"drive/MyDrive/eobuwie/\"\\n    path = os.path.join(parent_dir, col)\\n    for ind in df.image_link[df[col]==1].index:\\n        url = df.image_link[ind]\\n        filename = url.split(\\'/\\')[-1]\\n        completeName = os.path.join(path, filename)\\n        r = requests.get(url, allow_redirects=True)\\n        open(completeName, \\'wb\\').write(r.content)'"
            ],
            "application/vnd.google.colaboratory.intrinsic+json": {
              "type": "string"
            }
          },
          "metadata": {},
          "execution_count": 135
        }
      ]
    },
    {
      "cell_type": "markdown",
      "source": [
        "## Analyzing images"
      ],
      "metadata": {
        "id": "dmcJl5cJDGTZ"
      }
    },
    {
      "cell_type": "code",
      "source": [
        "import numpy as np\n",
        "import pandas as pd\n",
        "import matplotlib.pyplot as plt\n",
        "import seaborn\n",
        "import cv2\n",
        "from glob import glob"
      ],
      "metadata": {
        "id": "wwEYKk2dvdBJ"
      },
      "execution_count": null,
      "outputs": []
    },
    {
      "cell_type": "code",
      "source": [
        "columns_name"
      ],
      "metadata": {
        "colab": {
          "base_uri": "https://localhost:8080/"
        },
        "id": "bidcbkvkEzzh",
        "outputId": "0b1ba793-e261-4d19-a331-bce84b6b74d5"
      },
      "execution_count": null,
      "outputs": [
        {
          "output_type": "execute_result",
          "data": {
            "text/plain": [
              "Index(['klapki-i-sandaly', 'kozaki-i-inne', 'polbuty', 'sportowe'], dtype='object')"
            ]
          },
          "metadata": {},
          "execution_count": 12
        }
      ]
    },
    {
      "cell_type": "code",
      "source": [
        "df_all = pd.DataFrame()\n",
        "for col in columns_name:\n",
        "    globals()[f\"path_\"+col] = glob('/content/drive/MyDrive/eobuwie/{}/*.jpg'.format(col))\n",
        "    globals()[f\"df_\"+col] = pd.DataFrame(globals()[f\"path_\"+col], columns=['filepath'])\n",
        "    globals()[f\"df_\"+col]['category'] = col\n",
        "    df_all = pd.concat((df_all,globals()[f\"df_\"+col]), axis = 0)"
      ],
      "metadata": {
        "id": "ITkWwvZWDNVf"
      },
      "execution_count": null,
      "outputs": []
    },
    {
      "cell_type": "code",
      "source": [
        "df_all.category.value_counts()"
      ],
      "metadata": {
        "colab": {
          "base_uri": "https://localhost:8080/"
        },
        "id": "aGq3rTeGDNYT",
        "outputId": "0085bd2c-e89f-40eb-abd4-57cf2d1c0936"
      },
      "execution_count": null,
      "outputs": [
        {
          "output_type": "execute_result",
          "data": {
            "text/plain": [
              "klapki-i-sandaly    7276\n",
              "kozaki-i-inne       4325\n",
              "polbuty             3199\n",
              "sportowe            3043\n",
              "Name: category, dtype: int64"
            ]
          },
          "metadata": {},
          "execution_count": 14
        }
      ]
    },
    {
      "cell_type": "code",
      "source": [
        "df_all.drop_duplicates(keep='first', inplace=True)"
      ],
      "metadata": {
        "id": "hU7vvybgDNbP"
      },
      "execution_count": null,
      "outputs": []
    },
    {
      "cell_type": "code",
      "source": [
        "df_klapki = df_all[df_all['category']=='klapki-i-sandaly'].sample(2500)\n",
        "df_kozaki = df_all[df_all['category']=='kozaki-i-inne'].sample(2500)\n",
        "df_polbuty = df_all[df_all['category']=='polbuty'].sample(2500)\n",
        "df_sportowe = df_all[df_all['category']=='sportowe'].sample(2500)"
      ],
      "metadata": {
        "id": "m_h9pYFIDNei"
      },
      "execution_count": null,
      "outputs": []
    },
    {
      "cell_type": "code",
      "source": [
        "df_images = df_klapki.append(df_kozaki.append(df_polbuty.append(df_sportowe)))"
      ],
      "metadata": {
        "id": "aatc9oaUH3hl"
      },
      "execution_count": null,
      "outputs": []
    },
    {
      "cell_type": "code",
      "source": [
        "df_images.category.value_counts()"
      ],
      "metadata": {
        "colab": {
          "base_uri": "https://localhost:8080/"
        },
        "id": "lNBWI876IUZi",
        "outputId": "3cae4c31-3446-4a22-c46e-500c693a1575"
      },
      "execution_count": null,
      "outputs": [
        {
          "output_type": "execute_result",
          "data": {
            "text/plain": [
              "klapki-i-sandaly    2500\n",
              "kozaki-i-inne       2500\n",
              "polbuty             2500\n",
              "sportowe            2500\n",
              "Name: category, dtype: int64"
            ]
          },
          "metadata": {},
          "execution_count": 14
        }
      ]
    },
    {
      "cell_type": "code",
      "source": [
        "# return width of image\n",
        "def get_size(path):\n",
        "    img = cv2.imread(path)\n",
        "    return img.shape[0]\n",
        "\n",
        "df_images['dimension']=df_images['filepath'].apply(get_size)"
      ],
      "metadata": {
        "colab": {
          "base_uri": "https://localhost:8080/",
          "height": 36
        },
        "id": "NrY48ArnIZO3",
        "outputId": "7182f766-238f-4e8f-91b4-689361d66b4c"
      },
      "execution_count": 1,
      "outputs": [
        {
          "output_type": "execute_result",
          "data": {
            "text/plain": [
              "\"def get_size(path):\\n    img = cv2.imread(path)\\n    return img.shape[0]\\n\\ndf_images['dimension']=df_images['filepath'].apply(get_size)\""
            ],
            "application/vnd.google.colaboratory.intrinsic+json": {
              "type": "string"
            }
          },
          "metadata": {},
          "execution_count": 1
        }
      ]
    },
    {
      "cell_type": "code",
      "source": [
        "df_images.dimension.unique()"
      ],
      "metadata": {
        "colab": {
          "base_uri": "https://localhost:8080/"
        },
        "id": "lfTBrAYVIpLr",
        "outputId": "88445259-b6d0-4fbe-d603-fdb022530bb2"
      },
      "execution_count": null,
      "outputs": [
        {
          "output_type": "execute_result",
          "data": {
            "text/plain": [
              "array([300])"
            ]
          },
          "metadata": {},
          "execution_count": 157
        }
      ]
    },
    {
      "cell_type": "markdown",
      "source": [
        "## Resizing images to the same dimensions, gray and flattening, normalization"
      ],
      "metadata": {
        "id": "CilQvtH8JvtI"
      }
    },
    {
      "cell_type": "code",
      "source": [
        "#remember that with cv2 we got BGR NOT!!!RGB(this is in matplotlib)\n",
        "#this funcion flatten the image to one row, make image gray\n",
        "\n",
        "def transform_image(path):\n",
        "    try:\n",
        "        img = cv2.imread(path)\n",
        "        gray_img = cv2.cvtColor(img,cv2.COLOR_BGR2GRAY)\n",
        "        size = gray_img.shape[0]\n",
        "        if size >= 200:\n",
        "            gray_resized = cv2.resize(gray_img,(200,200), cv2.INTER_AREA) #we are shinking the image\n",
        "        else:\n",
        "            gray_resized = cv2.resize(gray_img,(200,200), cv2.INTER_CUBIC) #in this case we are enlarging\n",
        "        flatten_img = gray_resized.flatten() # it will be 200x200 = 40000, (1, 40 000)\n",
        "        return flatten_img\n",
        "    except:\n",
        "        return None"
      ],
      "metadata": {
        "id": "D-j6hdHXJfXn"
      },
      "execution_count": null,
      "outputs": []
    },
    {
      "cell_type": "code",
      "source": [
        "#transform to the same size\n",
        "\n",
        "def transform_image_arr(path):\n",
        "    try:\n",
        "        img = cv2.imread(path)\n",
        "        gray_img = cv2.cvtColor(img,cv2.COLOR_BGR2GRAY)\n",
        "        size = gray_img.shape[0]\n",
        "        if size >= 200:\n",
        "            gray_resized = cv2.resize(gray_img,(200,200), cv2.INTER_AREA) #we are shinking the image\n",
        "        else:\n",
        "            gray_resized = cv2.resize(gray_img,(200,200), cv2.INTER_CUBIC) #in this case we are enlarging\n",
        "\n",
        "        return gray_resized\n",
        "    except:\n",
        "        return None"
      ],
      "metadata": {
        "id": "qXcIYEBjJfr3"
      },
      "execution_count": null,
      "outputs": []
    },
    {
      "cell_type": "code",
      "source": [
        "#function resizing the image to 100x100, still in color\n",
        "\n",
        "def transform_image_color(path):\n",
        "    try:\n",
        "        img = cv2.imread(path)\n",
        "\n",
        "        size = img.shape[0]\n",
        "        if size >= 100:\n",
        "            img_resized = cv2.resize(img,(100,100), cv2.INTER_AREA) #we are shinking the image\n",
        "        else:\n",
        "            img_resized = cv2.resize(img,(100,100), cv2.INTER_CUBIC) #in this case we are enlarging\n",
        "\n",
        "        return img_resized\n",
        "    except:\n",
        "        return None"
      ],
      "metadata": {
        "id": "BQGmhVd5J8JM"
      },
      "execution_count": null,
      "outputs": []
    },
    {
      "cell_type": "code",
      "source": [
        "def read_image(path):\n",
        "  img = cv2.imread(path)\n",
        "  return img"
      ],
      "metadata": {
        "id": "dw9ZnrHcKZ3n"
      },
      "execution_count": null,
      "outputs": []
    },
    {
      "cell_type": "code",
      "source": [
        "df_images = df_images.reset_index(drop=True)"
      ],
      "metadata": {
        "id": "2VbL9wJWKLad"
      },
      "execution_count": null,
      "outputs": []
    },
    {
      "cell_type": "code",
      "source": [
        "df_images['image_flatten'] = df_images['filepath'].apply(transform_image)"
      ],
      "metadata": {
        "id": "ZGNyPOlQcOVJ"
      },
      "execution_count": null,
      "outputs": []
    },
    {
      "cell_type": "code",
      "source": [
        "df_images['arr_gray_resized'] = df_images['filepath'].apply(transform_image_arr)"
      ],
      "metadata": {
        "id": "X8d4M2CicSac"
      },
      "execution_count": null,
      "outputs": []
    },
    {
      "cell_type": "code",
      "source": [
        "df_images['color_img'] = df_images['filepath'].apply(read_image)\n",
        "df_images['color_img_resized'] = df_images['filepath'].apply(transform_image_color)"
      ],
      "metadata": {
        "id": "lEziK8oLcThL"
      },
      "execution_count": null,
      "outputs": []
    },
    {
      "cell_type": "code",
      "source": [
        "df_images.sample(2)"
      ],
      "metadata": {
        "colab": {
          "base_uri": "https://localhost:8080/",
          "height": 225
        },
        "id": "bYGpYegPPdYK",
        "outputId": "671a9541-ca2c-4423-d6f4-1b54dcd95dcc"
      },
      "execution_count": null,
      "outputs": [
        {
          "output_type": "execute_result",
          "data": {
            "text/plain": [
              "                                               filepath       category  \\\n",
              "5249  /content/drive/MyDrive/eobuwie/polbuty/0000300...        polbuty   \n",
              "2596  /content/drive/MyDrive/eobuwie/kozaki-i-inne/0...  kozaki-i-inne   \n",
              "\n",
              "                                          image_flatten  \\\n",
              "5249  [255, 255, 255, 255, 255, 254, 254, 254, 254, ...   \n",
              "2596  [255, 255, 255, 255, 255, 254, 254, 254, 254, ...   \n",
              "\n",
              "                                       arr_gray_resized  \\\n",
              "5249  [[255, 255, 255, 255, 255, 254, 254, 254, 254,...   \n",
              "2596  [[255, 255, 255, 255, 255, 254, 254, 254, 254,...   \n",
              "\n",
              "                                              color_img  \\\n",
              "5249  [[[255, 255, 255], [255, 255, 255], [255, 255,...   \n",
              "2596  [[[255, 255, 255], [255, 255, 255], [255, 255,...   \n",
              "\n",
              "                                      color_img_resized  \n",
              "5249  [[[255, 255, 255], [255, 255, 255], [255, 255,...  \n",
              "2596  [[[255, 255, 255], [255, 255, 255], [255, 255,...  "
            ],
            "text/html": [
              "\n",
              "  <div id=\"df-9ffe7735-e97f-47eb-bcb9-7e30852557e6\">\n",
              "    <div class=\"colab-df-container\">\n",
              "      <div>\n",
              "<style scoped>\n",
              "    .dataframe tbody tr th:only-of-type {\n",
              "        vertical-align: middle;\n",
              "    }\n",
              "\n",
              "    .dataframe tbody tr th {\n",
              "        vertical-align: top;\n",
              "    }\n",
              "\n",
              "    .dataframe thead th {\n",
              "        text-align: right;\n",
              "    }\n",
              "</style>\n",
              "<table border=\"1\" class=\"dataframe\">\n",
              "  <thead>\n",
              "    <tr style=\"text-align: right;\">\n",
              "      <th></th>\n",
              "      <th>filepath</th>\n",
              "      <th>category</th>\n",
              "      <th>image_flatten</th>\n",
              "      <th>arr_gray_resized</th>\n",
              "      <th>color_img</th>\n",
              "      <th>color_img_resized</th>\n",
              "    </tr>\n",
              "  </thead>\n",
              "  <tbody>\n",
              "    <tr>\n",
              "      <th>5249</th>\n",
              "      <td>/content/drive/MyDrive/eobuwie/polbuty/0000300...</td>\n",
              "      <td>polbuty</td>\n",
              "      <td>[255, 255, 255, 255, 255, 254, 254, 254, 254, ...</td>\n",
              "      <td>[[255, 255, 255, 255, 255, 254, 254, 254, 254,...</td>\n",
              "      <td>[[[255, 255, 255], [255, 255, 255], [255, 255,...</td>\n",
              "      <td>[[[255, 255, 255], [255, 255, 255], [255, 255,...</td>\n",
              "    </tr>\n",
              "    <tr>\n",
              "      <th>2596</th>\n",
              "      <td>/content/drive/MyDrive/eobuwie/kozaki-i-inne/0...</td>\n",
              "      <td>kozaki-i-inne</td>\n",
              "      <td>[255, 255, 255, 255, 255, 254, 254, 254, 254, ...</td>\n",
              "      <td>[[255, 255, 255, 255, 255, 254, 254, 254, 254,...</td>\n",
              "      <td>[[[255, 255, 255], [255, 255, 255], [255, 255,...</td>\n",
              "      <td>[[[255, 255, 255], [255, 255, 255], [255, 255,...</td>\n",
              "    </tr>\n",
              "  </tbody>\n",
              "</table>\n",
              "</div>\n",
              "      <button class=\"colab-df-convert\" onclick=\"convertToInteractive('df-9ffe7735-e97f-47eb-bcb9-7e30852557e6')\"\n",
              "              title=\"Convert this dataframe to an interactive table.\"\n",
              "              style=\"display:none;\">\n",
              "        \n",
              "  <svg xmlns=\"http://www.w3.org/2000/svg\" height=\"24px\"viewBox=\"0 0 24 24\"\n",
              "       width=\"24px\">\n",
              "    <path d=\"M0 0h24v24H0V0z\" fill=\"none\"/>\n",
              "    <path d=\"M18.56 5.44l.94 2.06.94-2.06 2.06-.94-2.06-.94-.94-2.06-.94 2.06-2.06.94zm-11 1L8.5 8.5l.94-2.06 2.06-.94-2.06-.94L8.5 2.5l-.94 2.06-2.06.94zm10 10l.94 2.06.94-2.06 2.06-.94-2.06-.94-.94-2.06-.94 2.06-2.06.94z\"/><path d=\"M17.41 7.96l-1.37-1.37c-.4-.4-.92-.59-1.43-.59-.52 0-1.04.2-1.43.59L10.3 9.45l-7.72 7.72c-.78.78-.78 2.05 0 2.83L4 21.41c.39.39.9.59 1.41.59.51 0 1.02-.2 1.41-.59l7.78-7.78 2.81-2.81c.8-.78.8-2.07 0-2.86zM5.41 20L4 18.59l7.72-7.72 1.47 1.35L5.41 20z\"/>\n",
              "  </svg>\n",
              "      </button>\n",
              "      \n",
              "  <style>\n",
              "    .colab-df-container {\n",
              "      display:flex;\n",
              "      flex-wrap:wrap;\n",
              "      gap: 12px;\n",
              "    }\n",
              "\n",
              "    .colab-df-convert {\n",
              "      background-color: #E8F0FE;\n",
              "      border: none;\n",
              "      border-radius: 50%;\n",
              "      cursor: pointer;\n",
              "      display: none;\n",
              "      fill: #1967D2;\n",
              "      height: 32px;\n",
              "      padding: 0 0 0 0;\n",
              "      width: 32px;\n",
              "    }\n",
              "\n",
              "    .colab-df-convert:hover {\n",
              "      background-color: #E2EBFA;\n",
              "      box-shadow: 0px 1px 2px rgba(60, 64, 67, 0.3), 0px 1px 3px 1px rgba(60, 64, 67, 0.15);\n",
              "      fill: #174EA6;\n",
              "    }\n",
              "\n",
              "    [theme=dark] .colab-df-convert {\n",
              "      background-color: #3B4455;\n",
              "      fill: #D2E3FC;\n",
              "    }\n",
              "\n",
              "    [theme=dark] .colab-df-convert:hover {\n",
              "      background-color: #434B5C;\n",
              "      box-shadow: 0px 1px 3px 1px rgba(0, 0, 0, 0.15);\n",
              "      filter: drop-shadow(0px 1px 2px rgba(0, 0, 0, 0.3));\n",
              "      fill: #FFFFFF;\n",
              "    }\n",
              "  </style>\n",
              "\n",
              "      <script>\n",
              "        const buttonEl =\n",
              "          document.querySelector('#df-9ffe7735-e97f-47eb-bcb9-7e30852557e6 button.colab-df-convert');\n",
              "        buttonEl.style.display =\n",
              "          google.colab.kernel.accessAllowed ? 'block' : 'none';\n",
              "\n",
              "        async function convertToInteractive(key) {\n",
              "          const element = document.querySelector('#df-9ffe7735-e97f-47eb-bcb9-7e30852557e6');\n",
              "          const dataTable =\n",
              "            await google.colab.kernel.invokeFunction('convertToInteractive',\n",
              "                                                     [key], {});\n",
              "          if (!dataTable) return;\n",
              "\n",
              "          const docLinkHtml = 'Like what you see? Visit the ' +\n",
              "            '<a target=\"_blank\" href=https://colab.research.google.com/notebooks/data_table.ipynb>data table notebook</a>'\n",
              "            + ' to learn more about interactive tables.';\n",
              "          element.innerHTML = '';\n",
              "          dataTable['output_type'] = 'display_data';\n",
              "          await google.colab.output.renderOutput(dataTable, element);\n",
              "          const docLink = document.createElement('div');\n",
              "          docLink.innerHTML = docLinkHtml;\n",
              "          element.appendChild(docLink);\n",
              "        }\n",
              "      </script>\n",
              "    </div>\n",
              "  </div>\n",
              "  "
            ]
          },
          "metadata": {},
          "execution_count": 29
        }
      ]
    },
    {
      "cell_type": "code",
      "source": [
        "vector_img = df_images['image_flatten'].apply(pd.Series)\n",
        "vector_img.columns = [f'pixel_{i}' for i in vector_img.columns]\n",
        "vector_img = vector_img/255. #normalization\n",
        "vector_img['category'] = df_images['category']\n",
        "vector_img.sample(5)\n"
      ],
      "metadata": {
        "colab": {
          "base_uri": "https://localhost:8080/",
          "height": 334
        },
        "id": "IiHHaO_EPdzF",
        "outputId": "02c7760e-b850-4f62-ec67-a2f4277826fb"
      },
      "execution_count": null,
      "outputs": [
        {
          "output_type": "execute_result",
          "data": {
            "text/plain": [
              "      pixel_0  pixel_1  pixel_2  pixel_3  pixel_4   pixel_5   pixel_6  \\\n",
              "5933      1.0      1.0      1.0      1.0      1.0  0.996078  0.996078   \n",
              "3944      1.0      1.0      1.0      1.0      1.0  0.996078  0.996078   \n",
              "2872      1.0      1.0      1.0      1.0      1.0  0.996078  0.996078   \n",
              "5136      1.0      1.0      1.0      1.0      1.0  0.996078  0.996078   \n",
              "7725      1.0      1.0      1.0      1.0      1.0  0.996078  0.996078   \n",
              "\n",
              "       pixel_7   pixel_8   pixel_9  ...  pixel_39991  pixel_39992  \\\n",
              "5933  0.996078  0.996078  0.996078  ...     0.996078          1.0   \n",
              "3944  0.996078  0.996078  0.996078  ...     0.996078          1.0   \n",
              "2872  0.996078  0.996078  0.996078  ...     0.996078          1.0   \n",
              "5136  0.996078  0.996078  0.996078  ...     0.996078          1.0   \n",
              "7725  0.996078  0.996078  0.996078  ...     0.996078          1.0   \n",
              "\n",
              "      pixel_39993  pixel_39994  pixel_39995  pixel_39996  pixel_39997  \\\n",
              "5933     0.996078     0.996078          1.0          1.0          1.0   \n",
              "3944     0.996078     0.996078          1.0          1.0          1.0   \n",
              "2872     0.996078     0.996078          1.0          1.0          1.0   \n",
              "5136     0.996078     0.996078          1.0          1.0          1.0   \n",
              "7725     0.996078     0.996078          1.0          1.0          1.0   \n",
              "\n",
              "      pixel_39998  pixel_39999       category  \n",
              "5933          1.0          1.0        polbuty  \n",
              "3944          1.0          1.0  kozaki-i-inne  \n",
              "2872          1.0          1.0  kozaki-i-inne  \n",
              "5136          1.0          1.0        polbuty  \n",
              "7725          1.0          1.0       sportowe  \n",
              "\n",
              "[5 rows x 40001 columns]"
            ],
            "text/html": [
              "\n",
              "  <div id=\"df-6ce5aa46-dd40-495c-b9ad-81b113bd8fa6\">\n",
              "    <div class=\"colab-df-container\">\n",
              "      <div>\n",
              "<style scoped>\n",
              "    .dataframe tbody tr th:only-of-type {\n",
              "        vertical-align: middle;\n",
              "    }\n",
              "\n",
              "    .dataframe tbody tr th {\n",
              "        vertical-align: top;\n",
              "    }\n",
              "\n",
              "    .dataframe thead th {\n",
              "        text-align: right;\n",
              "    }\n",
              "</style>\n",
              "<table border=\"1\" class=\"dataframe\">\n",
              "  <thead>\n",
              "    <tr style=\"text-align: right;\">\n",
              "      <th></th>\n",
              "      <th>pixel_0</th>\n",
              "      <th>pixel_1</th>\n",
              "      <th>pixel_2</th>\n",
              "      <th>pixel_3</th>\n",
              "      <th>pixel_4</th>\n",
              "      <th>pixel_5</th>\n",
              "      <th>pixel_6</th>\n",
              "      <th>pixel_7</th>\n",
              "      <th>pixel_8</th>\n",
              "      <th>pixel_9</th>\n",
              "      <th>...</th>\n",
              "      <th>pixel_39991</th>\n",
              "      <th>pixel_39992</th>\n",
              "      <th>pixel_39993</th>\n",
              "      <th>pixel_39994</th>\n",
              "      <th>pixel_39995</th>\n",
              "      <th>pixel_39996</th>\n",
              "      <th>pixel_39997</th>\n",
              "      <th>pixel_39998</th>\n",
              "      <th>pixel_39999</th>\n",
              "      <th>category</th>\n",
              "    </tr>\n",
              "  </thead>\n",
              "  <tbody>\n",
              "    <tr>\n",
              "      <th>5933</th>\n",
              "      <td>1.0</td>\n",
              "      <td>1.0</td>\n",
              "      <td>1.0</td>\n",
              "      <td>1.0</td>\n",
              "      <td>1.0</td>\n",
              "      <td>0.996078</td>\n",
              "      <td>0.996078</td>\n",
              "      <td>0.996078</td>\n",
              "      <td>0.996078</td>\n",
              "      <td>0.996078</td>\n",
              "      <td>...</td>\n",
              "      <td>0.996078</td>\n",
              "      <td>1.0</td>\n",
              "      <td>0.996078</td>\n",
              "      <td>0.996078</td>\n",
              "      <td>1.0</td>\n",
              "      <td>1.0</td>\n",
              "      <td>1.0</td>\n",
              "      <td>1.0</td>\n",
              "      <td>1.0</td>\n",
              "      <td>polbuty</td>\n",
              "    </tr>\n",
              "    <tr>\n",
              "      <th>3944</th>\n",
              "      <td>1.0</td>\n",
              "      <td>1.0</td>\n",
              "      <td>1.0</td>\n",
              "      <td>1.0</td>\n",
              "      <td>1.0</td>\n",
              "      <td>0.996078</td>\n",
              "      <td>0.996078</td>\n",
              "      <td>0.996078</td>\n",
              "      <td>0.996078</td>\n",
              "      <td>0.996078</td>\n",
              "      <td>...</td>\n",
              "      <td>0.996078</td>\n",
              "      <td>1.0</td>\n",
              "      <td>0.996078</td>\n",
              "      <td>0.996078</td>\n",
              "      <td>1.0</td>\n",
              "      <td>1.0</td>\n",
              "      <td>1.0</td>\n",
              "      <td>1.0</td>\n",
              "      <td>1.0</td>\n",
              "      <td>kozaki-i-inne</td>\n",
              "    </tr>\n",
              "    <tr>\n",
              "      <th>2872</th>\n",
              "      <td>1.0</td>\n",
              "      <td>1.0</td>\n",
              "      <td>1.0</td>\n",
              "      <td>1.0</td>\n",
              "      <td>1.0</td>\n",
              "      <td>0.996078</td>\n",
              "      <td>0.996078</td>\n",
              "      <td>0.996078</td>\n",
              "      <td>0.996078</td>\n",
              "      <td>0.996078</td>\n",
              "      <td>...</td>\n",
              "      <td>0.996078</td>\n",
              "      <td>1.0</td>\n",
              "      <td>0.996078</td>\n",
              "      <td>0.996078</td>\n",
              "      <td>1.0</td>\n",
              "      <td>1.0</td>\n",
              "      <td>1.0</td>\n",
              "      <td>1.0</td>\n",
              "      <td>1.0</td>\n",
              "      <td>kozaki-i-inne</td>\n",
              "    </tr>\n",
              "    <tr>\n",
              "      <th>5136</th>\n",
              "      <td>1.0</td>\n",
              "      <td>1.0</td>\n",
              "      <td>1.0</td>\n",
              "      <td>1.0</td>\n",
              "      <td>1.0</td>\n",
              "      <td>0.996078</td>\n",
              "      <td>0.996078</td>\n",
              "      <td>0.996078</td>\n",
              "      <td>0.996078</td>\n",
              "      <td>0.996078</td>\n",
              "      <td>...</td>\n",
              "      <td>0.996078</td>\n",
              "      <td>1.0</td>\n",
              "      <td>0.996078</td>\n",
              "      <td>0.996078</td>\n",
              "      <td>1.0</td>\n",
              "      <td>1.0</td>\n",
              "      <td>1.0</td>\n",
              "      <td>1.0</td>\n",
              "      <td>1.0</td>\n",
              "      <td>polbuty</td>\n",
              "    </tr>\n",
              "    <tr>\n",
              "      <th>7725</th>\n",
              "      <td>1.0</td>\n",
              "      <td>1.0</td>\n",
              "      <td>1.0</td>\n",
              "      <td>1.0</td>\n",
              "      <td>1.0</td>\n",
              "      <td>0.996078</td>\n",
              "      <td>0.996078</td>\n",
              "      <td>0.996078</td>\n",
              "      <td>0.996078</td>\n",
              "      <td>0.996078</td>\n",
              "      <td>...</td>\n",
              "      <td>0.996078</td>\n",
              "      <td>1.0</td>\n",
              "      <td>0.996078</td>\n",
              "      <td>0.996078</td>\n",
              "      <td>1.0</td>\n",
              "      <td>1.0</td>\n",
              "      <td>1.0</td>\n",
              "      <td>1.0</td>\n",
              "      <td>1.0</td>\n",
              "      <td>sportowe</td>\n",
              "    </tr>\n",
              "  </tbody>\n",
              "</table>\n",
              "<p>5 rows × 40001 columns</p>\n",
              "</div>\n",
              "      <button class=\"colab-df-convert\" onclick=\"convertToInteractive('df-6ce5aa46-dd40-495c-b9ad-81b113bd8fa6')\"\n",
              "              title=\"Convert this dataframe to an interactive table.\"\n",
              "              style=\"display:none;\">\n",
              "        \n",
              "  <svg xmlns=\"http://www.w3.org/2000/svg\" height=\"24px\"viewBox=\"0 0 24 24\"\n",
              "       width=\"24px\">\n",
              "    <path d=\"M0 0h24v24H0V0z\" fill=\"none\"/>\n",
              "    <path d=\"M18.56 5.44l.94 2.06.94-2.06 2.06-.94-2.06-.94-.94-2.06-.94 2.06-2.06.94zm-11 1L8.5 8.5l.94-2.06 2.06-.94-2.06-.94L8.5 2.5l-.94 2.06-2.06.94zm10 10l.94 2.06.94-2.06 2.06-.94-2.06-.94-.94-2.06-.94 2.06-2.06.94z\"/><path d=\"M17.41 7.96l-1.37-1.37c-.4-.4-.92-.59-1.43-.59-.52 0-1.04.2-1.43.59L10.3 9.45l-7.72 7.72c-.78.78-.78 2.05 0 2.83L4 21.41c.39.39.9.59 1.41.59.51 0 1.02-.2 1.41-.59l7.78-7.78 2.81-2.81c.8-.78.8-2.07 0-2.86zM5.41 20L4 18.59l7.72-7.72 1.47 1.35L5.41 20z\"/>\n",
              "  </svg>\n",
              "      </button>\n",
              "      \n",
              "  <style>\n",
              "    .colab-df-container {\n",
              "      display:flex;\n",
              "      flex-wrap:wrap;\n",
              "      gap: 12px;\n",
              "    }\n",
              "\n",
              "    .colab-df-convert {\n",
              "      background-color: #E8F0FE;\n",
              "      border: none;\n",
              "      border-radius: 50%;\n",
              "      cursor: pointer;\n",
              "      display: none;\n",
              "      fill: #1967D2;\n",
              "      height: 32px;\n",
              "      padding: 0 0 0 0;\n",
              "      width: 32px;\n",
              "    }\n",
              "\n",
              "    .colab-df-convert:hover {\n",
              "      background-color: #E2EBFA;\n",
              "      box-shadow: 0px 1px 2px rgba(60, 64, 67, 0.3), 0px 1px 3px 1px rgba(60, 64, 67, 0.15);\n",
              "      fill: #174EA6;\n",
              "    }\n",
              "\n",
              "    [theme=dark] .colab-df-convert {\n",
              "      background-color: #3B4455;\n",
              "      fill: #D2E3FC;\n",
              "    }\n",
              "\n",
              "    [theme=dark] .colab-df-convert:hover {\n",
              "      background-color: #434B5C;\n",
              "      box-shadow: 0px 1px 3px 1px rgba(0, 0, 0, 0.15);\n",
              "      filter: drop-shadow(0px 1px 2px rgba(0, 0, 0, 0.3));\n",
              "      fill: #FFFFFF;\n",
              "    }\n",
              "  </style>\n",
              "\n",
              "      <script>\n",
              "        const buttonEl =\n",
              "          document.querySelector('#df-6ce5aa46-dd40-495c-b9ad-81b113bd8fa6 button.colab-df-convert');\n",
              "        buttonEl.style.display =\n",
              "          google.colab.kernel.accessAllowed ? 'block' : 'none';\n",
              "\n",
              "        async function convertToInteractive(key) {\n",
              "          const element = document.querySelector('#df-6ce5aa46-dd40-495c-b9ad-81b113bd8fa6');\n",
              "          const dataTable =\n",
              "            await google.colab.kernel.invokeFunction('convertToInteractive',\n",
              "                                                     [key], {});\n",
              "          if (!dataTable) return;\n",
              "\n",
              "          const docLinkHtml = 'Like what you see? Visit the ' +\n",
              "            '<a target=\"_blank\" href=https://colab.research.google.com/notebooks/data_table.ipynb>data table notebook</a>'\n",
              "            + ' to learn more about interactive tables.';\n",
              "          element.innerHTML = '';\n",
              "          dataTable['output_type'] = 'display_data';\n",
              "          await google.colab.output.renderOutput(dataTable, element);\n",
              "          const docLink = document.createElement('div');\n",
              "          docLink.innerHTML = docLinkHtml;\n",
              "          element.appendChild(docLink);\n",
              "        }\n",
              "      </script>\n",
              "    </div>\n",
              "  </div>\n",
              "  "
            ]
          },
          "metadata": {},
          "execution_count": 20
        }
      ]
    },
    {
      "cell_type": "markdown",
      "source": [
        "## Eksport data"
      ],
      "metadata": {
        "id": "e2CszTeN0oWQ"
      }
    },
    {
      "cell_type": "code",
      "source": [
        "# whole data df_\n",
        "pickle.dump(df_images,open('/content/drive/MyDrive/eobuwie/data_img_df.pickle',mode='wb')) "
      ],
      "metadata": {
        "id": "kRzLIqG6Qv9D"
      },
      "execution_count": null,
      "outputs": []
    },
    {
      "cell_type": "code",
      "source": [
        "# flatten data with pixels as columns for standard ML models\n",
        "pickle.dump(vector_img,open('/content/drive/MyDrive/eobuwie/data_img_200_200.pickle',mode='wb')) "
      ],
      "metadata": {
        "id": "pnE9hlW-Q0no"
      },
      "execution_count": null,
      "outputs": []
    }
  ]
}